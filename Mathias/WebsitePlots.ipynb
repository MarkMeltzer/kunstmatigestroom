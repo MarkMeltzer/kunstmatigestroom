{
 "cells": [
  {
   "cell_type": "code",
   "execution_count": 1,
   "metadata": {},
   "outputs": [],
   "source": [
    "from bokeh.plotting import figure\n",
    "from bokeh.io import output_file, show, save\n",
    "from bokeh.models import LinearAxis, Range1d, ColumnDataSource, HoverTool, Title, Axis\n",
    "import pandas as pd"
   ]
  },
  {
   "cell_type": "code",
   "execution_count": 2,
   "metadata": {},
   "outputs": [],
   "source": [
    "# data voor gas en elk prijzen plot\n",
    "\n",
    "jaren = [2011, 2012, 2013, 2014, 2015, 2016, 2017]\n",
    "# bron: CBS\n",
    "elk_prijzen = [125, 128, 127, 128, 121, 115, 109]\n",
    "gas_prijzen = [10353, 11706, 12068, 11635, 10949, 9654, 9016]\n",
    "# bron: Belastingdienst\n",
    "elk_belasting = [0.1121, 0.1140, 0.1165, 0.1185, 0.1196, 0.1007, 0.1013]\n",
    "gas_belasting = [0.1639, 0.1667, 0.1862, 0.1894, 0.1911, 0.25168, 0.25244]"
   ]
  },
  {
   "cell_type": "code",
   "execution_count": 3,
   "metadata": {},
   "outputs": [
    {
     "data": {
      "text/plain": [
       "'C:\\\\Users\\\\Mathias\\\\Dropbox\\\\School\\\\Kunstmatige Intelligentie Jaar 1 2017-2018\\\\Periode 6\\\\repo\\\\kunstmatigestroom\\\\Mathias\\\\htmlplots\\\\gas_elk_prijzen.html'"
      ]
     },
     "execution_count": 3,
     "metadata": {},
     "output_type": "execute_result"
    }
   ],
   "source": [
    "output_file(\"htmlplots\\gas_elk_prijzen.html\")\n",
    "\n",
    "source = ColumnDataSource(dict(\n",
    "        x=jaren,\n",
    "        y=elk_prijzen,\n",
    "        y2=gas_prijzen\n",
    "    )\n",
    ")\n",
    "\n",
    "p = figure(plot_width=600, \n",
    "           plot_height=500, \n",
    "           y_range=(100, 137), \n",
    "           tools=\"\",\n",
    "           toolbar_location=\"below\",\n",
    "           title='Gas- en elektriciteitsprijzen excl. btw 2011-2017')\n",
    "\n",
    "p.title.text_color='white'\n",
    "p.background_fill_alpha = 0.5\n",
    "p.border_fill_alpha = 0.35\n",
    "\n",
    "p.extra_y_ranges = {\"foo\": Range1d(start=8600, end=12500)}\n",
    "\n",
    "elklijn = p.line(x='x', y='y', alpha=1, color='blue', line_width = 3, legend='Elektriciteitsprijzen', source=source)\n",
    "gaslijn = p.line(x='x', y='y2', alpha=1, color='olive', line_width = 3, legend='Gasprijzen', y_range_name=\"foo\", source=source)\n",
    "\n",
    "p.add_tools(HoverTool(renderers=[elklijn], tooltips=[('Stroomprijs',\"@y\")],mode='vline'))\n",
    "p.add_tools(HoverTool(renderers=[gaslijn], tooltips=[('Gasprijs',\"@y2\")],mode='vline'))\n",
    "\n",
    "p.yaxis.axis_label = \"Elektriciteitsprijzen (euro/kWh)\"\n",
    "p.add_layout(LinearAxis(y_range_name=\"foo\", axis_label='Gasprijzen(euro/GJ)'), 'left')\n",
    "\n",
    "p.legend.location = \"bottom_left\"\n",
    "p.legend.background_fill_alpha = 0.5\n",
    "\n",
    "# show the results\n",
    "save(p)"
   ]
  },
  {
   "cell_type": "code",
   "execution_count": 4,
   "metadata": {},
   "outputs": [],
   "source": [
    "# data voor energieverbruik plot\n",
    "data1 = pd.read_csv('../datasets/sicknieuwmapje/SuperLiander.csv', sep='\\t', low_memory=False)\n",
    "gas = data1[data1['PRODUCTSOORT'] == 'GAS']\n",
    "elk = data1[data1['PRODUCTSOORT'] == 'ELK']\n",
    "\n",
    "jaren = [2011, 2012, 2013, 2014, 2015, 2016, 2017]\n",
    "\n",
    "everb_list = []\n",
    "for jaar in jaren:\n",
    "    gem_verb = elk[elk['jaar'] == jaar ]['SJV'].mean()\n",
    "    everb_list.append(gem_verb)\n",
    "    \n",
    "gverb_list = []\n",
    "for jaar in jaren:\n",
    "    gem_verb = gas[gas['jaar'] == jaar ]['SJV'].mean()\n",
    "    gverb_list.append(gem_verb)"
   ]
  },
  {
   "cell_type": "code",
   "execution_count": 10,
   "metadata": {},
   "outputs": [
    {
     "data": {
      "text/plain": [
       "'C:\\\\Users\\\\Mathias\\\\dropbox\\\\school\\\\Kunstmatige Intelligentie Jaar 1 2017-2018\\\\Periode 6\\\\repo\\\\kunstmatigestroom\\\\Mathias\\\\htmlplots\\\\gas_elk_verbruik.html'"
      ]
     },
     "execution_count": 10,
     "metadata": {},
     "output_type": "execute_result"
    }
   ],
   "source": [
    "output_file(\"htmlplots\\gas_elk_verbruik.html\")\n",
    "\n",
    "source = ColumnDataSource(dict(\n",
    "        x=jaren,\n",
    "        y=everb_list,\n",
    "        y2=gverb_list\n",
    "    )\n",
    ")\n",
    "\n",
    "p = figure(plot_width=600, \n",
    "           plot_height=500, \n",
    "           y_range=(2440, 2650), \n",
    "           tools=\"\",\n",
    "           toolbar_location=\"below\",\n",
    "           title='Gem. Gas- en elektriciteitsverbruik Amsterdam 2011-2017')\n",
    "\n",
    "p.title.text_color='white'\n",
    "\n",
    "p.background_fill_alpha = 0.5\n",
    "p.border_fill_alpha = 0.35\n",
    "\n",
    "p.extra_y_ranges = {\"foo\": Range1d(start=1285, end=1505)}\n",
    "\n",
    "elklijn = p.line(x='x', y='y', alpha=1, color='blue', line_width = 3, legend='Elektriciteitverbruik', source=source)\n",
    "gaslijn = p.line(x='x', y='y2', alpha=1, color='olive', line_width = 3, legend='Gasverbruik', y_range_name=\"foo\", source=source)\n",
    "\n",
    "p.add_tools(HoverTool(renderers=[elklijn], tooltips=[('Stroomverbruik',\"@y{int}\")],mode='vline'))\n",
    "p.add_tools(HoverTool(renderers=[gaslijn], tooltips=[('Gasverbruik',\"@y2{int}\")],mode='vline'))\n",
    "\n",
    "p.yaxis.axis_label = \"Elektriciteitsverbruik (SJV)\"\n",
    "p.add_layout(LinearAxis(y_range_name=\"foo\", axis_label='Gasverbruik(SJV)'), 'left')\n",
    "\n",
    "p.legend.location = \"bottom_left\"\n",
    "p.legend.background_fill_alpha = 0.5\n",
    "\n",
    "# show the results\n",
    "save(p)"
   ]
  },
  {
   "cell_type": "code",
   "execution_count": 5,
   "metadata": {},
   "outputs": [],
   "source": [
    "# data voor inwonertal plot\n",
    "jaren = [2011, 2012, 2013, 2014, 2015, 2016, 2017]\n",
    "\n",
    "# bron OIS\n",
    "inwonertal = [790044, 799442, 811185, 822272, 834713, 844952, 854316]"
   ]
  },
  {
   "cell_type": "code",
   "execution_count": 6,
   "metadata": {},
   "outputs": [
    {
     "data": {
      "text/plain": [
       "'C:\\\\Users\\\\Mathias\\\\Dropbox\\\\School\\\\Kunstmatige Intelligentie Jaar 1 2017-2018\\\\Periode 6\\\\repo\\\\kunstmatigestroom\\\\Mathias\\\\htmlplots\\\\inwonertal.html'"
      ]
     },
     "execution_count": 6,
     "metadata": {},
     "output_type": "execute_result"
    }
   ],
   "source": [
    "output_file(\"htmlplots\\inwonertal.html\")\n",
    "\n",
    "source = ColumnDataSource(dict(\n",
    "        x=jaren,\n",
    "        y=inwonertal\n",
    "    )\n",
    ")\n",
    "\n",
    "p = figure(plot_width=600, \n",
    "           plot_height=500, \n",
    "           tools=\"\",\n",
    "           toolbar_location=\"below\",\n",
    "           title='Inwonertal Amsterdam 2011-2017')\n",
    "\n",
    "p.title.text_color='white'\n",
    "p.background_fill_alpha = 0.5\n",
    "p.border_fill_alpha = 0.35\n",
    "\n",
    "inwonertallijn = p.line(x='x', y='y', alpha=1, color='orange', line_width = 3, legend='Inwonertal', source=source)\n",
    "\n",
    "p.add_tools(HoverTool(renderers=[inwonertallijn], tooltips=[('Inwonertal',\"@y{int}\")],mode='vline'))\n",
    "\n",
    "p.yaxis.axis_label = \"Inwonertal\"\n",
    "\n",
    "p.legend.location = \"top_left\"\n",
    "p.legend.background_fill_alpha = 0.5\n",
    "\n",
    "# show the results\n",
    "save(p)"
   ]
  },
  {
   "cell_type": "code",
   "execution_count": 7,
   "metadata": {},
   "outputs": [],
   "source": [
    "# data voor temperatuur plot\n",
    "\n",
    "data1 = pd.read_csv('../datasets/sicknieuwmapje/SuperLiander.csv', sep='\\t', low_memory=False)\n",
    "gas = data1[data1['PRODUCTSOORT'] == 'GAS']\n",
    "elk = data1[data1['PRODUCTSOORT'] == 'ELK']\n",
    "\n",
    "jaren = [2011, 2012, 2013, 2014, 2015, 2016, 2017]\n",
    "\n",
    "everb_list = []\n",
    "for jaar in jaren:\n",
    "    gem_verb = elk[elk['jaar'] == jaar ]['SJV'].mean()\n",
    "    everb_list.append(gem_verb)\n",
    "    \n",
    "gverb_list = []\n",
    "for jaar in jaren:\n",
    "    gem_verb = gas[gas['jaar'] == jaar ]['SJV'].mean()\n",
    "    gverb_list.append(gem_verb)\n",
    "\n",
    "# bron KNMI\n",
    "temp_lijst = [10.9, 10.3, 9.8, 11.7, 10.9, 10.7, 11.0]"
   ]
  },
  {
   "cell_type": "code",
   "execution_count": 8,
   "metadata": {},
   "outputs": [
    {
     "data": {
      "text/plain": [
       "'C:\\\\Users\\\\Mathias\\\\Dropbox\\\\School\\\\Kunstmatige Intelligentie Jaar 1 2017-2018\\\\Periode 6\\\\repo\\\\kunstmatigestroom\\\\Mathias\\\\htmlplots\\\\jaartemperatuur.html'"
      ]
     },
     "execution_count": 8,
     "metadata": {},
     "output_type": "execute_result"
    }
   ],
   "source": [
    "output_file(\"htmlplots\\jaartemperatuur.html\")\n",
    "\n",
    "\n",
    "source = ColumnDataSource(dict(\n",
    "        x=jaren,\n",
    "        y=everb_list,\n",
    "        y2=gverb_list,\n",
    "        y3=temp_lijst\n",
    "    )\n",
    ")\n",
    "\n",
    "p = figure(plot_width=600, \n",
    "           plot_height=500, \n",
    "           y_range=(2440, 2650), \n",
    "           tools=\"\",\n",
    "           toolbar_location=\"below\",\n",
    "           title='Gem. verbruik en Jaartemperatuur Amsterdam 2011-2017')\n",
    "\n",
    "p.title.text_color='white'\n",
    "p.background_fill_alpha = 0.5\n",
    "p.border_fill_alpha = 0.35\n",
    "\n",
    "p.extra_y_ranges = {\"foo\": Range1d(start=1285, end=1505), \"bar\": Range1d(start=9, end=11.8)}\n",
    "\n",
    "elklijn = p.line(x='x', y='y', alpha=1, color='blue', line_width = 3, legend='Elektriciteitverbruik', source=source)\n",
    "gaslijn = p.line(x='x', y='y2', alpha=1, color='olive', line_width = 3, legend='Gasverbruik', y_range_name=\"foo\", source=source)\n",
    "templijn = p.line(x='x', y='y3', alpha=1, color='red', line_width = 3, legend='Temperatuur', y_range_name=\"bar\", source=source)\n",
    "\n",
    "p.add_tools(HoverTool(renderers=[elklijn], tooltips=[('Stroomverbruik',\"@y{int}\")],mode='vline'))\n",
    "p.add_tools(HoverTool(renderers=[gaslijn], tooltips=[('Gasverbruik',\"@y2{int}\")],mode='vline'))\n",
    "p.add_tools(HoverTool(renderers=[templijn], tooltips=[('Jaartemperatuur',\"@y3\")],mode='vline'))\n",
    "\n",
    "p.yaxis.axis_label = \"Elektriciteitsverbruik (SJV)\"\n",
    "p.add_layout(LinearAxis(y_range_name=\"foo\", axis_label='Gasverbruik(SJV)'), 'left')\n",
    "p.add_layout(LinearAxis(y_range_name=\"bar\", axis_label='Gem. Jaartemperatuur (Graden celsius)'), 'right')\n",
    "\n",
    "p.legend.location = \"bottom_left\"\n",
    "p.legend.background_fill_alpha = 0.5\n",
    "\n",
    "# show the results\n",
    "save(p)"
   ]
  },
  {
   "cell_type": "code",
   "execution_count": 2,
   "metadata": {},
   "outputs": [],
   "source": [
    "# data voor terugleverings plot\n",
    "jaren = ['2011', '2012', '2013', '2014', '2015', '2016', '2017']\n",
    "lev_perc = [1.47, 2.30, 3.72, 5.45, 7.30, 9.22, 10.92]\n",
    "niet_lev_perc = [98.53, 97.7, 96.28, 94.55, 92.7, 90.78, 89.08]\n",
    "\n",
    "d = {'lev_perc': [1.47, 2.30, 3.72, 5.45, 7.30, 9.22, 10.92], 'niet_lev_perc': [98.53, 97.7, 96.28, 94.55, 92.7, 90.78, 89.08]}\n",
    "df = pd.DataFrame(data=d)"
   ]
  },
  {
   "cell_type": "code",
   "execution_count": 4,
   "metadata": {},
   "outputs": [
    {
     "data": {
      "text/plain": [
       "'C:\\\\Users\\\\Mathias\\\\Dropbox\\\\School\\\\Kunstmatige Intelligentie Jaar 1 2017-2018\\\\Periode 6\\\\repo\\\\kunstmatigestroom\\\\Mathias\\\\htmlplots\\\\leveringsrichting.html'"
      ]
     },
     "execution_count": 4,
     "metadata": {},
     "output_type": "execute_result"
    }
   ],
   "source": [
    "output_file(\"htmlplots\\leveringsrichting.html\")\n",
    "\n",
    "source = ColumnDataSource(dict(\n",
    "        jaren=jaren,\n",
    "        lev_perc=lev_perc\n",
    "    )\n",
    ")        \n",
    "        \n",
    "p = figure(x_range=jaren, plot_width=600, plot_height=500, title=\"Fruit Counts by Year\")\n",
    "\n",
    "p = figure(x_range=jaren,\n",
    "           y_range=(-5, 125),\n",
    "           plot_width=600, \n",
    "           plot_height=500,\n",
    "           toolbar_location=\"below\",\n",
    "           title='Percentage postcodegebieden die stroom terugleveren')\n",
    "\n",
    "p.background_fill_alpha = 0.5\n",
    "p.border_fill_alpha = 0.35\n",
    "\n",
    "l = p.vbar(x='jaren', bottom=0, top='lev_perc', width=0.5, color='green', legend='Percentage teruglevering', source=source)\n",
    "g = p.vbar(x='jaren', bottom='lev_perc', top=100, width=0.5, color='palegreen', legend='Percentage geen teruglevering',source=source)\n",
    "\n",
    "p.add_tools(HoverTool(renderers=[l], tooltips=[('Percentage teruglevering',\"@lev_perc\")],mode='vline'))\n",
    "\n",
    "p.legend.location = \"top_left\"\n",
    "p.legend.background_fill_alpha = 0.5\n",
    "\n",
    "save(p)"
   ]
  },
  {
   "cell_type": "code",
   "execution_count": null,
   "metadata": {},
   "outputs": [],
   "source": [
    "# data voor terugleverings plot\n",
    "jaren = [2011, 2012, 2013, 2014, 2015, 2016, 2017]\n",
    "\n",
    "# bron: belastingdienst\n",
    "elk_belasting = [0.1121, 0.1140, 0.1165, 0.1185, 0.1196, 0.1007, 0.1013]\n",
    "gas_belasting = [0.1639, 0.1667, 0.1862, 0.1894, 0.1911, 0.25168, 0.25244]"
   ]
  },
  {
   "cell_type": "code",
   "execution_count": 54,
   "metadata": {},
   "outputs": [
    {
     "data": {
      "text/plain": [
       "'C:\\\\Users\\\\Mathias\\\\Dropbox\\\\School\\\\Kunstmatige Intelligentie Jaar 1 2017-2018\\\\Periode 6\\\\repo\\\\kunstmatigestroom\\\\Mathias\\\\htmlplots\\\\gas_elk_belasting.html'"
      ]
     },
     "execution_count": 54,
     "metadata": {},
     "output_type": "execute_result"
    }
   ],
   "source": [
    "output_file(\"htmlplots\\gas_elk_belasting.html\")\n",
    "\n",
    "source = ColumnDataSource(dict(\n",
    "        x=jaren,\n",
    "        y=elk_belasting,\n",
    "        y2=gas_belasting\n",
    "    )\n",
    ")\n",
    "\n",
    "p = figure(plot_width=600, \n",
    "           plot_height=500, \n",
    "           y_range=(0.05, 0.26), \n",
    "           tools=\"\",\n",
    "           toolbar_location=\"below\",\n",
    "           title='Milieubelastingen 2011-2017')\n",
    "\n",
    "p.title.text_color='white'\n",
    "\n",
    "p.background_fill_alpha = 0.5\n",
    "p.border_fill_alpha = 0.35\n",
    "\n",
    "p.extra_y_ranges = {\"foo\": Range1d(start=0.05, end=0.26)}\n",
    "\n",
    "elklijn = p.line(x='x', y='y', alpha=1, color='blue', line_width = 3, legend='Elektriciteits belasting', source=source)\n",
    "gaslijn = p.line(x='x', y='y2', alpha=1, color='olive', line_width = 3, legend='Gas belasting', y_range_name=\"foo\", source=source)\n",
    "\n",
    "p.add_tools(HoverTool(renderers=[elklijn], tooltips=[('Electricieteits belasting',\"@y\")],mode='vline'))\n",
    "p.add_tools(HoverTool(renderers=[gaslijn], tooltips=[('Gas belasting',\"@y2\")],mode='vline'))\n",
    "\n",
    "p.yaxis.axis_label = \"Elektriciteits belasting (euro/kWh)\"\n",
    "p.add_layout(LinearAxis(y_range_name=\"foo\", axis_label='Gas belasting(euro/m3)'), 'left')\n",
    "\n",
    "p.legend.location = \"bottom_left\"\n",
    "p.legend.background_fill_alpha = 0.5\n",
    "\n",
    "# show the results\n",
    "save(p)"
   ]
  },
  {
   "cell_type": "code",
   "execution_count": null,
   "metadata": {},
   "outputs": [],
   "source": []
  }
 ],
 "metadata": {
  "kernelspec": {
   "display_name": "Python 3",
   "language": "python",
   "name": "python3"
  },
  "language_info": {
   "codemirror_mode": {
    "name": "ipython",
    "version": 3
   },
   "file_extension": ".py",
   "mimetype": "text/x-python",
   "name": "python",
   "nbconvert_exporter": "python",
   "pygments_lexer": "ipython3",
   "version": "3.6.3"
  }
 },
 "nbformat": 4,
 "nbformat_minor": 2
}
