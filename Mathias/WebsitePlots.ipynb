{
 "cells": [
  {
   "cell_type": "code",
   "execution_count": 31,
   "metadata": {},
   "outputs": [],
   "source": [
    "from bokeh.plotting import figure\n",
    "from bokeh.io import output_file, show, save\n",
    "from bokeh.models import LinearAxis, Range1d\n",
    "import pandas as pd"
   ]
  },
  {
   "cell_type": "code",
   "execution_count": 21,
   "metadata": {},
   "outputs": [],
   "source": [
    "jaren = [2011, 2012, 2013, 2014, 2015, 2016, 2017]\n",
    "# bron: CBS\n",
    "elk_prijzen = [125, 128, 127, 128, 121, 115, 109]\n",
    "gas_prijzen = [10353, 11706, 12068, 11635, 10949, 9654, 9016]\n",
    "# bron: Belastingdienst\n",
    "elk_belasting = [0.1121, 0.1140, 0.1165, 0.1185, 0.1196, 0.1007, 0.1013]\n",
    "gas_belasting = [0.1639, 0.1667, 0.1862, 0.1894, 0.1911, 0.25168, 0.25244]"
   ]
  },
  {
   "cell_type": "code",
   "execution_count": 36,
   "metadata": {},
   "outputs": [
    {
     "data": {
      "text/plain": [
       "'C:\\\\Users\\\\Mathias\\\\Dropbox\\\\School\\\\Kunstmatige Intelligentie Jaar 1 2017-2018\\\\Periode 6\\\\repo\\\\kunstmatigestroom\\\\Mathias\\\\gas_elk_prijzen.html'"
      ]
     },
     "execution_count": 36,
     "metadata": {},
     "output_type": "execute_result"
    }
   ],
   "source": [
    "output_file(\"gas_elk_prijzen.html\")\n",
    "\n",
    "x=jaren\n",
    "y=elk_prijzen\n",
    "y2=gas_prijzen\n",
    "\n",
    "p = figure(plot_width=700, plot_height=600, y_range=(100, 137) , title='Gas- en elektriciteitsprijzen excl. btw 2011-2017')\n",
    "\n",
    "p.extra_y_ranges = {\"foo\": Range1d(start=8600, end=12500)}\n",
    "\n",
    "p.line(x, y, alpha=1, color='blue', line_width = 3, legend='Elektriciteitsprijzen')\n",
    "p.line(x, y2, alpha=1, color='olive', line_width = 3, legend='Gasprijzen', y_range_name=\"foo\")\n",
    "\n",
    "p.yaxis.axis_label = \"Elektriciteitsprijzen\"\n",
    "p.add_layout(LinearAxis(y_range_name=\"foo\", axis_label='Gasprijzen'), 'left')\n",
    "\n",
    "# show the results\n",
    "save(p)"
   ]
  },
  {
   "cell_type": "code",
   "execution_count": null,
   "metadata": {},
   "outputs": [],
   "source": []
  }
 ],
 "metadata": {
  "kernelspec": {
   "display_name": "Python 3",
   "language": "python",
   "name": "python3"
  },
  "language_info": {
   "codemirror_mode": {
    "name": "ipython",
    "version": 3
   },
   "file_extension": ".py",
   "mimetype": "text/x-python",
   "name": "python",
   "nbconvert_exporter": "python",
   "pygments_lexer": "ipython3",
   "version": "3.6.3"
  }
 },
 "nbformat": 4,
 "nbformat_minor": 2
}
