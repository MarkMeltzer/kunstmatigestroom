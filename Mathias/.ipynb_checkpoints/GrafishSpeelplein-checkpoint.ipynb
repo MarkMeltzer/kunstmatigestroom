{
 "cells": [
  {
   "cell_type": "code",
   "execution_count": 1,
   "metadata": {},
   "outputs": [],
   "source": [
    "from bokeh.plotting import figure\n",
    "from bokeh.io import output_file, show\n",
    "import pandas as pd"
   ]
  },
  {
   "cell_type": "code",
   "execution_count": 3,
   "metadata": {},
   "outputs": [],
   "source": [
    "data = pd.read_csv('../datasets/LianderTotaalBEWERKT.csv', sep='\\t', low_memory=False)"
   ]
  },
  {
   "cell_type": "code",
   "execution_count": 4,
   "metadata": {},
   "outputs": [],
   "source": [
    "gas = data[data['PRODUCTSOORT'] == 'GAS']\n",
    "elk = data[data['PRODUCTSOORT'] == 'ELK']"
   ]
  },
  {
   "cell_type": "code",
   "execution_count": 16,
   "metadata": {},
   "outputs": [
    {
     "name": "stderr",
     "output_type": "stream",
     "text": [
      "c:\\users\\mathias\\appdata\\local\\programs\\python\\python36-32\\lib\\site-packages\\bokeh\\models\\sources.py:110: BokehUserWarning: ColumnDataSource's columns must be of the same length. Current lengths: ('x', 92567), ('y', 94263)\n",
      "  \"Current lengths: %s\" % \", \".join(sorted(str((k, len(v))) for k, v in data.items())), BokehUserWarning))\n"
     ]
    }
   ],
   "source": [
    "elk_list = list(elk['SJV'])\n",
    "gas_list = list(gas['SJV'])\n",
    "#new_lev_list = []\n",
    "#for item in lev_list:\n",
    "#    new_lev_list.append(float(item.replace(',','.')))\n",
    "\n",
    "output_file(\"test.html\")\n",
    "f = figure(plot_width=600, plot_height=600)\n",
    "f.circle(gas_list, elk_list)\n",
    "show(f)"
   ]
  },
  {
   "cell_type": "code",
   "execution_count": 49,
   "metadata": {},
   "outputs": [],
   "source": [
    "from bokeh.io import show, output_file\n",
    "from bokeh.plotting import figure\n",
    "from bokeh.models import ColumnDataSource\n",
    "from bokeh.palettes import Spectral8\n",
    "\n",
    "output_file(\"bars.html\")\n",
    "\n",
    "wijken = ['Centrum', 'Noord', 'West', 'Nieuw-West', 'Zuid', 'Oost', 'Zuid-Oost', 'Westpoort']\n",
    "years = ['2011', '2012', '2013', '2014', '2015', '2016', '2017']\n",
    "counts = [5, 3, 4, 2, 4, 6, 1, 1]\n",
    "\n",
    "source = ColumnDataSource(data=dict(wijken=wijken, counts=counts, color=Spectral8))\n",
    "\n",
    "p = figure(x_range=wijken, plot_height=250, title=\"Stroom verbruik per wijk\",\n",
    "           toolbar_location=None, tools=\"\")\n",
    "\n",
    "p.vbar(x='wijken', top='counts', width=0.9, color='color', source=source)\n",
    "\n",
    "p.xgrid.grid_line_color = None\n",
    "p.y_range.start = 0\n",
    "\n",
    "show(p)"
   ]
  },
  {
   "cell_type": "code",
   "execution_count": 87,
   "metadata": {},
   "outputs": [
    {
     "data": {
      "text/html": [
       "<div>\n",
       "<style scoped>\n",
       "    .dataframe tbody tr th:only-of-type {\n",
       "        vertical-align: middle;\n",
       "    }\n",
       "\n",
       "    .dataframe tbody tr th {\n",
       "        vertical-align: top;\n",
       "    }\n",
       "\n",
       "    .dataframe thead th {\n",
       "        text-align: right;\n",
       "    }\n",
       "</style>\n",
       "<table border=\"1\" class=\"dataframe\">\n",
       "  <thead>\n",
       "    <tr style=\"text-align: right;\">\n",
       "      <th></th>\n",
       "      <th>POSTCODE_VAN</th>\n",
       "      <th>POSTCODE_TOT</th>\n",
       "      <th>PRODUCTSOORT</th>\n",
       "      <th>%Leveringsrichting</th>\n",
       "      <th>SJV</th>\n",
       "      <th>jaar</th>\n",
       "      <th>WIJKEN</th>\n",
       "    </tr>\n",
       "  </thead>\n",
       "  <tbody>\n",
       "  </tbody>\n",
       "</table>\n",
       "</div>"
      ],
      "text/plain": [
       "Empty DataFrame\n",
       "Columns: [POSTCODE_VAN, POSTCODE_TOT, PRODUCTSOORT, %Leveringsrichting, SJV, jaar, WIJKEN]\n",
       "Index: []"
      ]
     },
     "execution_count": 87,
     "metadata": {},
     "output_type": "execute_result"
    }
   ],
   "source": [
    "elk[(elk['WIJKEN'] == 'DRIEMOND') & (elk['jaar'] == 2015)]"
   ]
  },
  {
   "cell_type": "code",
   "execution_count": 70,
   "metadata": {
    "scrolled": true
   },
   "outputs": [
    {
     "data": {
      "text/plain": [
       "nan"
      ]
     },
     "execution_count": 70,
     "metadata": {},
     "output_type": "execute_result"
    }
   ],
   "source": [
    "elk[(elk['WIJKEN'] == 'ZUIDOOST') & (elk['jaar'] == 2011)]['SJV'].mean()"
   ]
  },
  {
   "cell_type": "code",
   "execution_count": 80,
   "metadata": {},
   "outputs": [],
   "source": [
    "wijken = ['CENTRUM', 'NOORD', 'WESTPOORT', 'WEST', 'NIEUW-WEST', 'ZUID', 'OOST', 'ZUIDOOST', 'DRIEMOND']\n",
    "years = ['2011', '2012', '2013', '2014', '2015', '2016', '2017']\n",
    "\n",
    "list_2011 = []\n",
    "for wijk in wijken:\n",
    "    list_2011.append(elk[(elk['WIJKEN'] == wijk) & (elk['jaar'] == 2011)]['SJV'].mean())\n",
    "list_2012 = []\n",
    "for wijk in wijken:\n",
    "    list_2012.append(elk[(elk['WIJKEN'] == wijk) & (elk['jaar'] == 2012)]['SJV'].mean())\n",
    "list_2013 = []\n",
    "for wijk in wijken:\n",
    "    list_2013.append(elk[(elk['WIJKEN'] == wijk) & (elk['jaar'] == 2013)]['SJV'].mean())\n",
    "list_2014 = []\n",
    "for wijk in wijken:\n",
    "    list_2014.append(elk[(elk['WIJKEN'] == wijk) & (elk['jaar'] == 2014)]['SJV'].mean())\n",
    "list_2015 = []\n",
    "for wijk in wijken:\n",
    "    list_2015.append(elk[(elk['WIJKEN'] == wijk) & (elk['jaar'] == 2015)]['SJV'].mean())\n",
    "list_2016 = []\n",
    "for wijk in wijken:\n",
    "    list_2016.append(elk[(elk['WIJKEN'] == wijk) & (elk['jaar'] == 2016)]['SJV'].mean())\n",
    "list_2017 = []\n",
    "for wijk in wijken:\n",
    "    list_2017.append(elk[(elk['WIJKEN'] == wijk) & (elk['jaar'] == 2017)]['SJV'].mean())"
   ]
  },
  {
   "cell_type": "code",
   "execution_count": 83,
   "metadata": {},
   "outputs": [
    {
     "data": {
      "text/plain": [
       "[2733.9812819058425,\n",
       " 2463.9755859375,\n",
       " 3645.25,\n",
       " 2214.7116074990026,\n",
       " 2454.4621676891616,\n",
       " 2530.4101503759398,\n",
       " 2419.6793388429751,\n",
       " 2634.1893617021278,\n",
       " 3038.5999999999999]"
      ]
     },
     "execution_count": 83,
     "metadata": {},
     "output_type": "execute_result"
    }
   ],
   "source": [
    "list_2017"
   ]
  },
  {
   "cell_type": "code",
   "execution_count": 94,
   "metadata": {},
   "outputs": [],
   "source": [
    "from bokeh.io import show, output_file\n",
    "from bokeh.models import ColumnDataSource, FactorRange\n",
    "from bokeh.plotting import figure\n",
    "\n",
    "output_file(\"bars.html\")\n",
    "\n",
    "data = {'wijken' : wijken,\n",
    "        '2011'   : list_2011,\n",
    "        '2012'   : list_2012,\n",
    "        '2013'   : list_2013,\n",
    "        '2014'   : list_2014,\n",
    "        '2015'   : list_2015,\n",
    "        '2016'   : list_2016,\n",
    "        '2017'   : list_2017}\n",
    "\n",
    "# this creates [ (\"Apples\", \"2015\"), (\"Apples\", \"2016\"), (\"Apples\", \"2017\"), (\"Pears\", \"2015), ... ]\n",
    "x = [ (wijk, year) for wijk in wijken for year in years ]\n",
    "counts = sum(zip(data['2011'], data['2012'], data['2013'], data['2014'], data['2015'], data['2016'], data['2017']), ()) # like an hstack\n",
    "\n",
    "source = ColumnDataSource(data=dict(x=x, counts=counts))\n",
    "\n",
    "p = figure(x_range=FactorRange(*x), plot_height=500, plot_width = 1200, title=\"Stroomverbruik per gebied\")\n",
    "\n",
    "p.vbar(x='x', top='counts', width=0.9, source=source)\n",
    "\n",
    "p.y_range.start = 0\n",
    "p.x_range.range_padding = 0.1\n",
    "p.xaxis.major_label_orientation = 1\n",
    "p.xgrid.grid_line_color = None\n",
    "\n",
    "show(p)"
   ]
  },
  {
   "cell_type": "code",
   "execution_count": null,
   "metadata": {},
   "outputs": [],
   "source": []
  }
 ],
 "metadata": {
  "kernelspec": {
   "display_name": "Python 3",
   "language": "python",
   "name": "python3"
  },
  "language_info": {
   "codemirror_mode": {
    "name": "ipython",
    "version": 3
   },
   "file_extension": ".py",
   "mimetype": "text/x-python",
   "name": "python",
   "nbconvert_exporter": "python",
   "pygments_lexer": "ipython3",
   "version": "3.6.3"
  }
 },
 "nbformat": 4,
 "nbformat_minor": 2
}
