{
 "cells": [
  {
   "cell_type": "code",
   "execution_count": 14,
   "metadata": {},
   "outputs": [],
   "source": [
    "import pandas as pd\n",
    "import numpy as np\n",
    "import matplotlib"
   ]
  },
  {
   "cell_type": "code",
   "execution_count": 55,
   "metadata": {},
   "outputs": [],
   "source": [
    "# read data\n",
    "data = pd.read_csv('../datasets/Liander_kleinverbruiksgegevens_01012017.csv', sep='\\t', encoding='cp1252')\n",
    "\n",
    "# Filter all data using box and whiskerplot\n",
    "Q1 = data['SJV'].quantile(0.25)\n",
    "Q3 = data['SJV'].quantile(0.75)\n",
    "IQR = Q3 - Q1\n",
    "\n",
    "filtered_data = data.query('(@Q1 - 1.5 * @IQR) <= SJV <= (@Q3 + 1.5 * @IQR)')\n",
    "\n",
    "# Filter all data with SJV under 450\n",
    "filtered_data_2 = filtered_data.query('450 <= SJV')"
   ]
  },
  {
   "cell_type": "code",
   "execution_count": 56,
   "metadata": {},
   "outputs": [],
   "source": [
    "# Write to CSV\n",
    "filtered_data_2.to_csv('../datasets/Liander_kleinverbruiksgegevens_01012017_FILTERED.csv', sep='\\t', index=False)"
   ]
  },
  {
   "cell_type": "code",
   "execution_count": 46,
   "metadata": {},
   "outputs": [
    {
     "name": "stdout",
     "output_type": "stream",
     "text": [
      "count    259219.000000\n",
      "mean       3132.250209\n",
      "std        2991.600122\n",
      "min           0.000000\n",
      "25%        1506.000000\n",
      "50%        2418.000000\n",
      "75%        3563.000000\n",
      "max       54017.000000\n",
      "Name: SJV, dtype: float64\n"
     ]
    },
    {
     "data": {
      "text/plain": [
       "<matplotlib.axes._subplots.AxesSubplot at 0x14fe48b0>"
      ]
     },
     "execution_count": 46,
     "metadata": {},
     "output_type": "execute_result"
    },
    {
     "data": {
      "image/png": "[encoded data removed]",
      "text/plain": [
       "<matplotlib.figure.Figure at 0xffde330>"
      ]
     },
     "metadata": {},
     "output_type": "display_data"
    }
   ],
   "source": [
    "# Visualize raw-data\n",
    "print(data['SJV'].describe())\n",
    "data['SJV'].hist(figsize=[10,5], bins=1000)"
   ]
  },
  {
   "cell_type": "code",
   "execution_count": 47,
   "metadata": {},
   "outputs": [
    {
     "name": "stdout",
     "output_type": "stream",
     "text": [
      "count    240571.000000\n",
      "mean       2487.205594\n",
      "std        1295.416836\n",
      "min           0.000000\n",
      "25%        1460.000000\n",
      "50%        2264.000000\n",
      "75%        3273.000000\n",
      "max        6648.000000\n",
      "Name: SJV, dtype: float64\n"
     ]
    },
    {
     "data": {
      "text/plain": [
       "<matplotlib.axes._subplots.AxesSubplot at 0x145299d0>"
      ]
     },
     "execution_count": 47,
     "metadata": {},
     "output_type": "execute_result"
    },
    {
     "data": {
      "image/png": "[encoded data removed]",
      "text/plain": [
       "<matplotlib.figure.Figure at 0x15009330>"
      ]
     },
     "metadata": {},
     "output_type": "display_data"
    }
   ],
   "source": [
    "# Visualize box and whisker filtered data\n",
    "print(filtered_data['SJV'].describe())\n",
    "filtered_data['SJV'].hist(figsize=[10,5], bins=1000)"
   ]
  },
  {
   "cell_type": "code",
   "execution_count": 48,
   "metadata": {},
   "outputs": [
    {
     "name": "stdout",
     "output_type": "stream",
     "text": [
      "count    236893.000000\n",
      "mean       2524.005260\n",
      "std        1270.980991\n",
      "min         450.000000\n",
      "25%        1487.000000\n",
      "50%        2295.000000\n",
      "75%        3290.000000\n",
      "max        6648.000000\n",
      "Name: SJV, dtype: float64\n"
     ]
    },
    {
     "data": {
      "text/plain": [
       "<matplotlib.axes._subplots.AxesSubplot at 0x16049050>"
      ]
     },
     "execution_count": 48,
     "metadata": {},
     "output_type": "execute_result"
    },
    {
     "data": {
      "image/png": "[encoded data removed]",
      "text/plain": [
       "<matplotlib.figure.Figure at 0x1603ebd0>"
      ]
     },
     "metadata": {},
     "output_type": "display_data"
    }
   ],
   "source": [
    "# Visualize data with low outliers filtered\n",
    "print(filtered_data_2['SJV'].describe())\n",
    "filtered_data_2['SJV'].hist(figsize=[10,5], bins=1000)"
   ]
  },
  {
   "cell_type": "code",
   "execution_count": 49,
   "metadata": {},
   "outputs": [
    {
     "name": "stdout",
     "output_type": "stream",
     "text": [
      "22326\n"
     ]
    }
   ],
   "source": [
    "# Totaal weggefilterde datapunten\n",
    "print(data['SJV'].count()-filtered_data_2['SJV'].count())"
   ]
  },
  {
   "cell_type": "code",
   "execution_count": null,
   "metadata": {},
   "outputs": [],
   "source": []
  }
 ],
 "metadata": {
  "kernelspec": {
   "display_name": "Python 3",
   "language": "python",
   "name": "python3"
  },
  "language_info": {
   "codemirror_mode": {
    "name": "ipython",
    "version": 3
   },
   "file_extension": ".py",
   "mimetype": "text/x-python",
   "name": "python",
   "nbconvert_exporter": "python",
   "pygments_lexer": "ipython3",
   "version": "3.6.3"
  }
 },
 "nbformat": 4,
 "nbformat_minor": 2
}
