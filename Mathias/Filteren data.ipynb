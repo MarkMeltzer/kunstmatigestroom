{
 "cells": [
  {
   "cell_type": "code",
   "execution_count": 2,
   "metadata": {},
   "outputs": [],
   "source": [
    "import pandas as pd\n",
    "import numpy as np\n",
    "import matplotlib"
   ]
  },
  {
   "cell_type": "code",
   "execution_count": 5,
   "metadata": {},
   "outputs": [],
   "source": [
    "# read data\n",
    "data = pd.read_csv('../datasets/LIANDERNIEUW2017.csv', sep='\\t')\n",
    "\n",
    "# Filter all data using box and whiskerplot\n",
    "Q1 = data['SJV'].quantile(0.25)\n",
    "Q3 = data['SJV'].quantile(0.75)\n",
    "IQR = Q3 - Q1\n",
    "\n",
    "filtered_data = data.query('(@Q1 - 1.5 * @IQR) <= SJV <= (@Q3 + 1.5 * @IQR)')\n",
    "\n",
    "# Filter all data with SJV under 450\n",
    "filtered_data_2 = filtered_data.query('450 <= SJV')"
   ]
  },
  {
   "cell_type": "code",
   "execution_count": 6,
   "metadata": {},
   "outputs": [],
   "source": [
    "# Write to CSV\n",
    "filtered_data_2.to_csv('../datasets/Liander2017BEWERKT_FILTERED_NIEUW.csv', sep='\\t', index=False)"
   ]
  },
  {
   "cell_type": "code",
   "execution_count": 26,
   "metadata": {},
   "outputs": [
    {
     "name": "stdout",
     "output_type": "stream",
     "text": [
      "count    29251.000000\n",
      "mean      2557.837852\n",
      "std       2679.591311\n",
      "min          7.000000\n",
      "25%       1249.000000\n",
      "50%       1884.000000\n",
      "75%       2843.000000\n",
      "max      54766.000000\n",
      "Name: SJV, dtype: float64\n"
     ]
    },
    {
     "data": {
      "text/plain": [
       "<matplotlib.axes._subplots.AxesSubplot at 0xeb6d630>"
      ]
     },
     "execution_count": 26,
     "metadata": {},
     "output_type": "execute_result"
    },
    {
     "data": {
      "image/png": "[encoded data removed]",
      "text/plain": [
       "<matplotlib.figure.Figure at 0xeb6fe10>"
      ]
     },
     "metadata": {},
     "output_type": "display_data"
    }
   ],
   "source": [
    "# Visualize raw-data\n",
    "print(data['SJV'].describe())\n",
    "data['SJV'].hist(figsize=[10,5], bins=1000)"
   ]
  },
  {
   "cell_type": "code",
   "execution_count": 27,
   "metadata": {},
   "outputs": [
    {
     "name": "stdout",
     "output_type": "stream",
     "text": [
      "count    26978.000000\n",
      "mean      1979.735006\n",
      "std       1048.917519\n",
      "min          7.000000\n",
      "25%       1212.000000\n",
      "50%       1767.500000\n",
      "75%       2539.000000\n",
      "max       5234.000000\n",
      "Name: SJV, dtype: float64\n"
     ]
    },
    {
     "data": {
      "text/plain": [
       "<matplotlib.axes._subplots.AxesSubplot at 0xeb73d70>"
      ]
     },
     "execution_count": 27,
     "metadata": {},
     "output_type": "execute_result"
    },
    {
     "data": {
      "image/png": "[encoded data removed]",
      "text/plain": [
       "<matplotlib.figure.Figure at 0x9ac8b90>"
      ]
     },
     "metadata": {},
     "output_type": "display_data"
    }
   ],
   "source": [
    "# Visualize box and whisker filtered data\n",
    "print(filtered_data['SJV'].describe())\n",
    "filtered_data['SJV'].hist(figsize=[10,5], bins=1000)"
   ]
  },
  {
   "cell_type": "code",
   "execution_count": 28,
   "metadata": {},
   "outputs": [
    {
     "name": "stdout",
     "output_type": "stream",
     "text": [
      "count    25945.000000\n",
      "mean      2053.854076\n",
      "std       1000.050037\n",
      "min        450.000000\n",
      "25%       1261.000000\n",
      "50%       1818.000000\n",
      "75%       2576.000000\n",
      "max       5234.000000\n",
      "Name: SJV, dtype: float64\n"
     ]
    },
    {
     "data": {
      "text/plain": [
       "<matplotlib.axes._subplots.AxesSubplot at 0xe97d770>"
      ]
     },
     "execution_count": 28,
     "metadata": {},
     "output_type": "execute_result"
    },
    {
     "data": {
      "image/png": "[encoded data removed]",
      "text/plain": [
       "<matplotlib.figure.Figure at 0x65f2cb0>"
      ]
     },
     "metadata": {},
     "output_type": "display_data"
    }
   ],
   "source": [
    "# Visualize data with low outliers filtered\n",
    "print(filtered_data_2['SJV'].describe())\n",
    "filtered_data_2['SJV'].hist(figsize=[10,5], bins=1000)"
   ]
  },
  {
   "cell_type": "code",
   "execution_count": 29,
   "metadata": {},
   "outputs": [
    {
     "name": "stdout",
     "output_type": "stream",
     "text": [
      "3306\n"
     ]
    }
   ],
   "source": [
    "# Totaal weggefilterde datapunten\n",
    "print(data['SJV'].count()-filtered_data_2['SJV'].count())"
   ]
  },
  {
   "cell_type": "code",
   "execution_count": 25,
   "metadata": {},
   "outputs": [],
   "source": [
    "# read data\n",
    "data = pd.read_csv('../datasets/Liander2017BEWERKT.csv', sep='\\t')"
   ]
  },
  {
   "cell_type": "code",
   "execution_count": 29,
   "metadata": {},
   "outputs": [],
   "source": [
    "test = data.rename(columns={'%Leveringsrichting':'Leveringsrichting'})"
   ]
  },
  {
   "cell_type": "code",
   "execution_count": 31,
   "metadata": {},
   "outputs": [],
   "source": [
    "test2 = test.query('Leveringsrichting < 100')"
   ]
  },
  {
   "cell_type": "code",
   "execution_count": 32,
   "metadata": {},
   "outputs": [
    {
     "data": {
      "text/html": [
       "<div>\n",
       "<style scoped>\n",
       "    .dataframe tbody tr th:only-of-type {\n",
       "        vertical-align: middle;\n",
       "    }\n",
       "\n",
       "    .dataframe tbody tr th {\n",
       "        vertical-align: top;\n",
       "    }\n",
       "\n",
       "    .dataframe thead th {\n",
       "        text-align: right;\n",
       "    }\n",
       "</style>\n",
       "<table border=\"1\" class=\"dataframe\">\n",
       "  <thead>\n",
       "    <tr style=\"text-align: right;\">\n",
       "      <th></th>\n",
       "      <th>POSTCODE_VAN</th>\n",
       "      <th>POSTCODE_TOT</th>\n",
       "      <th>Aantal Aansluitingen</th>\n",
       "      <th>Leveringsrichting</th>\n",
       "      <th>%Fysieke status</th>\n",
       "      <th>%Soort aansluiting</th>\n",
       "      <th>SJV</th>\n",
       "      <th>%SJV laag tarief</th>\n",
       "      <th>%Slimme Meter</th>\n",
       "      <th>Gemiddeld aantal telwielen</th>\n",
       "    </tr>\n",
       "  </thead>\n",
       "  <tbody>\n",
       "    <tr>\n",
       "      <th>count</th>\n",
       "      <td>1881.000000</td>\n",
       "      <td>1881.000000</td>\n",
       "      <td>1881.000000</td>\n",
       "      <td>1881.000000</td>\n",
       "      <td>1881.000000</td>\n",
       "      <td>1881.000000</td>\n",
       "      <td>1881.000000</td>\n",
       "      <td>1881.000000</td>\n",
       "      <td>1881.000000</td>\n",
       "      <td>1768.000000</td>\n",
       "    </tr>\n",
       "    <tr>\n",
       "      <th>mean</th>\n",
       "      <td>1061.691122</td>\n",
       "      <td>1061.695375</td>\n",
       "      <td>35.473153</td>\n",
       "      <td>90.293046</td>\n",
       "      <td>89.540356</td>\n",
       "      <td>66.514088</td>\n",
       "      <td>3836.321637</td>\n",
       "      <td>41.397746</td>\n",
       "      <td>35.519266</td>\n",
       "      <td>1.155543</td>\n",
       "    </tr>\n",
       "    <tr>\n",
       "      <th>std</th>\n",
       "      <td>26.049314</td>\n",
       "      <td>26.046894</td>\n",
       "      <td>30.656495</td>\n",
       "      <td>9.602987</td>\n",
       "      <td>13.517348</td>\n",
       "      <td>17.950432</td>\n",
       "      <td>2768.742667</td>\n",
       "      <td>29.390622</td>\n",
       "      <td>30.106570</td>\n",
       "      <td>0.302719</td>\n",
       "    </tr>\n",
       "    <tr>\n",
       "      <th>min</th>\n",
       "      <td>1011.000000</td>\n",
       "      <td>1011.000000</td>\n",
       "      <td>10.000000</td>\n",
       "      <td>3.260000</td>\n",
       "      <td>0.000000</td>\n",
       "      <td>23.000000</td>\n",
       "      <td>601.000000</td>\n",
       "      <td>0.000000</td>\n",
       "      <td>0.000000</td>\n",
       "      <td>1.000000</td>\n",
       "    </tr>\n",
       "    <tr>\n",
       "      <th>25%</th>\n",
       "      <td>1035.000000</td>\n",
       "      <td>1035.000000</td>\n",
       "      <td>20.000000</td>\n",
       "      <td>88.240000</td>\n",
       "      <td>86.490000</td>\n",
       "      <td>52.000000</td>\n",
       "      <td>2346.000000</td>\n",
       "      <td>16.670000</td>\n",
       "      <td>10.140000</td>\n",
       "      <td>1.000000</td>\n",
       "    </tr>\n",
       "    <tr>\n",
       "      <th>50%</th>\n",
       "      <td>1066.000000</td>\n",
       "      <td>1066.000000</td>\n",
       "      <td>27.000000</td>\n",
       "      <td>93.100000</td>\n",
       "      <td>93.910000</td>\n",
       "      <td>64.000000</td>\n",
       "      <td>3099.000000</td>\n",
       "      <td>33.330000</td>\n",
       "      <td>25.000000</td>\n",
       "      <td>1.100000</td>\n",
       "    </tr>\n",
       "    <tr>\n",
       "      <th>75%</th>\n",
       "      <td>1081.000000</td>\n",
       "      <td>1081.000000</td>\n",
       "      <td>41.000000</td>\n",
       "      <td>95.830000</td>\n",
       "      <td>98.780000</td>\n",
       "      <td>82.000000</td>\n",
       "      <td>4217.000000</td>\n",
       "      <td>65.630000</td>\n",
       "      <td>60.000000</td>\n",
       "      <td>1.200000</td>\n",
       "    </tr>\n",
       "    <tr>\n",
       "      <th>max</th>\n",
       "      <td>1109.000000</td>\n",
       "      <td>1109.000000</td>\n",
       "      <td>487.000000</td>\n",
       "      <td>99.760000</td>\n",
       "      <td>100.000000</td>\n",
       "      <td>100.000000</td>\n",
       "      <td>35315.000000</td>\n",
       "      <td>100.000000</td>\n",
       "      <td>100.000000</td>\n",
       "      <td>4.000000</td>\n",
       "    </tr>\n",
       "  </tbody>\n",
       "</table>\n",
       "</div>"
      ],
      "text/plain": [
       "       POSTCODE_VAN  POSTCODE_TOT  Aantal Aansluitingen  Leveringsrichting  \\\n",
       "count   1881.000000   1881.000000           1881.000000        1881.000000   \n",
       "mean    1061.691122   1061.695375             35.473153          90.293046   \n",
       "std       26.049314     26.046894             30.656495           9.602987   \n",
       "min     1011.000000   1011.000000             10.000000           3.260000   \n",
       "25%     1035.000000   1035.000000             20.000000          88.240000   \n",
       "50%     1066.000000   1066.000000             27.000000          93.100000   \n",
       "75%     1081.000000   1081.000000             41.000000          95.830000   \n",
       "max     1109.000000   1109.000000            487.000000          99.760000   \n",
       "\n",
       "       %Fysieke status  %Soort aansluiting           SJV  %SJV laag tarief  \\\n",
       "count      1881.000000         1881.000000   1881.000000       1881.000000   \n",
       "mean         89.540356           66.514088   3836.321637         41.397746   \n",
       "std          13.517348           17.950432   2768.742667         29.390622   \n",
       "min           0.000000           23.000000    601.000000          0.000000   \n",
       "25%          86.490000           52.000000   2346.000000         16.670000   \n",
       "50%          93.910000           64.000000   3099.000000         33.330000   \n",
       "75%          98.780000           82.000000   4217.000000         65.630000   \n",
       "max         100.000000          100.000000  35315.000000        100.000000   \n",
       "\n",
       "       %Slimme Meter  Gemiddeld aantal telwielen  \n",
       "count    1881.000000                 1768.000000  \n",
       "mean       35.519266                    1.155543  \n",
       "std        30.106570                    0.302719  \n",
       "min         0.000000                    1.000000  \n",
       "25%        10.140000                    1.000000  \n",
       "50%        25.000000                    1.100000  \n",
       "75%        60.000000                    1.200000  \n",
       "max       100.000000                    4.000000  "
      ]
     },
     "execution_count": 32,
     "metadata": {},
     "output_type": "execute_result"
    }
   ],
   "source": [
    "test2.describe()"
   ]
  },
  {
   "cell_type": "code",
   "execution_count": 33,
   "metadata": {},
   "outputs": [
    {
     "data": {
      "text/html": [
       "<div>\n",
       "<style scoped>\n",
       "    .dataframe tbody tr th:only-of-type {\n",
       "        vertical-align: middle;\n",
       "    }\n",
       "\n",
       "    .dataframe tbody tr th {\n",
       "        vertical-align: top;\n",
       "    }\n",
       "\n",
       "    .dataframe thead th {\n",
       "        text-align: right;\n",
       "    }\n",
       "</style>\n",
       "<table border=\"1\" class=\"dataframe\">\n",
       "  <thead>\n",
       "    <tr style=\"text-align: right;\">\n",
       "      <th></th>\n",
       "      <th>POSTCODE_VAN</th>\n",
       "      <th>POSTCODE_TOT</th>\n",
       "      <th>Aantal Aansluitingen</th>\n",
       "      <th>%Leveringsrichting</th>\n",
       "      <th>%Fysieke status</th>\n",
       "      <th>%Soort aansluiting</th>\n",
       "      <th>SJV</th>\n",
       "      <th>%SJV laag tarief</th>\n",
       "      <th>%Slimme Meter</th>\n",
       "      <th>Gemiddeld aantal telwielen</th>\n",
       "    </tr>\n",
       "  </thead>\n",
       "  <tbody>\n",
       "    <tr>\n",
       "      <th>count</th>\n",
       "      <td>31661.000000</td>\n",
       "      <td>31661.000000</td>\n",
       "      <td>31661.000000</td>\n",
       "      <td>31661.000000</td>\n",
       "      <td>31661.000000</td>\n",
       "      <td>31661.000000</td>\n",
       "      <td>31661.000000</td>\n",
       "      <td>31661.00000</td>\n",
       "      <td>31661.000000</td>\n",
       "      <td>15227.000000</td>\n",
       "    </tr>\n",
       "    <tr>\n",
       "      <th>mean</th>\n",
       "      <td>1059.084078</td>\n",
       "      <td>1059.085942</td>\n",
       "      <td>28.591548</td>\n",
       "      <td>99.423304</td>\n",
       "      <td>92.397841</td>\n",
       "      <td>81.439121</td>\n",
       "      <td>2377.674173</td>\n",
       "      <td>18.02842</td>\n",
       "      <td>29.503013</td>\n",
       "      <td>1.098358</td>\n",
       "    </tr>\n",
       "    <tr>\n",
       "      <th>std</th>\n",
       "      <td>27.902675</td>\n",
       "      <td>27.902619</td>\n",
       "      <td>21.419965</td>\n",
       "      <td>3.277423</td>\n",
       "      <td>17.183214</td>\n",
       "      <td>19.684261</td>\n",
       "      <td>2583.349777</td>\n",
       "      <td>28.21110</td>\n",
       "      <td>31.586177</td>\n",
       "      <td>0.225505</td>\n",
       "    </tr>\n",
       "    <tr>\n",
       "      <th>min</th>\n",
       "      <td>1011.000000</td>\n",
       "      <td>1011.000000</td>\n",
       "      <td>10.000000</td>\n",
       "      <td>3.260000</td>\n",
       "      <td>0.000000</td>\n",
       "      <td>19.000000</td>\n",
       "      <td>3.000000</td>\n",
       "      <td>0.00000</td>\n",
       "      <td>0.000000</td>\n",
       "      <td>1.000000</td>\n",
       "    </tr>\n",
       "    <tr>\n",
       "      <th>25%</th>\n",
       "      <td>1033.000000</td>\n",
       "      <td>1033.000000</td>\n",
       "      <td>18.000000</td>\n",
       "      <td>100.000000</td>\n",
       "      <td>93.020000</td>\n",
       "      <td>67.000000</td>\n",
       "      <td>1113.000000</td>\n",
       "      <td>0.00000</td>\n",
       "      <td>4.350000</td>\n",
       "      <td>1.000000</td>\n",
       "    </tr>\n",
       "    <tr>\n",
       "      <th>50%</th>\n",
       "      <td>1063.000000</td>\n",
       "      <td>1063.000000</td>\n",
       "      <td>24.000000</td>\n",
       "      <td>100.000000</td>\n",
       "      <td>100.000000</td>\n",
       "      <td>89.000000</td>\n",
       "      <td>1732.000000</td>\n",
       "      <td>0.00000</td>\n",
       "      <td>15.790000</td>\n",
       "      <td>1.000000</td>\n",
       "    </tr>\n",
       "    <tr>\n",
       "      <th>75%</th>\n",
       "      <td>1078.000000</td>\n",
       "      <td>1078.000000</td>\n",
       "      <td>33.000000</td>\n",
       "      <td>100.000000</td>\n",
       "      <td>100.000000</td>\n",
       "      <td>100.000000</td>\n",
       "      <td>2662.000000</td>\n",
       "      <td>25.93000</td>\n",
       "      <td>50.000000</td>\n",
       "      <td>1.100000</td>\n",
       "    </tr>\n",
       "    <tr>\n",
       "      <th>max</th>\n",
       "      <td>1109.000000</td>\n",
       "      <td>1111.000000</td>\n",
       "      <td>669.000000</td>\n",
       "      <td>100.000000</td>\n",
       "      <td>100.000000</td>\n",
       "      <td>100.000000</td>\n",
       "      <td>50396.000000</td>\n",
       "      <td>100.00000</td>\n",
       "      <td>100.000000</td>\n",
       "      <td>4.000000</td>\n",
       "    </tr>\n",
       "  </tbody>\n",
       "</table>\n",
       "</div>"
      ],
      "text/plain": [
       "       POSTCODE_VAN  POSTCODE_TOT  Aantal Aansluitingen  %Leveringsrichting  \\\n",
       "count  31661.000000  31661.000000          31661.000000        31661.000000   \n",
       "mean    1059.084078   1059.085942             28.591548           99.423304   \n",
       "std       27.902675     27.902619             21.419965            3.277423   \n",
       "min     1011.000000   1011.000000             10.000000            3.260000   \n",
       "25%     1033.000000   1033.000000             18.000000          100.000000   \n",
       "50%     1063.000000   1063.000000             24.000000          100.000000   \n",
       "75%     1078.000000   1078.000000             33.000000          100.000000   \n",
       "max     1109.000000   1111.000000            669.000000          100.000000   \n",
       "\n",
       "       %Fysieke status  %Soort aansluiting           SJV  %SJV laag tarief  \\\n",
       "count     31661.000000        31661.000000  31661.000000       31661.00000   \n",
       "mean         92.397841           81.439121   2377.674173          18.02842   \n",
       "std          17.183214           19.684261   2583.349777          28.21110   \n",
       "min           0.000000           19.000000      3.000000           0.00000   \n",
       "25%          93.020000           67.000000   1113.000000           0.00000   \n",
       "50%         100.000000           89.000000   1732.000000           0.00000   \n",
       "75%         100.000000          100.000000   2662.000000          25.93000   \n",
       "max         100.000000          100.000000  50396.000000         100.00000   \n",
       "\n",
       "       %Slimme Meter  Gemiddeld aantal telwielen  \n",
       "count   31661.000000                15227.000000  \n",
       "mean       29.503013                    1.098358  \n",
       "std        31.586177                    0.225505  \n",
       "min         0.000000                    1.000000  \n",
       "25%         4.350000                    1.000000  \n",
       "50%        15.790000                    1.000000  \n",
       "75%        50.000000                    1.100000  \n",
       "max       100.000000                    4.000000  "
      ]
     },
     "execution_count": 33,
     "metadata": {},
     "output_type": "execute_result"
    }
   ],
   "source": [
    "data.describe()"
   ]
  },
  {
   "cell_type": "code",
   "execution_count": null,
   "metadata": {},
   "outputs": [],
   "source": []
  }
 ],
 "metadata": {
  "kernelspec": {
   "display_name": "Python 3",
   "language": "python",
   "name": "python3"
  },
  "language_info": {
   "codemirror_mode": {
    "name": "ipython",
    "version": 3
   },
   "file_extension": ".py",
   "mimetype": "text/x-python",
   "name": "python",
   "nbconvert_exporter": "python",
   "pygments_lexer": "ipython3",
   "version": "3.6.3"
  }
 },
 "nbformat": 4,
 "nbformat_minor": 2
}
