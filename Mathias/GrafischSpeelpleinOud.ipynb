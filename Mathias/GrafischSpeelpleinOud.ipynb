{
 "cells": [
  {
   "cell_type": "code",
   "execution_count": 1,
   "metadata": {},
   "outputs": [],
   "source": [
    "from bokeh.plotting import figure\n",
    "from bokeh.io import output_file, show\n",
    "import pandas as pd"
   ]
  },
  {
   "cell_type": "code",
   "execution_count": 2,
   "metadata": {},
   "outputs": [],
   "source": [
    "data = pd.read_csv('../datasets/LianderTotaalBEWERKT.csv', sep='\\t', low_memory=False)"
   ]
  },
  {
   "cell_type": "code",
   "execution_count": 3,
   "metadata": {},
   "outputs": [],
   "source": [
    "gas = data[data['PRODUCTSOORT'] == 'GAS']\n",
    "elk = data[data['PRODUCTSOORT'] == 'ELK']"
   ]
  },
  {
   "cell_type": "code",
   "execution_count": 4,
   "metadata": {},
   "outputs": [
    {
     "name": "stderr",
     "output_type": "stream",
     "text": [
      "c:\\users\\mathias\\appdata\\local\\programs\\python\\python36-32\\lib\\site-packages\\bokeh\\models\\sources.py:110: BokehUserWarning: ColumnDataSource's columns must be of the same length. Current lengths: ('x', 92567), ('y', 94263)\n",
      "  \"Current lengths: %s\" % \", \".join(sorted(str((k, len(v))) for k, v in data.items())), BokehUserWarning))\n"
     ]
    }
   ],
   "source": [
    "elk_list = list(elk['SJV'])\n",
    "gas_list = list(gas['SJV'])\n",
    "#new_lev_list = []\n",
    "#for item in lev_list:\n",
    "#    new_lev_list.append(float(item.replace(',','.')))\n",
    "\n",
    "output_file(\"test.html\")\n",
    "f = figure(plot_width=600, plot_height=600)\n",
    "f.circle(gas_list, elk_list)\n",
    "show(f)"
   ]
  },
  {
   "cell_type": "code",
   "execution_count": null,
   "metadata": {},
   "outputs": [],
   "source": []
  },
  {
   "cell_type": "code",
   "execution_count": 87,
   "metadata": {},
   "outputs": [
    {
     "data": {
      "text/html": [
       "<div>\n",
       "<style scoped>\n",
       "    .dataframe tbody tr th:only-of-type {\n",
       "        vertical-align: middle;\n",
       "    }\n",
       "\n",
       "    .dataframe tbody tr th {\n",
       "        vertical-align: top;\n",
       "    }\n",
       "\n",
       "    .dataframe thead th {\n",
       "        text-align: right;\n",
       "    }\n",
       "</style>\n",
       "<table border=\"1\" class=\"dataframe\">\n",
       "  <thead>\n",
       "    <tr style=\"text-align: right;\">\n",
       "      <th></th>\n",
       "      <th>POSTCODE_VAN</th>\n",
       "      <th>POSTCODE_TOT</th>\n",
       "      <th>PRODUCTSOORT</th>\n",
       "      <th>%Leveringsrichting</th>\n",
       "      <th>SJV</th>\n",
       "      <th>jaar</th>\n",
       "      <th>WIJKEN</th>\n",
       "    </tr>\n",
       "  </thead>\n",
       "  <tbody>\n",
       "  </tbody>\n",
       "</table>\n",
       "</div>"
      ],
      "text/plain": [
       "Empty DataFrame\n",
       "Columns: [POSTCODE_VAN, POSTCODE_TOT, PRODUCTSOORT, %Leveringsrichting, SJV, jaar, WIJKEN]\n",
       "Index: []"
      ]
     },
     "execution_count": 87,
     "metadata": {},
     "output_type": "execute_result"
    }
   ],
   "source": [
    "elk[(elk['WIJKEN'] == 'DRIEMOND') & (elk['jaar'] == 2015)]"
   ]
  },
  {
   "cell_type": "code",
   "execution_count": 70,
   "metadata": {
    "scrolled": true
   },
   "outputs": [
    {
     "data": {
      "text/plain": [
       "nan"
      ]
     },
     "execution_count": 70,
     "metadata": {},
     "output_type": "execute_result"
    }
   ],
   "source": [
    "elk[(elk['WIJKEN'] == 'ZUIDOOST') & (elk['jaar'] == 2011)]['SJV'].mean()"
   ]
  },
  {
   "cell_type": "code",
   "execution_count": 5,
   "metadata": {},
   "outputs": [],
   "source": [
    "wijken = ['CENTRUM', 'NOORD', 'WESTPOORT', 'WEST', 'NIEUW-WEST', 'ZUID', 'OOST', 'ZUIDOOST', 'DRIEMOND']\n",
    "years = ['2011', '2012', '2013', '2014', '2015', '2016', '2017']"
   ]
  },
  {
   "cell_type": "code",
   "execution_count": 6,
   "metadata": {},
   "outputs": [],
   "source": [
    "# Gemiddelde SJV per wijk per jaar (postcode gebied)\n",
    "\n",
    "list_2011 = []\n",
    "for wijk in wijken:\n",
    "    list_2011.append(gas[(gas['WIJKEN'] == wijk) & (gas['jaar'] == 2011)]['SJV'].mean())\n",
    "list_2012 = []\n",
    "for wijk in wijken:\n",
    "    list_2012.append(gas[(gas['WIJKEN'] == wijk) & (gas['jaar'] == 2012)]['SJV'].mean())\n",
    "list_2013 = []\n",
    "for wijk in wijken:\n",
    "    list_2013.append(gas[(gas['WIJKEN'] == wijk) & (gas['jaar'] == 2013)]['SJV'].mean())\n",
    "list_2014 = []\n",
    "for wijk in wijken:\n",
    "    list_2014.append(gas[(gas['WIJKEN'] == wijk) & (gas['jaar'] == 2014)]['SJV'].mean())\n",
    "list_2015 = []\n",
    "for wijk in wijken:\n",
    "    list_2015.append(gas[(gas['WIJKEN'] == wijk) & (gas['jaar'] == 2015)]['SJV'].mean())\n",
    "list_2016 = []\n",
    "for wijk in wijken:\n",
    "    list_2016.append(gas[(gas['WIJKEN'] == wijk) & (gas['jaar'] == 2016)]['SJV'].mean())\n",
    "list_2017 = []\n",
    "for wijk in wijken:\n",
    "    list_2017.append(gas[(gas['WIJKEN'] == wijk) & (gas['jaar'] == 2017)]['SJV'].mean())"
   ]
  },
  {
   "cell_type": "code",
   "execution_count": 32,
   "metadata": {},
   "outputs": [
    {
     "data": {
      "text/plain": [
       "[1770.2400581959264,\n",
       " 1492.5138361367335,\n",
       " 2790.8888888888887,\n",
       " 1245.0899280575541,\n",
       " 1375.8397017707362,\n",
       " 1612.7587399154822,\n",
       " 1342.7325373134329,\n",
       " nan,\n",
       " nan]"
      ]
     },
     "execution_count": 32,
     "metadata": {},
     "output_type": "execute_result"
    }
   ],
   "source": [
    "list_2011"
   ]
  },
  {
   "cell_type": "code",
   "execution_count": 34,
   "metadata": {},
   "outputs": [],
   "source": [
    "# Gemiddelde SJV per wijk per jaar (per persoon)\n",
    "\n",
    "bevolking = { 'CENTRUM': 86422,\n",
    "             'NOORD': 94766,\n",
    "             'WESTPOORT': 192,\n",
    "             'WEST': 143842,\n",
    "             'NIEUW-WEST': 151677,\n",
    "             'ZUID': 144432,\n",
    "             'OOST': 135767,\n",
    "             'ZUIDOOST': 87854,\n",
    "             'DRIEMOND': 1500}\n",
    "\n",
    "\n",
    "list_2011 = []\n",
    "for wijk in wijken:\n",
    "    row = gas[(gas['WIJKEN'] == wijk) & (gas['jaar'] == 2011)]['SJV']\n",
    "    list_2011.append(row.values.sum()/bevolking[wijk])\n",
    "list_2012 = []\n",
    "for wijk in wijken:\n",
    "    row = gas[(gas['WIJKEN'] == wijk) & (gas['jaar'] == 2012)]['SJV']\n",
    "    list_2012.append(row.values.sum()/bevolking[wijk])\n",
    "list_2013 = []\n",
    "for wijk in wijken:\n",
    "    row = gas[(gas['WIJKEN'] == wijk) & (gas['jaar'] == 2013)]['SJV']\n",
    "    list_2013.append(row.values.sum()/bevolking[wijk])\n",
    "list_2014 = []\n",
    "for wijk in wijken:\n",
    "    row = gas[(gas['WIJKEN'] == wijk) & (gas['jaar'] == 2014)]['SJV']\n",
    "    list_2014.append(row.values.sum()/bevolking[wijk])\n",
    "list_2015 = []\n",
    "for wijk in wijken:\n",
    "    row = gas[(gas['WIJKEN'] == wijk) & (gas['jaar'] == 2015)]['SJV']\n",
    "    list_2015.append(row.values.sum()/bevolking[wijk])\n",
    "list_2016 = []\n",
    "for wijk in wijken:\n",
    "    row = gas[(gas['WIJKEN'] == wijk) & (gas['jaar'] == 2016)]['SJV']\n",
    "    list_2016.append(row.values.sum()/bevolking[wijk])\n",
    "list_2017 = []\n",
    "for wijk in wijken:\n",
    "    row = gas[(gas['WIJKEN'] == wijk) & (gas['jaar'] == 2017)]['SJV']\n",
    "    list_2017.append(row.values.sum()/bevolking[wijk])"
   ]
  },
  {
   "cell_type": "code",
   "execution_count": 35,
   "metadata": {},
   "outputs": [],
   "source": [
    "from bokeh.io import show, output_file\n",
    "from bokeh.models import ColumnDataSource, FactorRange\n",
    "from bokeh.plotting import figure\n",
    "\n",
    "output_file(\"bars.html\")\n",
    "\n",
    "data = {'wijken' : wijken,\n",
    "        '2011'   : list_2011,\n",
    "        '2012'   : list_2012,\n",
    "        '2013'   : list_2013,\n",
    "        '2014'   : list_2014,\n",
    "        '2015'   : list_2015,\n",
    "        '2016'   : list_2016,\n",
    "        '2017'   : list_2017}\n",
    "\n",
    "# this creates [ (\"Apples\", \"2015\"), (\"Apples\", \"2016\"), (\"Apples\", \"2017\"), (\"Pears\", \"2015), ... ]\n",
    "x = [ (wijk, year) for wijk in wijken for year in years ]\n",
    "counts = sum(zip(data['2011'], data['2012'], data['2013'], data['2014'], data['2015'], data['2016'], data['2017']), ()) # like an hstack\n",
    "\n",
    "source = ColumnDataSource(data=dict(x=x, counts=counts))\n",
    "\n",
    "p = figure(x_range=FactorRange(*x), plot_height=500, plot_width = 1200, title=\"Gemiddeld gasverbruik per postcodegebied stadsdeel per jaar\")\n",
    "\n",
    "p.vbar(x='x', top='counts', width=0.9, source=source)\n",
    "\n",
    "p.y_range.start = 0\n",
    "p.x_range.range_padding = 0.1\n",
    "p.xaxis.major_label_orientation = 1\n",
    "p.xgrid.grid_line_color = None\n",
    "\n",
    "show(p)"
   ]
  },
  {
   "cell_type": "code",
   "execution_count": 105,
   "metadata": {},
   "outputs": [],
   "source": [
    "everb_list = []\n",
    "for year in years:\n",
    "    gem_verb = elk[elk['jaar'] == int(year) ]['SJV'].mean()\n",
    "    everb_list.append(gem_verb)\n",
    "    \n",
    "gverb_list = []\n",
    "for year in years:\n",
    "    gem_verb = gas[gas['jaar'] == int(year) ]['SJV'].mean()\n",
    "    gverb_list.append(gem_verb)\n",
    "    \n",
    "temp_list = [10.9, 10.3, 9.8, 11.7, 10.9, 10.7, 11.0]\n",
    "years=['2011', '2012', '2013', '2014', '2015', '2016', '2017']"
   ]
  },
  {
   "cell_type": "code",
   "execution_count": 111,
   "metadata": {},
   "outputs": [],
   "source": [
    "from bokeh.io import show, output_file\n",
    "from bokeh.models import ColumnDataSource\n",
    "from bokeh.plotting import figure\n",
    "from bokeh.sampledata.commits import data\n",
    "from bokeh.transform import jitter\n",
    "from bokeh.models import HoverTool\n",
    "from bokeh.models import LinearAxis, Range1d\n",
    "\n",
    "# output to static HTML file\n",
    "output_file(\"line.html\")\n",
    "\n",
    "x=years\n",
    "y=everb_list\n",
    "y2=temp_list\n",
    "y3=gverb_list\n",
    "\n",
    "p = figure(plot_width=700, plot_height=700, y_range=(2440, 2650), title='Gemiddeld jaarverbruik per postcodegebied en gemiddelde jaartemperatuur')\n",
    "\n",
    "# add a circle renderer with a size, color, and alpha\n",
    "p.line(x, y, alpha=0.5, color='red', line_width = 3, legend='Gemiddeld jaarstroomverbruik')\n",
    "\n",
    "p.extra_y_ranges = {\"foo\": Range1d(start=9.5, end=12), \"bar\": Range1d(start=1285, end=1505)}\n",
    "\n",
    "p.line(x, y2, alpha=0.5, color='blue', line_width = 3, legend='Gemiddelde jaartemperatuur', y_range_name=\"foo\")\n",
    "p.line(x, y3, alpha=0.5, color='green', line_width = 3, legend='Gemiddeld jaargasverbruik', y_range_name=\"bar\")\n",
    "\n",
    "p.yaxis.axis_label = \"Gemiddeld jaarstroomverbruik per postcodegebied\"\n",
    "\n",
    "p.add_layout(LinearAxis(y_range_name=\"foo\", axis_label='Gemiddelde jaartemperatuur'), 'right')\n",
    "p.add_layout(LinearAxis(y_range_name=\"bar\", axis_label='Gemiddelde jaargasverbruik'), 'left')\n",
    "\n",
    "p.legend.location = \"bottom_left\"\n",
    "\n",
    "# show the results\n",
    "show(p)"
   ]
  },
  {
   "cell_type": "code",
   "execution_count": 109,
   "metadata": {},
   "outputs": [
    {
     "data": {
      "text/plain": [
       "[1476.0704334967702,\n",
       " 1442.7477687233218,\n",
       " 1412.9544575891132,\n",
       " 1405.992756415196,\n",
       " 1357.8721995534684,\n",
       " 1314.4832820219087,\n",
       " 1314.4832820219087]"
      ]
     },
     "execution_count": 109,
     "metadata": {},
     "output_type": "execute_result"
    }
   ],
   "source": [
    "gverb_list"
   ]
  },
  {
   "cell_type": "code",
   "execution_count": 118,
   "metadata": {
    "scrolled": true
   },
   "outputs": [
    {
     "name": "stdout",
     "output_type": "stream",
     "text": [
      "                SJV     jaar\n",
      "count  28169.000000  28169.0\n",
      "mean    1897.588164   2016.0\n",
      "std      961.014874      0.0\n",
      "min      450.000000   2016.0\n",
      "25%     1126.000000   2016.0\n",
      "50%     1677.000000   2016.0\n",
      "75%     2419.000000   2016.0\n",
      "max     4984.000000   2016.0\n",
      "                SJV     jaar\n",
      "count  28169.000000  28169.0\n",
      "mean    1897.588164   2017.0\n",
      "std      961.014874      0.0\n",
      "min      450.000000   2017.0\n",
      "25%     1126.000000   2017.0\n",
      "50%     1677.000000   2017.0\n",
      "75%     2419.000000   2017.0\n",
      "max     4984.000000   2017.0\n"
     ]
    }
   ],
   "source": [
    "print(data[data['jaar']==2016].describe())\n",
    "print(data[data['jaar']==2017].describe())"
   ]
  },
  {
   "cell_type": "code",
   "execution_count": 6,
   "metadata": {},
   "outputs": [],
   "source": [
    "years=['2011', '2012', '2013', '2014', '2015', '2016', '2017']\n",
    "inw = [790044, 799442, 811185, 822272, 834713, 844952, 854316]\n",
    "\n",
    "everb_list = []\n",
    "for year in years:\n",
    "    gem_verb = elk[elk['jaar'] == int(year) ]['SJV'].mean()\n",
    "    everb_list.append(gem_verb)\n",
    "    \n",
    "gverb_list = []\n",
    "for year in years:\n",
    "    gem_verb = gas[gas['jaar'] == int(year) ]['SJV'].mean()\n",
    "    gverb_list.append(gem_verb)"
   ]
  },
  {
   "cell_type": "code",
   "execution_count": 7,
   "metadata": {},
   "outputs": [],
   "source": [
    "from bokeh.io import show, output_file\n",
    "from bokeh.models import ColumnDataSource\n",
    "from bokeh.plotting import figure\n",
    "from bokeh.sampledata.commits import data\n",
    "from bokeh.transform import jitter\n",
    "from bokeh.models import HoverTool\n",
    "from bokeh.models import LinearAxis, Range1d\n",
    "\n",
    "# output to static HTML file\n",
    "output_file(\"line.html\")\n",
    "\n",
    "x=years\n",
    "y=everb_list\n",
    "y2=inw\n",
    "y3=gverb_list\n",
    "\n",
    "p = figure(plot_width=1000, plot_height=700, y_range=(2440, 2650), title='Gemiddeld jaarverbruik per postcodegebied en inwonertal Amsterdam')\n",
    "\n",
    "# add a circle renderer with a size, color, and alpha\n",
    "p.line(x, y, alpha=0.5, color='red', line_width = 3, legend='Gemiddeld jaarstroomverbruik')\n",
    "\n",
    "p.extra_y_ranges = {\"foo\": Range1d(start=785000, end=860000), \"bar\": Range1d(start=1285, end=1505)}\n",
    "\n",
    "p.line(x, y2, alpha=0.5, color='blue', line_width = 3, legend='Inwonertal Amsterdam', y_range_name=\"foo\")\n",
    "p.line(x, y3, alpha=0.5, color='green', line_width = 3, legend='Gemiddeld jaargasverbruik', y_range_name=\"bar\")\n",
    "\n",
    "p.yaxis.axis_label = \"Gemiddeld jaarstroomverbruik per postcodegebied\"\n",
    "\n",
    "p.add_layout(LinearAxis(y_range_name=\"foo\", axis_label='Inwonertal Amsterdam'), 'right')\n",
    "p.add_layout(LinearAxis(y_range_name=\"bar\", axis_label='Gemiddelde jaargasverbruik'), 'left')\n",
    "\n",
    "p.legend.location = \"bottom_left\"\n",
    "\n",
    "# show the results\n",
    "show(p)"
   ]
  },
  {
   "cell_type": "code",
   "execution_count": 7,
   "metadata": {},
   "outputs": [],
   "source": [
    "wijken = ['WESTPOORT', 'ZUIDOOST', 'WEST', 'NOORD', 'NIEUW-WEST', 'OOST', 'CENTRUM', 'ZUID']\n",
    "inkomen = [16.9, 27.1, 30.0, 30.2, 31.2, 35.2, 36.7, 39.4]\n",
    "\n",
    "everb_list = []\n",
    "for wijk in wijken:\n",
    "    gem_verb = elk[elk['WIJKEN'] == wijk ]['SJV'].mean()\n",
    "    everb_list.append(gem_verb)"
   ]
  },
  {
   "cell_type": "code",
   "execution_count": 15,
   "metadata": {},
   "outputs": [
    {
     "data": {
      "text/plain": [
       "[2635.2046783625733,\n",
       " 2311.2506721583431,\n",
       " 2583.7476977152901,\n",
       " 2550.9395397980747,\n",
       " 2514.6964624131397,\n",
       " 2869.1042661701613,\n",
       " 2627.5774123989218]"
      ]
     },
     "execution_count": 15,
     "metadata": {},
     "output_type": "execute_result"
    }
   ],
   "source": [
    "everb_list"
   ]
  },
  {
   "cell_type": "code",
   "execution_count": 9,
   "metadata": {},
   "outputs": [],
   "source": [
    "from bokeh.io import show, output_file\n",
    "from bokeh.models import ColumnDataSource\n",
    "from bokeh.plotting import figure\n",
    "from bokeh.sampledata.commits import data\n",
    "from bokeh.transform import jitter\n",
    "from bokeh.models import CrosshairTool\n",
    "from bokeh.models import LinearAxis, Range1d\n",
    "\n",
    "# output to static HTML file\n",
    "output_file(\"inkomen.html\")\n",
    "\n",
    "source = ColumnDataSource(data=dict(\n",
    "    x=inkomen,\n",
    "    y=everb_list\n",
    "))\n",
    "\n",
    "p = figure(plot_width=700, plot_height=500, title='Gem. jaarstroomverbruik en gem. besteedbaar inkomen per stadsdeel')\n",
    "\n",
    "# add a circle renderer with a size, color, and alpha\n",
    "p.circle('x', 'y', source=source, size =15, alpha=0.5, color='red', line_width = 3)\n",
    "\n",
    "p.add_tools(CrosshairTool())\n",
    "\n",
    "p.yaxis.axis_label = \"Gem. jaarstroomverbruik per stadsdeel\"\n",
    "p.xaxis.axis_label = \"Gem. besteedbaar inkomen per stadsdeel\"\n",
    "\n",
    "# show the results\n",
    "show(p)"
   ]
  },
  {
   "cell_type": "code",
   "execution_count": null,
   "metadata": {},
   "outputs": [],
   "source": []
  }
 ],
 "metadata": {
  "kernelspec": {
   "display_name": "Python 3",
   "language": "python",
   "name": "python3"
  },
  "language_info": {
   "codemirror_mode": {
    "name": "ipython",
    "version": 3
   },
   "file_extension": ".py",
   "mimetype": "text/x-python",
   "name": "python",
   "nbconvert_exporter": "python",
   "pygments_lexer": "ipython3",
   "version": "3.6.3"
  }
 },
 "nbformat": 4,
 "nbformat_minor": 2
}
