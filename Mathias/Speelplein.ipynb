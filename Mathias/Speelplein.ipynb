{
 "cells": [
  {
   "cell_type": "code",
   "execution_count": 1,
   "metadata": {},
   "outputs": [],
   "source": [
    "import pandas as pd\n",
    "import numpy as np\n",
    "import matplotlib"
   ]
  },
  {
   "cell_type": "code",
<<<<<<< HEAD
   "execution_count": 2,
=======
   "execution_count": 22,
>>>>>>> 7333368e63d770252d1fb0cdc7a5ec8ef41e27ee
   "metadata": {},
   "outputs": [],
   "source": [
    "data17 = pd.read_csv('../datasets/Liander_kleinverbruiksgegevens_01012017.csv', sep='\\t', encoding='cp1252')"
   ]
  },
  {
   "cell_type": "code",
<<<<<<< HEAD
   "execution_count": 3,
=======
   "execution_count": 4,
>>>>>>> 7333368e63d770252d1fb0cdc7a5ec8ef41e27ee
   "metadata": {},
   "outputs": [
    {
     "data": {
      "text/plain": [
       "count    259219.000000\n",
       "mean       3132.250209\n",
       "std        2991.600122\n",
       "min           0.000000\n",
       "25%        1506.000000\n",
       "50%        2418.000000\n",
       "75%        3563.000000\n",
       "max       54017.000000\n",
       "Name: SJV, dtype: float64"
      ]
     },
<<<<<<< HEAD
     "execution_count": 3,
=======
     "execution_count": 4,
>>>>>>> 7333368e63d770252d1fb0cdc7a5ec8ef41e27ee
     "metadata": {},
     "output_type": "execute_result"
    }
   ],
   "source": [
    "data17['SJV'].describe()"
   ]
  },
  {
   "cell_type": "code",
<<<<<<< HEAD
   "execution_count": 4,
=======
   "execution_count": 5,
>>>>>>> 7333368e63d770252d1fb0cdc7a5ec8ef41e27ee
   "metadata": {},
   "outputs": [
    {
     "data": {
      "text/plain": [
<<<<<<< HEAD
       "<matplotlib.axes._subplots.AxesSubplot at 0x17cdd88b6d8>"
      ]
     },
     "execution_count": 4,
=======
       "<matplotlib.axes._subplots.AxesSubplot at 0xa67a130>"
      ]
     },
     "execution_count": 5,
>>>>>>> 7333368e63d770252d1fb0cdc7a5ec8ef41e27ee
     "metadata": {},
     "output_type": "execute_result"
    }
   ],
   "source": [
    "data17['SJV'].hist()"
   ]
  },
  {
   "cell_type": "code",
<<<<<<< HEAD
   "execution_count": 5,
=======
   "execution_count": 6,
>>>>>>> 7333368e63d770252d1fb0cdc7a5ec8ef41e27ee
   "metadata": {
    "scrolled": false
   },
   "outputs": [
    {
     "data": {
      "text/plain": [
<<<<<<< HEAD
       "<matplotlib.axes._subplots.AxesSubplot at 0x17cddad3ba8>"
      ]
     },
     "execution_count": 5,
=======
       "<matplotlib.axes._subplots.AxesSubplot at 0xa87cc50>"
      ]
     },
     "execution_count": 6,
>>>>>>> 7333368e63d770252d1fb0cdc7a5ec8ef41e27ee
     "metadata": {},
     "output_type": "execute_result"
    },
    {
     "data": {
<<<<<<< HEAD
      "image/png": "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\n",
      "text/plain": [
       "<matplotlib.figure.Figure at 0x17cdd97f470>"
=======
      "image/png": "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\n",
      "text/plain": [
       "<matplotlib.figure.Figure at 0xa87c8d0>"
>>>>>>> 7333368e63d770252d1fb0cdc7a5ec8ef41e27ee
      ]
     },
     "metadata": {},
     "output_type": "display_data"
    }
   ],
   "source": [
    "data17.boxplot('SJV', figsize=[5,5])"
   ]
  },
  {
   "cell_type": "code",
<<<<<<< HEAD
   "execution_count": 6,
=======
   "execution_count": 23,
>>>>>>> 7333368e63d770252d1fb0cdc7a5ec8ef41e27ee
   "metadata": {},
   "outputs": [
    {
     "data": {
      "text/plain": [
<<<<<<< HEAD
       "<matplotlib.axes._subplots.AxesSubplot at 0x17cddad5518>"
      ]
     },
     "execution_count": 6,
=======
       "<matplotlib.axes._subplots.AxesSubplot at 0xf43b410>"
      ]
     },
     "execution_count": 23,
>>>>>>> 7333368e63d770252d1fb0cdc7a5ec8ef41e27ee
     "metadata": {},
     "output_type": "execute_result"
    },
    {
     "data": {
<<<<<<< HEAD
      "image/png": "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\n",
      "text/plain": [
       "<matplotlib.figure.Figure at 0x17cdf4e25f8>"
=======
      "image/png": "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\n",
      "text/plain": [
       "<matplotlib.figure.Figure at 0xf43b330>"
>>>>>>> 7333368e63d770252d1fb0cdc7a5ec8ef41e27ee
      ]
     },
     "metadata": {},
     "output_type": "display_data"
    }
   ],
   "source": [
    "Q1 = data17['SJV'].quantile(0.25)\n",
    "Q3 = data17['SJV'].quantile(0.75)\n",
    "IQR = Q3 - Q1\n",
    "\n",
    "filtered = data17.query('(@Q1 - 1.5 * @IQR) <= SJV <= (@Q3 + 1.5 * @IQR)')\n",
    "\n",
    "filtered.boxplot(['SJV'])"
   ]
  },
  {
   "cell_type": "code",
<<<<<<< HEAD
   "execution_count": 7,
=======
   "execution_count": 27,
   "metadata": {},
   "outputs": [
    {
     "name": "stdout",
     "output_type": "stream",
     "text": [
      "       MEETVERANTWOORDELIJKE       NETBEHEERDER  \\\n",
      "3               Liander N.V.        GAS Liander   \n",
      "4               Liander N.V.  Liander N.V. (NW)   \n",
      "5               Liander N.V.        GAS Liander   \n",
      "6               Liander N.V.  Liander N.V. (NW)   \n",
      "8               Liander N.V.        GAS Liander   \n",
      "9               Liander N.V.  Liander N.V. (NW)   \n",
      "11              Liander N.V.        GAS Liander   \n",
      "12              Liander N.V.  Liander N.V. (NW)   \n",
      "13              Liander N.V.  Liander N.V. (NW)   \n",
      "14              Liander N.V.        GAS Liander   \n",
      "15              Liander N.V.  Liander N.V. (NW)   \n",
      "16              Liander N.V.  Liander N.V. (NW)   \n",
      "17              Liander N.V.        GAS Liander   \n",
      "18              Liander N.V.  Liander N.V. (NW)   \n",
      "19              Liander N.V.        GAS Liander   \n",
      "20              Liander N.V.  Liander N.V. (NW)   \n",
      "21              Liander N.V.        GAS Liander   \n",
      "22              Liander N.V.  Liander N.V. (NW)   \n",
      "23              Liander N.V.  Liander N.V. (NW)   \n",
      "24              Liander N.V.  Liander N.V. (NW)   \n",
      "25              Liander N.V.        GAS Liander   \n",
      "26              Liander N.V.  Liander N.V. (NW)   \n",
      "27              Liander N.V.        GAS Liander   \n",
      "28              Liander N.V.  Liander N.V. (NW)   \n",
      "29              Liander N.V.        GAS Liander   \n",
      "30              Liander N.V.  Liander N.V. (NW)   \n",
      "31              Liander N.V.        GAS Liander   \n",
      "32              Liander N.V.  Liander N.V. (NW)   \n",
      "33              Liander N.V.        GAS Liander   \n",
      "34              Liander N.V.  Liander N.V. (NW)   \n",
      "...                      ...                ...   \n",
      "241336          Liander N.V.       Liander N.V.   \n",
      "241337          Liander N.V.       Liander N.V.   \n",
      "241338          Liander N.V.       Liander N.V.   \n",
      "241339          Liander N.V.       Liander N.V.   \n",
      "241342          Liander N.V.       Liander N.V.   \n",
      "241344          Liander N.V.       Liander N.V.   \n",
      "241345          Liander N.V.       Liander N.V.   \n",
      "241346          Liander N.V.       Liander N.V.   \n",
      "241347          Liander N.V.       Liander N.V.   \n",
      "241348          Liander N.V.       Liander N.V.   \n",
      "241349          Liander N.V.       Liander N.V.   \n",
      "241351          Liander N.V.       Liander N.V.   \n",
      "241352          Liander N.V.       Liander N.V.   \n",
      "241353          Liander N.V.       Liander N.V.   \n",
      "241354          Liander N.V.       Liander N.V.   \n",
      "241355          Liander N.V.       Liander N.V.   \n",
      "241356          Liander N.V.       Liander N.V.   \n",
      "241357          Liander N.V.       Liander N.V.   \n",
      "241358          Liander N.V.       Liander N.V.   \n",
      "241359          Liander N.V.       Liander N.V.   \n",
      "241360          Liander N.V.       Liander N.V.   \n",
      "241361          Liander N.V.       Liander N.V.   \n",
      "241362          Liander N.V.       Liander N.V.   \n",
      "241363          Liander N.V.       Liander N.V.   \n",
      "241364          Liander N.V.       Liander N.V.   \n",
      "241365          Liander N.V.       Liander N.V.   \n",
      "241366          Liander N.V.       Liander N.V.   \n",
      "241369          Liander N.V.  Liander N.V. (ZW)   \n",
      "241370          Liander N.V.  Liander N.V. (ZW)   \n",
      "241371          Liander N.V.  Liander N.V. (NW)   \n",
      "\n",
      "                                  NETGEBIED              STRAATNAAM  \\\n",
      "3       GAS Gastransport Services (GASUNIE)           De Ruyterkade   \n",
      "4                                Liander NW          Oosterdokskade   \n",
      "5       GAS Gastransport Services (GASUNIE)          Oosterdokskade   \n",
      "6                                Liander NW       Oosterdokskade AB   \n",
      "8       GAS Gastransport Services (GASUNIE)       Prins Hendrikkade   \n",
      "9                                Liander NW       Prins Hendrikkade   \n",
      "11      GAS Gastransport Services (GASUNIE)       Prins Hendrikkade   \n",
      "12                               Liander NW       Prins Hendrikkade   \n",
      "13                               Liander NW   Houtkopersdwarsstraat   \n",
      "14      GAS Gastransport Services (GASUNIE)       Prins Hendrikkade   \n",
      "15                               Liander NW       Prins Hendrikkade   \n",
      "16                               Liander NW       Prins Hendrikkade   \n",
      "17      GAS Gastransport Services (GASUNIE)       Prins Hendrikkade   \n",
      "18                               Liander NW       Prins Hendrikkade   \n",
      "19      GAS Gastransport Services (GASUNIE)       Prins Hendrikkade   \n",
      "20                               Liander NW            SCHIPPERSSTR   \n",
      "21      GAS Gastransport Services (GASUNIE)       Prins Hendrikkade   \n",
      "22                               Liander NW       Prins Hendrikkade   \n",
      "23                               Liander NW       Prins Hendrikkade   \n",
      "24                               Liander NW       Prins Hendrikkade   \n",
      "25      GAS Gastransport Services (GASUNIE)       Prins Hendrikkade   \n",
      "26                               Liander NW  Buiten Bantammerstraat   \n",
      "27      GAS Gastransport Services (GASUNIE)  Buiten Bantammerstraat   \n",
      "28                               Liander NW         Schippersstraat   \n",
      "29      GAS Gastransport Services (GASUNIE)         Schippersstraat   \n",
      "30                               Liander NW         Schippersstraat   \n",
      "31      GAS Gastransport Services (GASUNIE)         Schippersstraat   \n",
      "32                               Liander NW         Schippersstraat   \n",
      "33      GAS Gastransport Services (GASUNIE)         Schippersstraat   \n",
      "34                               Liander NW               Kalkmarkt   \n",
      "...                                     ...                     ...   \n",
      "241336                                  NaN             Asterstraat   \n",
      "241337                                  NaN        Goudsbloemstraat   \n",
      "241338                                  NaN             Vioolstraat   \n",
      "241339                                  NaN           Olde Borchweg   \n",
      "241342                                  NaN              Nittersweg   \n",
      "241344                                  NaN          Zw. Kooistraat   \n",
      "241345                                  NaN          Zw. Kooistraat   \n",
      "241346                                  NaN         Groningerstreek   \n",
      "241347                                  NaN         Groningerstreek   \n",
      "241348                                  NaN               Het Breed   \n",
      "241349                                  NaN                 Sarabos   \n",
      "241351                                  NaN                    West   \n",
      "241352                                  NaN             Hoogstraten   \n",
      "241353                                  NaN             Hoogstraten   \n",
      "241354                                  NaN           De Voorstreek   \n",
      "241355                                  NaN              Het Singel   \n",
      "241356                                  NaN             De Flaphoek   \n",
      "241357                                  NaN           De Lege Finne   \n",
      "241358                                  NaN           Wibrandstraat   \n",
      "241359                                  NaN                 Dikholt   \n",
      "241360                                  NaN             Molenstraat   \n",
      "241361                                  NaN             Molenstraat   \n",
      "241362                                  NaN                  Uithof   \n",
      "241363                                  NaN                 De Gauw   \n",
      "241364                                  NaN                 De Gauw   \n",
      "241365                                  NaN              De Lauwers   \n",
      "241366                                  NaN              De Lauwers   \n",
      "241369                           Liander NW            Kolonelsdiep   \n",
      "241370                           Liander NW                 Knolweg   \n",
      "241371                           Liander NW      o.v kast Leyerdijk   \n",
      "\n",
      "       POSTCODE_VAN POSTCODE_TOT      WOONPLAATS LANDCODE PRODUCTSOORT  \\\n",
      "3            1011AC       1011AC       AMSTERDAM       NL          GAS   \n",
      "4            1011AD       1011AD       AMSTERDAM       NL          ELK   \n",
      "5            1011AD       1011AE       AMSTERDAM       NL          GAS   \n",
      "6            1011AE       1011AE       AMSTERDAM       NL          ELK   \n",
      "8            1011AG       1011AH       AMSTERDAM       NL          GAS   \n",
      "9            1011AH       1011AH       AMSTERDAM       NL          ELK   \n",
      "11           1011AJ       1011AJ       AMSTERDAM       NL          GAS   \n",
      "12           1011AK       1011AK       AMSTERDAM       NL          ELK   \n",
      "13           1011AL       1011AM       AMSTERDAM       NL          ELK   \n",
      "14           1011AM       1011AN       AMSTERDAM       NL          GAS   \n",
      "15           1011AN       1011AN       AMSTERDAM       NL          ELK   \n",
      "16           1011AP       1011AP       AMSTERDAM       NL          ELK   \n",
      "17           1011AP       1011AP       AMSTERDAM       NL          GAS   \n",
      "18           1011AR       1011AR       AMSTERDAM       NL          ELK   \n",
      "19           1011AR       1011AR       AMSTERDAM       NL          GAS   \n",
      "20           1011AS       1011AS       AMSTERDAM       NL          ELK   \n",
      "21           1011AS       1011AV       AMSTERDAM       NL          GAS   \n",
      "22           1011AT       1011AT       AMSTERDAM       NL          ELK   \n",
      "23           1011AV       1011AV       AMSTERDAM       NL          ELK   \n",
      "24           1011AW       1011AW       AMSTERDAM       NL          ELK   \n",
      "25           1011AW       1011AW       AMSTERDAM       NL          GAS   \n",
      "26           1011AX       1011AX       AMSTERDAM       NL          ELK   \n",
      "27           1011AX       1011AX       AMSTERDAM       NL          GAS   \n",
      "28           1011AZ       1011AZ       AMSTERDAM       NL          ELK   \n",
      "29           1011AZ       1011AZ       AMSTERDAM       NL          GAS   \n",
      "30           1011BA       1011BA       AMSTERDAM       NL          ELK   \n",
      "31           1011BA       1011BA       AMSTERDAM       NL          GAS   \n",
      "32           1011BB       1011BC       AMSTERDAM       NL          ELK   \n",
      "33           1011BB       1011BC       AMSTERDAM       NL          GAS   \n",
      "34           1011BD       1011BD       AMSTERDAM       NL          ELK   \n",
      "...             ...          ...             ...      ...          ...   \n",
      "241336       9853RA       9853RA     MUNNEKEZIJL       NL          ELK   \n",
      "241337       9853RB       9853RB     MUNNEKEZIJL       NL          ELK   \n",
      "241338       9853RC       9853RC     MUNNEKEZIJL       NL          ELK   \n",
      "241339       9853TA       9853TA     MUNNEKEZIJL       NL          ELK   \n",
      "241342       9853TE       9853TG     MUNNEKEZIJL       NL          ELK   \n",
      "241344       9871PB       9871PB        STROOBOS       NL          ELK   \n",
      "241345       9871PC       9871PC        STROOBOS       NL          ELK   \n",
      "241346       9871PE       9871PE        STROOBOS       NL          ELK   \n",
      "241347       9871PG       9872PP        STROOBOS       NL          ELK   \n",
      "241348       9872PR       9872PR        STROOBOS       NL          ELK   \n",
      "241349       9872PS       9872TJ        STROOBOS       NL          ELK   \n",
      "241351       9873PB       9873PC  GERKESKLOOSTER       NL          ELK   \n",
      "241352       9873PD       9873PD  GERKESKLOOSTER       NL          ELK   \n",
      "241353       9873PE       9873PH  GERKESKLOOSTER       NL          ELK   \n",
      "241354       9873PJ       9873PJ  GERKESKLOOSTER       NL          ELK   \n",
      "241355       9873PK       9873PL  GERKESKLOOSTER       NL          ELK   \n",
      "241356       9873PM       9873PM  GERKESKLOOSTER       NL          ELK   \n",
      "241357       9873RA       9873RC  GERKESKLOOSTER       NL          ELK   \n",
      "241358       9873RD       9873RD  GERKESKLOOSTER       NL          ELK   \n",
      "241359       9873RE       9873RH  GERKESKLOOSTER       NL          ELK   \n",
      "241360       9873RJ       9873RJ  GERKESKLOOSTER       NL          ELK   \n",
      "241361       9873RK       9873RK  GERKESKLOOSTER       NL          ELK   \n",
      "241362       9873RL       9873RL  GERKESKLOOSTER       NL          ELK   \n",
      "241363       9873RM       9873RM  GERKESKLOOSTER       NL          ELK   \n",
      "241364       9873RP       9873RS  GERKESKLOOSTER       NL          ELK   \n",
      "241365       9873RV       9873RV  GERKESKLOOSTER       NL          ELK   \n",
      "241366       9873RW       9873RW  GERKESKLOOSTER       NL          ELK   \n",
      "241369       9873TJ       9999QQ  GERKESKLOOSTER       NL          ELK   \n",
      "241370       9999XX       9999YY       STITSWERD       NL          ELK   \n",
      "241371       9999ZZ       9999ZZ     POEDEROIJEN       NL          ELK   \n",
      "\n",
      "       VERBRUIKSSEGMENT  Aantal Aansluitingen %Leveringsrichting  \\\n",
      "3                   KVB                    22                100   \n",
      "4                   KVB                    21                100   \n",
      "5                   KVB                    11                100   \n",
      "6                   KVB                    19                100   \n",
      "8                   KVB                    27                100   \n",
      "9                   KVB                    21                100   \n",
      "11                  KVB                    15                100   \n",
      "12                  KVB                    13                100   \n",
      "13                  KVB                    14                100   \n",
      "14                  KVB                    27                100   \n",
      "15                  KVB                    28                100   \n",
      "16                  KVB                    20                100   \n",
      "17                  KVB                    19                100   \n",
      "18                  KVB                    33                100   \n",
      "19                  KVB                    19                100   \n",
      "20                  KVB                    13                100   \n",
      "21                  KVB                    20                100   \n",
      "22                  KVB                    17                100   \n",
      "23                  KVB                    18                100   \n",
      "24                  KVB                    21                100   \n",
      "25                  KVB                    13                100   \n",
      "26                  KVB                    15                100   \n",
      "27                  KVB                    13                100   \n",
      "28                  KVB                    16                100   \n",
      "29                  KVB                    14                100   \n",
      "30                  KVB                    13                100   \n",
      "31                  KVB                    11                100   \n",
      "32                  KVB                    24                100   \n",
      "33                  KVB                    22                100   \n",
      "34                  KVB                    23                100   \n",
      "...                 ...                   ...                ...   \n",
      "241336              KVB                    22                100   \n",
      "241337              KVB                    12                100   \n",
      "241338              KVB                    14                100   \n",
      "241339              KVB                    12                100   \n",
      "241342              KVB                    16                100   \n",
      "241344              KVB                    12                100   \n",
      "241345              KVB                    22                100   \n",
      "241346              KVB                    15                100   \n",
      "241347              KVB                    23                100   \n",
      "241348              KVB                    10                100   \n",
      "241349              KVB                    48                100   \n",
      "241351              KVB                    18                100   \n",
      "241352              KVB                    20                100   \n",
      "241353              KVB                    25                100   \n",
      "241354              KVB                    13                100   \n",
      "241355              KVB                    20                100   \n",
      "241356              KVB                    34                100   \n",
      "241357              KVB                    31                100   \n",
      "241358              KVB                    21                100   \n",
      "241359              KVB                    26                100   \n",
      "241360              KVB                    13                100   \n",
      "241361              KVB                    23              95,65   \n",
      "241362              KVB                    20                100   \n",
      "241363              KVB                    18                100   \n",
      "241364              KVB                    21                100   \n",
      "241365              KVB                    48              97,92   \n",
      "241366              KVB                    10                100   \n",
      "241369              KVB                  1085              99,91   \n",
      "241370              KVB                   785                100   \n",
      "241371              KVB                    11                100   \n",
      "\n",
      "       %Fysieke status  %Defintieve aansl (NRM)  %Soort aansluiting  \\\n",
      "3                81,82                      100                  41   \n",
      "4                23,81                      100                  57   \n",
      "5                45,45                      100                  82   \n",
      "6                36,84                      100                  68   \n",
      "8                  100                      100                  93   \n",
      "9                  100                      100                  67   \n",
      "11               86,67                      100                  67   \n",
      "12               84,62                      100                  54   \n",
      "13               92,86                      100                  43   \n",
      "14                96,3                      100                  89   \n",
      "15               96,43                      100                  32   \n",
      "16                  70                      100                  50   \n",
      "17               73,68                      100                  89   \n",
      "18               93,94                      100                  42   \n",
      "19                 100                      100                  68   \n",
      "20               84,62                      100                  46   \n",
      "21                 100                      100                  65   \n",
      "22                 100                      100                  41   \n",
      "23               88,89                      100                  50   \n",
      "24               95,24                      100                  67   \n",
      "25                 100                      100                  92   \n",
      "26               86,67                      100                  53   \n",
      "27               92,31                      100                  77   \n",
      "28               93,75                      100                  63   \n",
      "29               92,86                      100                  79   \n",
      "30               23,08                      100                  54   \n",
      "31               18,18                      100                  91   \n",
      "32               95,83                      100                  50   \n",
      "33               95,45                      100                  91   \n",
      "34               78,26                      100                  65   \n",
      "...                ...                      ...                 ...   \n",
      "241336           95,45                      100                  64   \n",
      "241337             100                      100                  83   \n",
      "241338             100                      100                  79   \n",
      "241339           91,67                      100                  50   \n",
      "241342            87,5                      100                  50   \n",
      "241344             100                      100                  50   \n",
      "241345           95,45                      100                  82   \n",
      "241346             100                      100                  53   \n",
      "241347           78,26                      100                  57   \n",
      "241348             100                      100                  60   \n",
      "241349           83,33                      100                  58   \n",
      "241351             100                      100                  72   \n",
      "241352              40                      100                  55   \n",
      "241353             100                      100                  80   \n",
      "241354           92,31                      100                  62   \n",
      "241355             100                      100                  50   \n",
      "241356           76,47                      100                  65   \n",
      "241357           96,77                      100                  84   \n",
      "241358             100                      100                 100   \n",
      "241359           84,62                      100                  65   \n",
      "241360             100                      100                  92   \n",
      "241361            91,3                      100                  65   \n",
      "241362              80                      100                  40   \n",
      "241363             100                      100                  83   \n",
      "241364             100                      100                  67   \n",
      "241365             100                      100                  65   \n",
      "241366             100                      100                  50   \n",
      "241369             7,1                      100                  75   \n",
      "241370            3,31                      100                  69   \n",
      "241371           27,27                      100                  45   \n",
      "\n",
      "       Soort aansluiting Naam   SJV %SJV laag tarief %Slimme Meter  \\\n",
      "3                          G4  3893                0          4,55   \n",
      "4                        3x25  3859             38,1             0   \n",
      "5                          G4  1279                0             0   \n",
      "6                        3x25  2989            26,32             0   \n",
      "8                          G4  2869                0          7,41   \n",
      "9                        1x25  3187            14,29             0   \n",
      "11                         G4  1770                0             0   \n",
      "12                       3x25  6333            23,08             0   \n",
      "13                       3x25  7072            35,71             0   \n",
      "14                         G4  2218                0             0   \n",
      "15                       3x25  2753            10,71             0   \n",
      "16                       1x35  5289               15             5   \n",
      "17                         G4  2605                0          5,26   \n",
      "18                       1x25  7010            21,21          3,03   \n",
      "19                         G4  2502                0          5,26   \n",
      "20                       3x25  4607            23,08             0   \n",
      "21                         G4  5996                0             0   \n",
      "22                       3x25  6940            23,53             0   \n",
      "23                       3x25  4799            16,67             0   \n",
      "24                       1x25  2725             9,52             0   \n",
      "25                         G4  1400                0             0   \n",
      "26                       3x25  3968             6,67             0   \n",
      "27                         G4  2488                0             0   \n",
      "28                       1x35  3298               75         68,75   \n",
      "29                         G4  2331                0         35,71   \n",
      "30                       3x25  1901            30,77             0   \n",
      "31                         G4   982                0             0   \n",
      "32                       1x35  3383            16,67             0   \n",
      "33                         G4  2278                0             0   \n",
      "34                       3x25  4416            21,74         21,74   \n",
      "...                       ...   ...              ...           ...   \n",
      "241336                   1x25  4175            36,36             0   \n",
      "241337                   1x25  2777            58,33             0   \n",
      "241338                   1x25  2621            57,14             0   \n",
      "241339                   1x25  3453            33,33          8,33   \n",
      "241342                   3x25  5651            68,75             0   \n",
      "241344                   1x25  2750               50             0   \n",
      "241345                   1x25  3177            31,82          4,55   \n",
      "241346                   3x25  5250               40             0   \n",
      "241347                   3x25  7204            43,48             0   \n",
      "241348                   3x25  4715               50             0   \n",
      "241349                   3x25  5701            52,08          2,08   \n",
      "241351                   1x25  7380            44,44             0   \n",
      "241352                   1x25  2914               45            15   \n",
      "241353                   1x25  3011               36             0   \n",
      "241354                   3x25  3698            61,54             0   \n",
      "241355                   1x25  3859               40             0   \n",
      "241356                   3x25  3623            20,59          2,94   \n",
      "241357                   1x25  3003             6,45             0   \n",
      "241358                   1x25  2990            14,29             0   \n",
      "241359                   1x25  6191            42,31             0   \n",
      "241360                   1x25  2125            23,08             0   \n",
      "241361                   1x25  1893            17,39             0   \n",
      "241362                   3x25  3607               35             0   \n",
      "241363                   1x25  3042             5,56             0   \n",
      "241364                   1x25  3034             38,1          4,76   \n",
      "241365                   1x25  3256            60,42          4,17   \n",
      "241366                   3x25  3495               60             0   \n",
      "241369                    OBK  3210            73,73          0,09   \n",
      "241370                   3x25  3180            12,23          0,13   \n",
      "241371                   3x25  3384            27,27             0   \n",
      "\n",
      "       Gemiddeld aantal telwielen  \n",
      "3                               1  \n",
      "4                             1,6  \n",
      "5                               1  \n",
      "6                               1  \n",
      "8                               1  \n",
      "9                             1,1  \n",
      "11                              1  \n",
      "12                            1,2  \n",
      "13                            1,5  \n",
      "14                              1  \n",
      "15                            1,2  \n",
      "16                            1,1  \n",
      "17                              1  \n",
      "18                            1,2  \n",
      "19                              1  \n",
      "20                            1,3  \n",
      "21                              1  \n",
      "22                            1,4  \n",
      "23                            1,1  \n",
      "24                            1,1  \n",
      "25                              1  \n",
      "26                            1,1  \n",
      "27                              1  \n",
      "28                            1,3  \n",
      "29                              1  \n",
      "30                              1  \n",
      "31                              1  \n",
      "32                            1,2  \n",
      "33                              1  \n",
      "34                            1,3  \n",
      "...                           ...  \n",
      "241336                        1,4  \n",
      "241337                        1,8  \n",
      "241338                        1,6  \n",
      "241339                        1,4  \n",
      "241342                        1,8  \n",
      "241344                        1,7  \n",
      "241345                        1,3  \n",
      "241346                        1,5  \n",
      "241347                        1,6  \n",
      "241348                        1,8  \n",
      "241349                        1,6  \n",
      "241351                        1,5  \n",
      "241352                        1,4  \n",
      "241353                        1,7  \n",
      "241354                        1,7  \n",
      "241355                        1,5  \n",
      "241356                        1,4  \n",
      "241357                        1,1  \n",
      "241358                        1,1  \n",
      "241359                        1,5  \n",
      "241360                        1,2  \n",
      "241361                        1,2  \n",
      "241362                        1,4  \n",
      "241363                        1,3  \n",
      "241364                        1,5  \n",
      "241365                        1,6  \n",
      "241366                        1,7  \n",
      "241369                          2  \n",
      "241370                        1,3  \n",
      "241371                          2  \n",
      "\n",
      "[225173 rows x 20 columns]\n"
     ]
    }
   ],
   "source": [
    "print(filtered)"
   ]
  },
  {
   "cell_type": "code",
   "execution_count": 24,
>>>>>>> 7333368e63d770252d1fb0cdc7a5ec8ef41e27ee
   "metadata": {},
   "outputs": [
    {
     "name": "stdout",
     "output_type": "stream",
     "text": [
      "count    225173.000000\n",
      "mean       2794.715241\n",
      "std        1488.905150\n",
      "min           0.000000\n",
      "25%        1603.000000\n",
      "50%        2542.000000\n",
      "75%        3712.000000\n",
      "max        7560.000000\n",
      "Name: SJV, dtype: float64\n"
     ]
    },
    {
     "data": {
      "text/plain": [
<<<<<<< HEAD
       "<matplotlib.axes._subplots.AxesSubplot at 0x17cdf323e48>"
      ]
     },
     "execution_count": 7,
=======
       "<matplotlib.axes._subplots.AxesSubplot at 0xf4475b0>"
      ]
     },
     "execution_count": 24,
>>>>>>> 7333368e63d770252d1fb0cdc7a5ec8ef41e27ee
     "metadata": {},
     "output_type": "execute_result"
    },
    {
     "data": {
<<<<<<< HEAD
      "image/png": "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\n",
      "text/plain": [
       "<matplotlib.figure.Figure at 0x17cdb9c1be0>"
=======
      "image/png": "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\n",
      "text/plain": [
       "<matplotlib.figure.Figure at 0xf6445d0>"
>>>>>>> 7333368e63d770252d1fb0cdc7a5ec8ef41e27ee
      ]
     },
     "metadata": {},
     "output_type": "display_data"
    }
   ],
   "source": [
    "print(filtered['SJV'].describe())\n",
    "filtered['SJV'].hist(figsize=[10,5], bins=1000)"
   ]
  },
  {
   "cell_type": "code",
   "execution_count": 8,
   "metadata": {},
   "outputs": [
    {
     "name": "stdout",
     "output_type": "stream",
     "text": [
      "count    259219.000000\n",
      "mean       3132.250209\n",
      "std        2991.600122\n",
      "min           0.000000\n",
      "25%        1506.000000\n",
      "50%        2418.000000\n",
      "75%        3563.000000\n",
      "max       54017.000000\n",
      "Name: SJV, dtype: float64\n"
     ]
    },
    {
     "data": {
      "text/plain": [
       "<matplotlib.axes._subplots.AxesSubplot at 0x17cdf272c88>"
      ]
     },
     "execution_count": 8,
     "metadata": {},
     "output_type": "execute_result"
    },
    {
     "data": {
      "image/png": "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\n",
      "text/plain": [
       "<matplotlib.figure.Figure at 0x17cdf344780>"
      ]
     },
     "metadata": {},
     "output_type": "display_data"
    }
   ],
   "source": [
    "print(data17['SJV'].describe())\n",
    "data17['SJV'].hist(figsize=[10,5], bins=200)"
   ]
  },
  {
   "cell_type": "code",
   "execution_count": 9,
   "metadata": {},
   "outputs": [],
   "source": [
    "ndf = data17.sort_values('SJV')"
   ]
  },
  {
   "cell_type": "code",
   "execution_count": 10,
   "metadata": {},
   "outputs": [
    {
     "name": "stdout",
     "output_type": "stream",
     "text": [
      "83776         0\n",
      "96396         0\n",
      "67773         0\n",
      "58529         0\n",
      "15322         3\n",
      "374           6\n",
      "381           8\n",
      "111083        9\n",
      "15320         9\n",
      "18507         9\n",
      "219703        9\n",
      "183057       10\n",
      "375          11\n",
      "183070       11\n",
      "127211       11\n",
      "5939         11\n",
      "108506       12\n",
      "56014        12\n",
      "183979       12\n",
      "183076       12\n",
      "24430        12\n",
      "383          12\n",
      "183958       13\n",
      "254899       13\n",
      "32517        13\n",
      "155733       13\n",
      "378          13\n",
      "180818       13\n",
      "183067       13\n",
      "108473       13\n",
      "          ...  \n",
      "227755    40386\n",
      "39195     40606\n",
      "98936     40712\n",
      "89019     40752\n",
      "57502     40855\n",
      "178310    41406\n",
      "168694    41899\n",
      "89184     42178\n",
      "238096    42315\n",
      "139385    42346\n",
      "152466    42379\n",
      "34116     43035\n",
      "968       43641\n",
      "7892      43891\n",
      "181440    44151\n",
      "116353    44597\n",
      "235470    44610\n",
      "683       44691\n",
      "78196     45047\n",
      "135340    45273\n",
      "112931    45819\n",
      "200970    45836\n",
      "795       45873\n",
      "84406     47258\n",
      "128318    47703\n",
      "203215    48153\n",
      "178382    48435\n",
      "120533    50354\n",
      "28306     50396\n",
      "147040    54017\n",
      "Name: SJV, Length: 259219, dtype: int64\n"
     ]
    }
   ],
   "source": [
    "print(ndf['SJV'])"
   ]
  },
  {
   "cell_type": "code",
   "execution_count": 11,
   "metadata": {},
   "outputs": [
    {
     "data": {
      "text/plain": [
       "1506.0"
      ]
     },
     "execution_count": 11,
     "metadata": {},
     "output_type": "execute_result"
    }
   ],
   "source": [
    "ndf['SJV'].quantile(0.25)"
   ]
  }
 ],
 "metadata": {
  "kernelspec": {
   "display_name": "Python 3",
   "language": "python",
   "name": "python3"
  },
  "language_info": {
   "codemirror_mode": {
    "name": "ipython",
    "version": 3
   },
   "file_extension": ".py",
   "mimetype": "text/x-python",
   "name": "python",
   "nbconvert_exporter": "python",
   "pygments_lexer": "ipython3",
   "version": "3.6.4"
  }
 },
 "nbformat": 4,
 "nbformat_minor": 2
}
