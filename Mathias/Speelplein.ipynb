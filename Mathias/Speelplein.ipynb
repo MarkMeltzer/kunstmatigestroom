{
 "cells": [
  {
   "cell_type": "code",
   "execution_count": 1,
   "metadata": {},
   "outputs": [],
   "source": [
    "import pandas as pd\n",
    "import numpy as np\n",
    "import matplotlib"
   ]
  },
  {
   "cell_type": "code",
   "execution_count": 2,
   "metadata": {},
   "outputs": [],
   "source": [
    "data17 = pd.read_csv('../datasets/Liander_kleinverbruiksgegevens_01012017.csv', sep='\\t')"
   ]
  },
  {
   "cell_type": "code",
   "execution_count": 3,
   "metadata": {},
   "outputs": [
    {
     "data": {
      "text/plain": [
       "count    259219.000000\n",
       "mean       3132.250209\n",
       "std        2991.600122\n",
       "min           0.000000\n",
       "25%        1506.000000\n",
       "50%        2418.000000\n",
       "75%        3563.000000\n",
       "max       54017.000000\n",
       "Name: SJV, dtype: float64"
      ]
     },
     "execution_count": 3,
     "metadata": {},
     "output_type": "execute_result"
    }
   ],
   "source": [
    "data17['SJV'].describe()"
   ]
  },
  {
   "cell_type": "code",
   "execution_count": 4,
   "metadata": {},
   "outputs": [
    {
     "data": {
      "text/plain": [
       "<matplotlib.axes._subplots.AxesSubplot at 0x17cdd88b6d8>"
      ]
     },
     "execution_count": 4,
     "metadata": {},
     "output_type": "execute_result"
    }
   ],
   "source": [
    "data17['SJV'].hist()"
   ]
  },
  {
   "cell_type": "code",
   "execution_count": 5,
   "metadata": {
    "scrolled": false
   },
   "outputs": [
    {
     "data": {
      "text/plain": [
       "<matplotlib.axes._subplots.AxesSubplot at 0x17cddad3ba8>"
      ]
     },
     "execution_count": 5,
     "metadata": {},
     "output_type": "execute_result"
    },
    {
     "data": {
      "image/png": "[encoded data removed]",
      "text/plain": [
       "<matplotlib.figure.Figure at 0x17cdd97f470>"
      ]
     },
     "metadata": {},
     "output_type": "display_data"
    }
   ],
   "source": [
    "data17.boxplot('SJV', figsize=[5,5])"
   ]
  },
  {
   "cell_type": "code",
   "execution_count": 6,
   "metadata": {},
   "outputs": [
    {
     "data": {
      "text/plain": [
       "<matplotlib.axes._subplots.AxesSubplot at 0x17cddad5518>"
      ]
     },
     "execution_count": 6,
     "metadata": {},
     "output_type": "execute_result"
    },
    {
     "data": {
      "image/png": "[encoded data removed]",
      "text/plain": [
       "<matplotlib.figure.Figure at 0x17cdf4e25f8>"
      ]
     },
     "metadata": {},
     "output_type": "display_data"
    }
   ],
   "source": [
    "Q1 = data17['SJV'].quantile(0.25)\n",
    "Q3 = data17['SJV'].quantile(0.75)\n",
    "IQR = Q3 - Q1\n",
    "\n",
    "filtered = data17.query('(@Q1 - 1.5 * @IQR) <= SJV <= (@Q3 + 1.5 * @IQR)')\n",
    "\n",
    "filtered.boxplot(['SJV'])"
   ]
  },
  {
   "cell_type": "code",
   "execution_count": 7,
   "metadata": {},
   "outputs": [
    {
     "name": "stdout",
     "output_type": "stream",
     "text": [
      "count    240571.000000\n",
      "mean       2487.205594\n",
      "std        1295.416836\n",
      "min           0.000000\n",
      "25%        1460.000000\n",
      "50%        2264.000000\n",
      "75%        3273.000000\n",
      "max        6648.000000\n",
      "Name: SJV, dtype: float64\n"
     ]
    },
    {
     "data": {
      "text/plain": [
       "<matplotlib.axes._subplots.AxesSubplot at 0x17cdf323e48>"
      ]
     },
     "execution_count": 7,
     "metadata": {},
     "output_type": "execute_result"
    },
    {
     "data": {
      "image/png": "[encoded data removed]",
      "text/plain": [
       "<matplotlib.figure.Figure at 0x17cdb9c1be0>"
      ]
     },
     "metadata": {},
     "output_type": "display_data"
    }
   ],
   "source": [
    "print(filtered['SJV'].describe())\n",
    "filtered['SJV'].hist()"
   ]
  },
  {
   "cell_type": "code",
   "execution_count": 8,
   "metadata": {},
   "outputs": [
    {
     "name": "stdout",
     "output_type": "stream",
     "text": [
      "count    259219.000000\n",
      "mean       3132.250209\n",
      "std        2991.600122\n",
      "min           0.000000\n",
      "25%        1506.000000\n",
      "50%        2418.000000\n",
      "75%        3563.000000\n",
      "max       54017.000000\n",
      "Name: SJV, dtype: float64\n"
     ]
    },
    {
     "data": {
      "text/plain": [
       "<matplotlib.axes._subplots.AxesSubplot at 0x17cdf272c88>"
      ]
     },
     "execution_count": 8,
     "metadata": {},
     "output_type": "execute_result"
    },
    {
     "data": {
      "image/png": "[encoded data removed]",
      "text/plain": [
       "<matplotlib.figure.Figure at 0x17cdf344780>"
      ]
     },
     "metadata": {},
     "output_type": "display_data"
    }
   ],
   "source": [
    "print(data17['SJV'].describe())\n",
    "data17['SJV'].hist(figsize=[10,5], bins=200)"
   ]
  },
  {
   "cell_type": "code",
   "execution_count": 9,
   "metadata": {},
   "outputs": [],
   "source": [
    "ndf = data17.sort_values('SJV')"
   ]
  },
  {
   "cell_type": "code",
   "execution_count": 10,
   "metadata": {},
   "outputs": [
    {
     "name": "stdout",
     "output_type": "stream",
     "text": [
      "83776         0\n",
      "96396         0\n",
      "67773         0\n",
      "58529         0\n",
      "15322         3\n",
      "374           6\n",
      "381           8\n",
      "111083        9\n",
      "15320         9\n",
      "18507         9\n",
      "219703        9\n",
      "183057       10\n",
      "375          11\n",
      "183070       11\n",
      "127211       11\n",
      "5939         11\n",
      "108506       12\n",
      "56014        12\n",
      "183979       12\n",
      "183076       12\n",
      "24430        12\n",
      "383          12\n",
      "183958       13\n",
      "254899       13\n",
      "32517        13\n",
      "155733       13\n",
      "378          13\n",
      "180818       13\n",
      "183067       13\n",
      "108473       13\n",
      "          ...  \n",
      "227755    40386\n",
      "39195     40606\n",
      "98936     40712\n",
      "89019     40752\n",
      "57502     40855\n",
      "178310    41406\n",
      "168694    41899\n",
      "89184     42178\n",
      "238096    42315\n",
      "139385    42346\n",
      "152466    42379\n",
      "34116     43035\n",
      "968       43641\n",
      "7892      43891\n",
      "181440    44151\n",
      "116353    44597\n",
      "235470    44610\n",
      "683       44691\n",
      "78196     45047\n",
      "135340    45273\n",
      "112931    45819\n",
      "200970    45836\n",
      "795       45873\n",
      "84406     47258\n",
      "128318    47703\n",
      "203215    48153\n",
      "178382    48435\n",
      "120533    50354\n",
      "28306     50396\n",
      "147040    54017\n",
      "Name: SJV, Length: 259219, dtype: int64\n"
     ]
    }
   ],
   "source": [
    "print(ndf['SJV'])"
   ]
  },
  {
   "cell_type": "code",
   "execution_count": 11,
   "metadata": {},
   "outputs": [
    {
     "data": {
      "text/plain": [
       "1506.0"
      ]
     },
     "execution_count": 11,
     "metadata": {},
     "output_type": "execute_result"
    }
   ],
   "source": [
    "ndf['SJV'].quantile(0.25)"
   ]
  }
 ],
 "metadata": {
  "kernelspec": {
   "display_name": "Python 3",
   "language": "python",
   "name": "python3"
  },
  "language_info": {
   "codemirror_mode": {
    "name": "ipython",
    "version": 3
   },
   "file_extension": ".py",
   "mimetype": "text/x-python",
   "name": "python",
   "nbconvert_exporter": "python",
   "pygments_lexer": "ipython3",
   "version": "3.6.4"
  }
 },
 "nbformat": 4,
 "nbformat_minor": 2
}
