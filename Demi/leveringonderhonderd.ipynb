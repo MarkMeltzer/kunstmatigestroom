{
 "cells": [
  {
   "cell_type": "code",
   "execution_count": 2,
   "metadata": {},
   "outputs": [],
   "source": [
    "from bokeh.plotting import figure\n",
    "from bokeh.io import output_file, show, save\n",
    "import pandas as pd\n",
    "import numpy as np\n",
    "import math"
   ]
  },
  {
   "cell_type": "code",
   "execution_count": 3,
   "metadata": {},
   "outputs": [],
   "source": [
    "df = pd.read_csv('LianderTotaalBEWERKT.csv', sep='\\t', low_memory=False)"
   ]
  },
  {
   "cell_type": "code",
   "execution_count": 4,
   "metadata": {},
   "outputs": [
    {
     "name": "stdout",
     "output_type": "stream",
     "text": [
      "186830\n",
      "<class 'float'>\n"
     ]
    }
   ],
   "source": [
    "#gem_groen_stroom_per_jaar_2011 = {'2011' : groen_stroom_2011['%Leveringsrichting'].mean()}\n",
    "\n",
    "#groen_stroom_2011['%Leveringsrichting'] =float(groen_stroom_99['%Leveringsrichting'].replace(',','.'))\n",
    "richting = list(df['%Leveringsrichting'])\n",
    "\n",
    "new_list = [] \n",
    "for data in richting:\n",
    "    olifant = data.replace(',','.')\n",
    "    new_list.append(float(olifant))\n",
    "print(len(new_list))\n",
    "print(type(new_list[34]))"
   ]
  },
  {
   "cell_type": "code",
   "execution_count": 5,
   "metadata": {},
   "outputs": [
    {
     "name": "stdout",
     "output_type": "stream",
     "text": [
      "5773\n"
     ]
    }
   ],
   "source": [
    "kleiner = 0\n",
    "for data in new_list:\n",
    "    if data < 100:\n",
    "        kleiner += 1\n",
    "print(kleiner)"
   ]
  },
  {
   "cell_type": "code",
   "execution_count": 6,
   "metadata": {},
   "outputs": [
    {
     "name": "stdout",
     "output_type": "stream",
     "text": [
      "193\n"
     ]
    }
   ],
   "source": [
    "#2011\n",
    "kleiner = 0\n",
    "for i in new_list[0:25945]:\n",
    "    if i < 100:\n",
    "        kleiner += 1\n",
    "print(kleiner)"
   ]
  },
  {
   "cell_type": "code",
   "execution_count": 7,
   "metadata": {},
   "outputs": [
    {
     "name": "stdout",
     "output_type": "stream",
     "text": [
      "303\n"
     ]
    }
   ],
   "source": [
    "#2012\n",
    "kleiner = 0\n",
    "for i in new_list[25946:51995]:\n",
    "    if i < 100:\n",
    "        kleiner += 1\n",
    "print(kleiner)"
   ]
  },
  {
   "cell_type": "code",
   "execution_count": 12,
   "metadata": {},
   "outputs": [
    {
     "name": "stdout",
     "output_type": "stream",
     "text": [
      "492\n"
     ]
    }
   ],
   "source": [
    "#2013\n",
    "kleiner = 0\n",
    "for i in new_list[51996:78142]:\n",
    "    if i < 100:\n",
    "        kleiner += 1\n",
    "print(kleiner)"
   ]
  },
  {
   "cell_type": "code",
   "execution_count": 8,
   "metadata": {},
   "outputs": [
    {
     "name": "stdout",
     "output_type": "stream",
     "text": [
      "717\n"
     ]
    }
   ],
   "source": [
    "#2014\n",
    "kleiner = 0\n",
    "for i in new_list[78143:104275]:\n",
    "    if i < 100:\n",
    "        kleiner += 1\n",
    "print(kleiner)"
   ]
  },
  {
   "cell_type": "code",
   "execution_count": 9,
   "metadata": {},
   "outputs": [
    {
     "name": "stdout",
     "output_type": "stream",
     "text": [
      "966\n"
     ]
    }
   ],
   "source": [
    "#2015\n",
    "kleiner = 0\n",
    "for i in new_list[104276:130492]:\n",
    "    if i < 100:\n",
    "        kleiner += 1\n",
    "print(kleiner)"
   ]
  },
  {
   "cell_type": "code",
   "execution_count": 10,
   "metadata": {},
   "outputs": [
    {
     "name": "stdout",
     "output_type": "stream",
     "text": [
      "1551\n"
     ]
    }
   ],
   "source": [
    "#2016\n",
    "kleiner = 0\n",
    "for i in new_list[130493:158661]:\n",
    "    if i < 100:\n",
    "        kleiner += 1\n",
    "print(kleiner)"
   ]
  },
  {
   "cell_type": "code",
   "execution_count": 11,
   "metadata": {},
   "outputs": [
    {
     "name": "stdout",
     "output_type": "stream",
     "text": [
      "1551\n"
     ]
    }
   ],
   "source": [
    "#2017\n",
    "kleiner = 0\n",
    "for i in new_list[158662:186830]:\n",
    "    if i < 100:\n",
    "        kleiner += 1\n",
    "print(kleiner)"
   ]
  },
  {
   "cell_type": "code",
   "execution_count": 18,
   "metadata": {},
   "outputs": [
    {
     "data": {
      "text/html": [
       "<div>\n",
       "<style scoped>\n",
       "    .dataframe tbody tr th:only-of-type {\n",
       "        vertical-align: middle;\n",
       "    }\n",
       "\n",
       "    .dataframe tbody tr th {\n",
       "        vertical-align: top;\n",
       "    }\n",
       "\n",
       "    .dataframe thead th {\n",
       "        text-align: right;\n",
       "    }\n",
       "</style>\n",
       "<table border=\"1\" class=\"dataframe\">\n",
       "  <thead>\n",
       "    <tr style=\"text-align: right;\">\n",
       "      <th></th>\n",
       "      <th>jaar</th>\n",
       "      <th>aantal onder 100</th>\n",
       "    </tr>\n",
       "  </thead>\n",
       "  <tbody>\n",
       "    <tr>\n",
       "      <th>0</th>\n",
       "      <td>2011</td>\n",
       "      <td>193</td>\n",
       "    </tr>\n",
       "    <tr>\n",
       "      <th>1</th>\n",
       "      <td>2012</td>\n",
       "      <td>303</td>\n",
       "    </tr>\n",
       "    <tr>\n",
       "      <th>2</th>\n",
       "      <td>2013</td>\n",
       "      <td>492</td>\n",
       "    </tr>\n",
       "    <tr>\n",
       "      <th>3</th>\n",
       "      <td>2014</td>\n",
       "      <td>717</td>\n",
       "    </tr>\n",
       "    <tr>\n",
       "      <th>4</th>\n",
       "      <td>2015</td>\n",
       "      <td>966</td>\n",
       "    </tr>\n",
       "    <tr>\n",
       "      <th>5</th>\n",
       "      <td>2016</td>\n",
       "      <td>1551</td>\n",
       "    </tr>\n",
       "    <tr>\n",
       "      <th>6</th>\n",
       "      <td>2017</td>\n",
       "      <td>1551</td>\n",
       "    </tr>\n",
       "  </tbody>\n",
       "</table>\n",
       "</div>"
      ],
      "text/plain": [
       "   jaar  aantal onder 100\n",
       "0  2011               193\n",
       "1  2012               303\n",
       "2  2013               492\n",
       "3  2014               717\n",
       "4  2015               966\n",
       "5  2016              1551\n",
       "6  2017              1551"
      ]
     },
     "execution_count": 18,
     "metadata": {},
     "output_type": "execute_result"
    }
   ],
   "source": [
    "levering = pd.DataFrame()\n",
    "levering['jaar'] = [2011, 2012, 2013, 2014, 2015, 2016, 2017]\n",
    "levering['aantal onder 100'] = [193, 303, 492, 717, 966, 1551, 1551]\n",
    "levering"
   ]
  },
  {
   "cell_type": "code",
   "execution_count": null,
   "metadata": {},
   "outputs": [],
   "source": []
  },
  {
   "cell_type": "code",
   "execution_count": null,
   "metadata": {},
   "outputs": [],
   "source": []
  }
 ],
 "metadata": {
  "kernelspec": {
   "display_name": "Python 3",
   "language": "python",
   "name": "python3"
  },
  "language_info": {
   "codemirror_mode": {
    "name": "ipython",
    "version": 3
   },
   "file_extension": ".py",
   "mimetype": "text/x-python",
   "name": "python",
   "nbconvert_exporter": "python",
   "pygments_lexer": "ipython3",
   "version": "3.6.4"
  }
 },
 "nbformat": 4,
 "nbformat_minor": 2
}
