{
 "cells": [
  {
   "cell_type": "code",
   "execution_count": 122,
   "metadata": {},
   "outputs": [],
   "source": [
    "from bokeh.plotting import figure\n",
    "from bokeh.io import output_file, show, save\n",
    "import pandas as pd\n",
    "import numpy as np\n",
    "import math"
   ]
  },
  {
   "cell_type": "code",
   "execution_count": 123,
   "metadata": {},
   "outputs": [],
   "source": [
    "groen_stroom_2011 = pd.read_csv('../datasets/LianderTotaalBEWERKT.csv', sep='\\t', low_memory=False)\n"
   ]
  },
  {
   "cell_type": "code",
   "execution_count": 124,
   "metadata": {
    "scrolled": false
   },
   "outputs": [],
   "source": [
    "#groen_stroom_2011 = data_stroom_en_gas[data_stroom_en_gas['jaar'] == 2017]\n",
    "\n"
   ]
  },
  {
   "cell_type": "code",
   "execution_count": 125,
   "metadata": {},
   "outputs": [
    {
     "name": "stdout",
     "output_type": "stream",
     "text": [
      "186830\n",
      "<class 'float'>\n"
     ]
    }
   ],
   "source": [
    "#gem_groen_stroom_per_jaar_2011 = {'2011' : groen_stroom_2011['%Leveringsrichting'].mean()}\n",
    "\n",
    "#groen_stroom_2011['%Leveringsrichting'] =float(groen_stroom_99['%Leveringsrichting'].replace(',','.'))\n",
    "richting = list(groen_stroom_2011['%Leveringsrichting'])\n",
    "\n",
    "new_list = [] \n",
    "for data in richting:\n",
    "    olifant = data.replace(',','.')\n",
    "    new_list.append(float(olifant))\n",
    "print(len(new_list))\n",
    "print(type(new_list[34]))"
   ]
  },
  {
   "cell_type": "code",
   "execution_count": 126,
   "metadata": {},
   "outputs": [
    {
     "name": "stdout",
     "output_type": "stream",
     "text": [
      "99.73223545469145\n",
      "5773\n"
     ]
    }
   ],
   "source": [
    "print(np.mean(new_list))\n",
    "kleiner = 0\n",
    "for data in new_list:\n",
    "    if data < 100:\n",
    "        kleiner += 1\n",
    "print(kleiner)"
   ]
  },
  {
   "cell_type": "code",
   "execution_count": 127,
   "metadata": {},
   "outputs": [
    {
     "name": "stdout",
     "output_type": "stream",
     "text": [
      "181068\n",
      "186830\n",
      "1648\n",
      "296\n",
      "64\n"
     ]
    }
   ],
   "source": [
    "negentig_en_kleiner = 0\n",
    "negentig_eenennegentig = 0\n",
    "eenennegentig_tweeennegentig = 0\n",
    "tweeennegentig_drieennegentig = 0\n",
    "drieennegentig_vierennegentig = 0\n",
    "vierennegentig_vijfennegentig = 0\n",
    "vijfennegentig_zesennegentig = 0\n",
    "zesennegentig_zevenennegentig = 0\n",
    "zevenennegentig_achtennegentig = 0\n",
    "achtennegentig_negenennegentig = 0\n",
    "negenennegentig_negenennegentigvijf = 0\n",
    "negenennegentigvijf_hondert = 0\n",
    "for punt in new_list:\n",
    "    if punt <= 90:\n",
    "        negentig_en_kleiner +=1\n",
    "    elif punt <= 91:\n",
    "        negentig_eenennegentig += 1\n",
    "    elif punt <= 92:\n",
    "        eenennegentig_tweeennegentig += 1\n",
    "    elif punt <= 93:\n",
    "        tweeennegentig_drieennegentig += 1\n",
    "    elif punt <= 94:\n",
    "        drieennegentig_vierennegentig += 1\n",
    "    elif punt <= 95:\n",
    "        vierennegentig_vijfennegentig += 1\n",
    "    elif punt <= 96:\n",
    "        vijfennegentig_zesennegentig += 1\n",
    "    elif punt <= 97:\n",
    "        zesennegentig_zevenennegentig += 1\n",
    "    elif punt <= 98:\n",
    "        zevenennegentig_achtennegentig += 1\n",
    "    elif punt <= 99:\n",
    "        achtennegentig_negenennegentig += 1\n",
    "    elif punt <= 99.5:\n",
    "        negenennegentig_negenennegentigvijf += 1\n",
    "    elif punt <= 100:\n",
    "        negenennegentigvijf_hondert += 1\n",
    "print(negenennegentigvijf_hondert)\n",
    "\n",
    "totaal = negentig_en_kleiner + negentig_eenennegentig + eenennegentig_tweeennegentig + tweeennegentig_drieennegentig + drieennegentig_vierennegentig + vierennegentig_vijfennegentig + vijfennegentig_zesennegentig + zesennegentig_zevenennegentig + zevenennegentig_achtennegentig + achtennegentig_negenennegentig + negenennegentig_negenennegentigvijf + negenennegentigvijf_hondert\n",
    "print(totaal)\n"
   ]
  },
  {
   "cell_type": "code",
   "execution_count": 128,
   "metadata": {},
   "outputs": [
    {
     "data": {
      "text/plain": [
       "'C:\\\\Users\\\\Marlon de Jong\\\\Documents\\\\kunstmatigestroom\\\\Marlon\\\\histogramoefen.html'"
      ]
     },
     "execution_count": 128,
     "metadata": {},
     "output_type": "execute_result"
    }
   ],
   "source": [
    "import numpy as np\n",
    "import scipy.special\n",
    "\n",
    "from bokeh.layouts import gridplot\n",
    "from bokeh.plotting import figure, show, output_file\n",
    "\n",
    "p1 = figure(title=\"Stroomrichting amsterdam 2011\", background_fill_color=\"#E8DDCB\")\n",
    "\n",
    "hist, edges = np.histogram(new_list, density=True, bins=500)\n",
    "\n",
    "\n",
    "\n",
    "p1.quad(top=hist, bottom=0, left=edges[:-1], right=edges[1:],\n",
    "        fill_color=\"#036564\", line_color=\"#033649\")\n",
    "\n",
    "\n",
    "\n",
    "\n",
    "p1.xaxis.axis_label = 'procentuele stroomrichting'\n",
    "p1.yaxis.axis_label = 'hoeveelheid'\n",
    "gridplot(p1, ncols=2, plot_width=1000, plot_height=400, toolbar_location=None)\n",
    "\n",
    "output_file(\"histogramoefen.html\")\n",
    "\n",
    "save(p1)"
   ]
  },
  {
   "cell_type": "code",
   "execution_count": null,
   "metadata": {},
   "outputs": [],
   "source": []
  },
  {
   "cell_type": "code",
   "execution_count": null,
   "metadata": {},
   "outputs": [],
   "source": []
  }
 ],
 "metadata": {
  "kernelspec": {
   "display_name": "Python 3",
   "language": "python",
   "name": "python3"
  },
  "language_info": {
   "codemirror_mode": {
    "name": "ipython",
    "version": 3
   },
   "file_extension": ".py",
   "mimetype": "text/x-python",
   "name": "python",
   "nbconvert_exporter": "python",
   "pygments_lexer": "ipython3",
   "version": "3.6.5"
  }
 },
 "nbformat": 4,
 "nbformat_minor": 2
}
