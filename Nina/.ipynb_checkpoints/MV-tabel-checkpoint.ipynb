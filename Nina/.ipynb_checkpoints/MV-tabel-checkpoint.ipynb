{
 "cells": [
  {
   "cell_type": "code",
   "execution_count": 1,
   "metadata": {},
   "outputs": [],
   "source": [
    "import numpy as np\n",
    "import pandas as pd"
   ]
  },
  {
   "cell_type": "code",
   "execution_count": 2,
   "metadata": {},
   "outputs": [
    {
     "data": {
      "text/html": [
       "<div>\n",
       "<style scoped>\n",
       "    .dataframe tbody tr th:only-of-type {\n",
       "        vertical-align: middle;\n",
       "    }\n",
       "\n",
       "    .dataframe tbody tr th {\n",
       "        vertical-align: top;\n",
       "    }\n",
       "\n",
       "    .dataframe thead th {\n",
       "        text-align: right;\n",
       "    }\n",
       "</style>\n",
       "<table border=\"1\" class=\"dataframe\">\n",
       "  <thead>\n",
       "    <tr style=\"text-align: right;\">\n",
       "      <th></th>\n",
       "      <th>gb/std</th>\n",
       "      <th>bevolking</th>\n",
       "      <th>woningen</th>\n",
       "      <th>gemiddelde woningbezetting</th>\n",
       "    </tr>\n",
       "  </thead>\n",
       "  <tbody>\n",
       "    <tr>\n",
       "      <th>0</th>\n",
       "      <td>Centrum</td>\n",
       "      <td>86422</td>\n",
       "      <td>54026</td>\n",
       "      <td>1,60</td>\n",
       "    </tr>\n",
       "    <tr>\n",
       "      <th>1</th>\n",
       "      <td>West</td>\n",
       "      <td>143842</td>\n",
       "      <td>78465</td>\n",
       "      <td>1.83</td>\n",
       "    </tr>\n",
       "    <tr>\n",
       "      <th>2</th>\n",
       "      <td>Nieuw-West</td>\n",
       "      <td>151677</td>\n",
       "      <td>64838</td>\n",
       "      <td>2.34</td>\n",
       "    </tr>\n",
       "    <tr>\n",
       "      <th>3</th>\n",
       "      <td>Zuid</td>\n",
       "      <td>144432</td>\n",
       "      <td>80036</td>\n",
       "      <td>1,80</td>\n",
       "    </tr>\n",
       "    <tr>\n",
       "      <th>4</th>\n",
       "      <td>Oost</td>\n",
       "      <td>135767</td>\n",
       "      <td>67430</td>\n",
       "      <td>2.01</td>\n",
       "    </tr>\n",
       "    <tr>\n",
       "      <th>5</th>\n",
       "      <td>Noord</td>\n",
       "      <td>94766</td>\n",
       "      <td>42360</td>\n",
       "      <td>2.24</td>\n",
       "    </tr>\n",
       "    <tr>\n",
       "      <th>6</th>\n",
       "      <td>Zuidoost</td>\n",
       "      <td>87854</td>\n",
       "      <td>40665</td>\n",
       "      <td>2.16</td>\n",
       "    </tr>\n",
       "    <tr>\n",
       "      <th>7</th>\n",
       "      <td>Westpoort</td>\n",
       "      <td>192</td>\n",
       "      <td>38</td>\n",
       "      <td>5.05</td>\n",
       "    </tr>\n",
       "    <tr>\n",
       "      <th>8</th>\n",
       "      <td>Amsterdam</td>\n",
       "      <td>844952</td>\n",
       "      <td>427858</td>\n",
       "      <td>1.97</td>\n",
       "    </tr>\n",
       "  </tbody>\n",
       "</table>\n",
       "</div>"
      ],
      "text/plain": [
       "       gb/std  bevolking  woningen gemiddelde woningbezetting\n",
       "0     Centrum      86422     54026                       1,60\n",
       "1        West     143842     78465                       1.83\n",
       "2  Nieuw-West     151677     64838                       2.34\n",
       "3        Zuid     144432     80036                       1,80\n",
       "4        Oost     135767     67430                       2.01\n",
       "5       Noord      94766     42360                       2.24\n",
       "6    Zuidoost      87854     40665                       2.16\n",
       "7   Westpoort        192        38                       5.05\n",
       "8   Amsterdam     844952    427858                       1.97"
      ]
     },
     "execution_count": 2,
     "metadata": {},
     "output_type": "execute_result"
    }
   ],
   "source": [
    "data_gebieden = pd.read_csv('stadsdelen_schoon.csv', sep='\\t')\n",
    "data_gebieden\n"
   ]
  },
  {
   "cell_type": "code",
   "execution_count": 3,
   "metadata": {},
   "outputs": [],
   "source": [
    "data_stroomgas = pd.read_csv('../datasets/LianderTotal_NIEUW.csv', sep='\\t', low_memory=False)"
   ]
  },
  {
   "cell_type": "code",
   "execution_count": 4,
   "metadata": {},
   "outputs": [],
   "source": [
    "data_stroom = data_stroomgas[data_stroomgas['PRODUCTSOORT'] == 'ELK']"
   ]
  },
  {
   "cell_type": "code",
   "execution_count": 45,
   "metadata": {},
   "outputs": [],
   "source": [
    "data_gas = data_stroomgas[data_stroomgas['PRODUCTSOORT'] == 'GAS']"
   ]
  },
  {
   "cell_type": "code",
   "execution_count": 5,
   "metadata": {},
   "outputs": [],
   "source": [
    "centrum = data_stroom[data_stroom['WIJKEN'] == 'CENTRUM']\n",
    "west = data_stroom[data_stroom['WIJKEN'] == 'WEST']\n",
    "nieuw_west = data_stroom[data_stroom['WIJKEN'] == 'NIEUW-WEST']\n",
    "zuid = data_stroom[data_stroom['WIJKEN'] == 'ZUID']\n",
    "oost = data_stroom[data_stroom['WIJKEN'] == 'OOST']\n",
    "noord = data_stroom[data_stroom['WIJKEN'] == 'NOORD']\n",
    "zuidoost = data_stroom[data_stroom['WIJKEN'] == 'ZUIDOOST']\n",
    "westpoort = data_stroom[data_stroom['WIJKEN'] == 'WESTPOORT']"
   ]
  },
  {
   "cell_type": "code",
   "execution_count": 6,
   "metadata": {},
   "outputs": [
    {
     "name": "stdout",
     "output_type": "stream",
     "text": [
      "3870.44\n"
     ]
    }
   ],
   "source": [
    "mean = round(float(westpoort['SJV'].mean()),2)\n",
    "print(mean)"
   ]
  },
  {
   "cell_type": "code",
   "execution_count": 7,
   "metadata": {},
   "outputs": [
    {
     "name": "stdout",
     "output_type": "stream",
     "text": [
      "2571.86\n"
     ]
    }
   ],
   "source": [
    "gemAdam = round(float(data_stroom['SJV'].mean()),2)\n",
    "print(gemAdam)"
   ]
  },
  {
   "cell_type": "code",
   "execution_count": 8,
   "metadata": {},
   "outputs": [
    {
     "data": {
      "text/html": [
       "<div>\n",
       "<style scoped>\n",
       "    .dataframe tbody tr th:only-of-type {\n",
       "        vertical-align: middle;\n",
       "    }\n",
       "\n",
       "    .dataframe tbody tr th {\n",
       "        vertical-align: top;\n",
       "    }\n",
       "\n",
       "    .dataframe thead th {\n",
       "        text-align: right;\n",
       "    }\n",
       "</style>\n",
       "<table border=\"1\" class=\"dataframe\">\n",
       "  <thead>\n",
       "    <tr style=\"text-align: right;\">\n",
       "      <th></th>\n",
       "      <th>gebied</th>\n",
       "      <th>bevolking</th>\n",
       "      <th>gem. stroomverbruik</th>\n",
       "      <th>verschil</th>\n",
       "    </tr>\n",
       "  </thead>\n",
       "  <tbody>\n",
       "    <tr>\n",
       "      <th>0</th>\n",
       "      <td>Centrum</td>\n",
       "      <td>86422</td>\n",
       "      <td>2877.37</td>\n",
       "      <td>305.51</td>\n",
       "    </tr>\n",
       "    <tr>\n",
       "      <th>1</th>\n",
       "      <td>West</td>\n",
       "      <td>143842</td>\n",
       "      <td>2315.59</td>\n",
       "      <td>-256.27</td>\n",
       "    </tr>\n",
       "    <tr>\n",
       "      <th>2</th>\n",
       "      <td>Nieuw-West</td>\n",
       "      <td>151677</td>\n",
       "      <td>2555.81</td>\n",
       "      <td>-16.05</td>\n",
       "    </tr>\n",
       "    <tr>\n",
       "      <th>3</th>\n",
       "      <td>Zuid</td>\n",
       "      <td>144432</td>\n",
       "      <td>2631.16</td>\n",
       "      <td>59.30</td>\n",
       "    </tr>\n",
       "    <tr>\n",
       "      <th>4</th>\n",
       "      <td>Oost</td>\n",
       "      <td>135767</td>\n",
       "      <td>2522.63</td>\n",
       "      <td>-49.23</td>\n",
       "    </tr>\n",
       "    <tr>\n",
       "      <th>5</th>\n",
       "      <td>Noord</td>\n",
       "      <td>94766</td>\n",
       "      <td>2590.14</td>\n",
       "      <td>18.28</td>\n",
       "    </tr>\n",
       "    <tr>\n",
       "      <th>6</th>\n",
       "      <td>Zuidoost</td>\n",
       "      <td>87854</td>\n",
       "      <td>2663.90</td>\n",
       "      <td>92.04</td>\n",
       "    </tr>\n",
       "    <tr>\n",
       "      <th>7</th>\n",
       "      <td>Westpoort</td>\n",
       "      <td>192</td>\n",
       "      <td>3870.44</td>\n",
       "      <td>1298.58</td>\n",
       "    </tr>\n",
       "    <tr>\n",
       "      <th>8</th>\n",
       "      <td>Amsterdam</td>\n",
       "      <td>844952</td>\n",
       "      <td>2571.86</td>\n",
       "      <td>0.00</td>\n",
       "    </tr>\n",
       "  </tbody>\n",
       "</table>\n",
       "</div>"
      ],
      "text/plain": [
       "       gebied  bevolking  gem. stroomverbruik  verschil\n",
       "0     Centrum      86422              2877.37    305.51\n",
       "1        West     143842              2315.59   -256.27\n",
       "2  Nieuw-West     151677              2555.81    -16.05\n",
       "3        Zuid     144432              2631.16     59.30\n",
       "4        Oost     135767              2522.63    -49.23\n",
       "5       Noord      94766              2590.14     18.28\n",
       "6    Zuidoost      87854              2663.90     92.04\n",
       "7   Westpoort        192              3870.44   1298.58\n",
       "8   Amsterdam     844952              2571.86      0.00"
      ]
     },
     "execution_count": 8,
     "metadata": {},
     "output_type": "execute_result"
    }
   ],
   "source": [
    "gebieden = pd.DataFrame()\n",
    "\n",
    "gebieden['gebied'] = data_gebieden['gb/std']\n",
    "gebieden['bevolking'] = data_gebieden['bevolking']\n",
    "gebieden['gem. stroomverbruik'] = [2877.37, 2315.59, 2555.81, 2631.16, 2522.63, \n",
    "                                   2590.14, 2663.9, 3870.44, 2571.86 ]\n",
    "gebieden['verschil'] = round(gebieden['gem. stroomverbruik'] - gemAdam,2)\n",
    "\n",
    "gebieden"
   ]
  },
  {
   "cell_type": "code",
   "execution_count": 42,
   "metadata": {},
   "outputs": [
    {
     "data": {
      "text/html": [
       "<div>\n",
       "<style scoped>\n",
       "    .dataframe tbody tr th:only-of-type {\n",
       "        vertical-align: middle;\n",
       "    }\n",
       "\n",
       "    .dataframe tbody tr th {\n",
       "        vertical-align: top;\n",
       "    }\n",
       "\n",
       "    .dataframe thead th {\n",
       "        text-align: right;\n",
       "    }\n",
       "</style>\n",
       "<table border=\"1\" class=\"dataframe\">\n",
       "  <thead>\n",
       "    <tr style=\"text-align: right;\">\n",
       "      <th></th>\n",
       "      <th>gebied</th>\n",
       "      <th>bevolking</th>\n",
       "      <th>gem. stroomverbruik</th>\n",
       "      <th>verschil</th>\n",
       "    </tr>\n",
       "  </thead>\n",
       "  <tbody>\n",
       "    <tr>\n",
       "      <th>0</th>\n",
       "      <td>Centrum</td>\n",
       "      <td>86422</td>\n",
       "      <td>2877.37</td>\n",
       "      <td>305.51</td>\n",
       "    </tr>\n",
       "    <tr>\n",
       "      <th>1</th>\n",
       "      <td>West</td>\n",
       "      <td>143842</td>\n",
       "      <td>2315.59</td>\n",
       "      <td>-256.27</td>\n",
       "    </tr>\n",
       "    <tr>\n",
       "      <th>2</th>\n",
       "      <td>Nieuw-West</td>\n",
       "      <td>151677</td>\n",
       "      <td>2555.81</td>\n",
       "      <td>-16.05</td>\n",
       "    </tr>\n",
       "    <tr>\n",
       "      <th>3</th>\n",
       "      <td>Zuid</td>\n",
       "      <td>144432</td>\n",
       "      <td>2631.16</td>\n",
       "      <td>59.30</td>\n",
       "    </tr>\n",
       "    <tr>\n",
       "      <th>4</th>\n",
       "      <td>Oost</td>\n",
       "      <td>135767</td>\n",
       "      <td>2522.63</td>\n",
       "      <td>-49.23</td>\n",
       "    </tr>\n",
       "    <tr>\n",
       "      <th>5</th>\n",
       "      <td>Noord</td>\n",
       "      <td>94766</td>\n",
       "      <td>2590.14</td>\n",
       "      <td>18.28</td>\n",
       "    </tr>\n",
       "    <tr>\n",
       "      <th>6</th>\n",
       "      <td>Zuidoost</td>\n",
       "      <td>87854</td>\n",
       "      <td>2663.90</td>\n",
       "      <td>92.04</td>\n",
       "    </tr>\n",
       "    <tr>\n",
       "      <th>7</th>\n",
       "      <td>Westpoort</td>\n",
       "      <td>192</td>\n",
       "      <td>3870.44</td>\n",
       "      <td>1298.58</td>\n",
       "    </tr>\n",
       "  </tbody>\n",
       "</table>\n",
       "</div>"
      ],
      "text/plain": [
       "       gebied  bevolking  gem. stroomverbruik  verschil\n",
       "0     Centrum      86422              2877.37    305.51\n",
       "1        West     143842              2315.59   -256.27\n",
       "2  Nieuw-West     151677              2555.81    -16.05\n",
       "3        Zuid     144432              2631.16     59.30\n",
       "4        Oost     135767              2522.63    -49.23\n",
       "5       Noord      94766              2590.14     18.28\n",
       "6    Zuidoost      87854              2663.90     92.04\n",
       "7   Westpoort        192              3870.44   1298.58"
      ]
     },
     "execution_count": 42,
     "metadata": {},
     "output_type": "execute_result"
    }
   ],
   "source": [
    "gebieden2 = gebieden.ix[~(gebieden['gebied'] == 'Amsterdam')]\n",
    "gebieden2"
   ]
  },
  {
   "cell_type": "code",
   "execution_count": 10,
   "metadata": {},
   "outputs": [
    {
     "data": {
      "text/plain": [
       "'C:\\\\Nina\\\\KI\\\\DataVis\\\\kunstmatigestroom\\\\Nina\\\\table.html'"
      ]
     },
     "execution_count": 10,
     "metadata": {},
     "output_type": "execute_result"
    }
   ],
   "source": [
    "from datetime import date\n",
    "from random import randint\n",
    "\n",
    "from bokeh.models import ColumnDataSource\n",
    "from bokeh.models.widgets import DataTable, DateFormatter, TableColumn\n",
    "from bokeh.io import output_file, show, save\n",
    "\n",
    "output_file(\"table.html\")\n",
    "\n",
    "data = dict(gebieden2[['gebied', 'gem. stroomverbruik', 'verschil']])\n",
    "source = ColumnDataSource(data)\n",
    "\n",
    "columns = [\n",
    "        TableColumn(field=\"gebied\", title=\"gebied\"),\n",
    "        TableColumn(field=\"gem. stroomverbruik\", title=\"gem. stroomverbruik\"),\n",
    "        TableColumn(field =\"verschil\", title='verschil')\n",
    "    ]\n",
    "\n",
    "data_table = DataTable(source=source, columns=columns, width=400, height=280)\n",
    "\n",
    "save(data_table)"
   ]
  },
  {
   "cell_type": "code",
   "execution_count": 33,
   "metadata": {},
   "outputs": [],
   "source": [
    "data_stroom11 = data_stroom[data_stroom['jaar'] == 2017]"
   ]
  },
  {
   "cell_type": "code",
   "execution_count": 23,
   "metadata": {},
   "outputs": [],
   "source": [
    "centrum11 = data_stroom11[data_stroom11['WIJKEN'] == 'CENTRUM']\n",
    "west11 = data_stroom11[data_stroom11['WIJKEN'] == 'WEST']\n",
    "nieuw_west11 = data_stroom11[data_stroom11['WIJKEN'] == 'NIEUW-WEST']\n",
    "zuid11 = data_stroom11[data_stroom11['WIJKEN'] == 'ZUID']\n",
    "oost11 = data_stroom11[data_stroom11['WIJKEN'] == 'OOST']\n",
    "noord11 = data_stroom11[data_stroom11['WIJKEN'] == 'NOORD']\n",
    "zuidoost11 = data_stroom11[data_stroom11['WIJKEN'] == 'ZUIDOOST']\n",
    "westpoort11 = data_stroom11[data_stroom11['WIJKEN'] == 'WESTPOORT']"
   ]
  },
  {
   "cell_type": "code",
   "execution_count": 41,
   "metadata": {
    "scrolled": true
   },
   "outputs": [
    {
     "name": "stdout",
     "output_type": "stream",
     "text": [
      "2691.72\n"
     ]
    }
   ],
   "source": [
    "mean11 = round(float(zuidoost11['SJV'].mean()),2)\n",
    "print(mean11)"
   ]
  },
  {
   "cell_type": "code",
   "execution_count": 83,
   "metadata": {},
   "outputs": [],
   "source": [
    "data_gasPJ = data_gas[data_gas['jaar'] == 2014]\n"
   ]
  },
  {
   "cell_type": "code",
   "execution_count": 84,
   "metadata": {},
   "outputs": [],
   "source": [
    "centrumGas = data_gasPJ[data_gasPJ['WIJKEN'] == 'CENTRUM']\n",
    "westGas = data_gasPJ[data_gasPJ['WIJKEN'] == 'WEST']\n",
    "nieuw_westGas = data_gasPJ[data_gasPJ['WIJKEN'] == 'NIEUW-WEST']\n",
    "zuidGas = data_gasPJ[data_gasPJ['WIJKEN'] == 'ZUID']\n",
    "oostGas = data_gasPJ[data_gasPJ['WIJKEN'] == 'OOST']\n",
    "noordGas = data_gasPJ[data_gasPJ['WIJKEN'] == 'NOORD']\n",
    "zuidoostGas = data_gasPJ[data_gasPJ['WIJKEN'] == 'ZUIDOOST']\n",
    "westpoortGas = data_gasPJ[data_gasPJ['WIJKEN'] == 'WESTPOORT']"
   ]
  },
  {
   "cell_type": "code",
   "execution_count": 92,
   "metadata": {
    "scrolled": false
   },
   "outputs": [
    {
     "name": "stdout",
     "output_type": "stream",
     "text": [
      "nan\n"
     ]
    }
   ],
   "source": [
    "meanGas = round(float(zuidoostGas['SJV'].mean()),2)\n",
    "print(meanGas)"
   ]
  },
  {
   "cell_type": "code",
   "execution_count": null,
   "metadata": {},
   "outputs": [],
   "source": []
  }
 ],
 "metadata": {
  "kernelspec": {
   "display_name": "Python 3",
   "language": "python",
   "name": "python3"
  },
  "language_info": {
   "codemirror_mode": {
    "name": "ipython",
    "version": 3
   },
   "file_extension": ".py",
   "mimetype": "text/x-python",
   "name": "python",
   "nbconvert_exporter": "python",
   "pygments_lexer": "ipython3",
   "version": "3.6.3"
  }
 },
 "nbformat": 4,
 "nbformat_minor": 2
}
