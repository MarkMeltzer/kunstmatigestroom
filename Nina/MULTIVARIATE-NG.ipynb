{
 "cells": [
  {
   "cell_type": "code",
   "execution_count": 3,
   "metadata": {},
   "outputs": [],
   "source": [
    "import numpy as np\n",
    "import pandas as pd"
   ]
  },
  {
   "cell_type": "code",
   "execution_count": 26,
   "metadata": {},
   "outputs": [
    {
     "data": {
      "text/html": [
       "<div>\n",
       "<style scoped>\n",
       "    .dataframe tbody tr th:only-of-type {\n",
       "        vertical-align: middle;\n",
       "    }\n",
       "\n",
       "    .dataframe tbody tr th {\n",
       "        vertical-align: top;\n",
       "    }\n",
       "\n",
       "    .dataframe thead th {\n",
       "        text-align: right;\n",
       "    }\n",
       "</style>\n",
       "<table border=\"1\" class=\"dataframe\">\n",
       "  <thead>\n",
       "    <tr style=\"text-align: right;\">\n",
       "      <th></th>\n",
       "      <th>gb/std</th>\n",
       "      <th>bevolking</th>\n",
       "      <th>woningen</th>\n",
       "      <th>gemiddelde woningbezetting</th>\n",
       "    </tr>\n",
       "  </thead>\n",
       "  <tbody>\n",
       "    <tr>\n",
       "      <th>0</th>\n",
       "      <td>Centrum</td>\n",
       "      <td>86422</td>\n",
       "      <td>54026</td>\n",
       "      <td>1,60</td>\n",
       "    </tr>\n",
       "    <tr>\n",
       "      <th>1</th>\n",
       "      <td>West</td>\n",
       "      <td>143842</td>\n",
       "      <td>78465</td>\n",
       "      <td>1.83</td>\n",
       "    </tr>\n",
       "    <tr>\n",
       "      <th>2</th>\n",
       "      <td>Nieuw-West</td>\n",
       "      <td>151677</td>\n",
       "      <td>64838</td>\n",
       "      <td>2.34</td>\n",
       "    </tr>\n",
       "    <tr>\n",
       "      <th>3</th>\n",
       "      <td>Zuid</td>\n",
       "      <td>144432</td>\n",
       "      <td>80036</td>\n",
       "      <td>1,80</td>\n",
       "    </tr>\n",
       "    <tr>\n",
       "      <th>4</th>\n",
       "      <td>Oost</td>\n",
       "      <td>135767</td>\n",
       "      <td>67430</td>\n",
       "      <td>2.01</td>\n",
       "    </tr>\n",
       "    <tr>\n",
       "      <th>5</th>\n",
       "      <td>Noord</td>\n",
       "      <td>94766</td>\n",
       "      <td>42360</td>\n",
       "      <td>2.24</td>\n",
       "    </tr>\n",
       "    <tr>\n",
       "      <th>6</th>\n",
       "      <td>Zuidoost</td>\n",
       "      <td>87854</td>\n",
       "      <td>40665</td>\n",
       "      <td>2.16</td>\n",
       "    </tr>\n",
       "    <tr>\n",
       "      <th>7</th>\n",
       "      <td>Westpoort</td>\n",
       "      <td>192</td>\n",
       "      <td>38</td>\n",
       "      <td>5.05</td>\n",
       "    </tr>\n",
       "    <tr>\n",
       "      <th>8</th>\n",
       "      <td>Amsterdam</td>\n",
       "      <td>844952</td>\n",
       "      <td>427858</td>\n",
       "      <td>1.97</td>\n",
       "    </tr>\n",
       "  </tbody>\n",
       "</table>\n",
       "</div>"
      ],
      "text/plain": [
       "       gb/std  bevolking  woningen gemiddelde woningbezetting\n",
       "0     Centrum      86422     54026                       1,60\n",
       "1        West     143842     78465                       1.83\n",
       "2  Nieuw-West     151677     64838                       2.34\n",
       "3        Zuid     144432     80036                       1,80\n",
       "4        Oost     135767     67430                       2.01\n",
       "5       Noord      94766     42360                       2.24\n",
       "6    Zuidoost      87854     40665                       2.16\n",
       "7   Westpoort        192        38                       5.05\n",
       "8   Amsterdam     844952    427858                       1.97"
      ]
     },
     "execution_count": 26,
     "metadata": {},
     "output_type": "execute_result"
    }
   ],
   "source": [
    "data_gebieden = pd.read_csv('stadsdelen_schoon.csv', sep='\\t')\n",
    "data_gebieden"
   ]
  },
  {
   "cell_type": "code",
   "execution_count": 27,
   "metadata": {},
   "outputs": [],
   "source": [
    "data_stroom = pd.read_csv('../datasets/LianderTotaalBEWERKT.csv', sep='\\t', low_memory=False)\n"
   ]
  },
  {
   "cell_type": "code",
   "execution_count": 28,
   "metadata": {},
   "outputs": [],
   "source": [
    "centrum = data_stroom[data_stroom['WIJKEN'] == 'CENTRUM']  \n",
    "west = data_stroom[data_stroom['WIJKEN'] == 'WEST']  \n",
    "nieuw_west = data_stroom[data_stroom['WIJKEN'] == 'NIEUW-WEST']  \n",
    "zuid = data_stroom[data_stroom['WIJKEN'] == 'ZUID']  \n",
    "oost = data_stroom[data_stroom['WIJKEN'] == 'OOST']  \n",
    "noord = data_stroom[data_stroom['WIJKEN'] == 'NOORD']  \n",
    "zuidoost = data_stroom[data_stroom['WIJKEN'] == 'ZUIDOOST']  \n",
    "westpoort = data_stroom[data_stroom['WIJKEN'] == 'WESTPOORT']  "
   ]
  },
  {
   "cell_type": "code",
   "execution_count": 40,
   "metadata": {},
   "outputs": [
    {
     "name": "stdout",
     "output_type": "stream",
     "text": [
      "{'Centrum': 2226.6770755978018, 'West': 1737.0858503750605, 'Nieuw-West': 1959.5063114040543, 'Zuid': 2070.0260578403045, 'Oost': 1908.5762531686973, 'Noord': 2021.0368577401255, 'Zuidoost': 1985.1270627062706, 'Westpoort': 2911.0751445086707}\n"
     ]
    }
   ],
   "source": [
    "gem_stroom = {'Centrum' : centrum['SJV'].mean(), 'West' : west['SJV'].mean(), 'Nieuw-West' : nieuw_west['SJV'].mean(), \n",
    "              'Zuid' : zuid['SJV'].mean(), 'Oost' : oost['SJV'].mean(), 'Noord' : noord['SJV'].mean(), \n",
    "              'Zuidoost' : zuidoost['SJV'].mean(), 'Westpoort' : westpoort['SJV'].mean() } \n",
    "\n",
    "\n",
    "\n",
    "print(gem_stroom)"
   ]
  },
  {
   "cell_type": "code",
   "execution_count": 30,
   "metadata": {},
   "outputs": [
    {
     "data": {
      "text/plain": [
       "1737.0858503750605"
      ]
     },
     "execution_count": 30,
     "metadata": {},
     "output_type": "execute_result"
    }
   ],
   "source": [
    "west['SJV'].mean()"
   ]
  },
  {
   "cell_type": "code",
   "execution_count": 43,
   "metadata": {},
   "outputs": [
    {
     "ename": "TypeError",
     "evalue": "'Series' objects are mutable, thus they cannot be hashed",
     "output_type": "error",
     "traceback": [
      "\u001b[1;31m---------------------------------------------------------------------------\u001b[0m",
      "\u001b[1;31mTypeError\u001b[0m                                 Traceback (most recent call last)",
      "\u001b[1;32m<ipython-input-43-3f9179fbb287>\u001b[0m in \u001b[0;36m<module>\u001b[1;34m()\u001b[0m\n\u001b[0;32m      3\u001b[0m \u001b[0mgebieden\u001b[0m\u001b[1;33m[\u001b[0m\u001b[1;34m'gebied'\u001b[0m\u001b[1;33m]\u001b[0m \u001b[1;33m=\u001b[0m \u001b[0mdata_gebieden\u001b[0m\u001b[1;33m[\u001b[0m\u001b[1;34m'gb/std'\u001b[0m\u001b[1;33m]\u001b[0m\u001b[1;33m\u001b[0m\u001b[0m\n\u001b[0;32m      4\u001b[0m \u001b[0mgebieden\u001b[0m\u001b[1;33m[\u001b[0m\u001b[1;34m'bevolking'\u001b[0m\u001b[1;33m]\u001b[0m \u001b[1;33m=\u001b[0m \u001b[0mdata_gebieden\u001b[0m\u001b[1;33m[\u001b[0m\u001b[1;34m'bevolking'\u001b[0m\u001b[1;33m]\u001b[0m\u001b[1;33m\u001b[0m\u001b[0m\n\u001b[1;32m----> 5\u001b[1;33m \u001b[0mgebieden\u001b[0m\u001b[1;33m[\u001b[0m\u001b[1;34m'gem. stroomverbruik'\u001b[0m\u001b[1;33m]\u001b[0m \u001b[1;33m=\u001b[0m \u001b[0mgem_stroom\u001b[0m\u001b[1;33m[\u001b[0m\u001b[0mdata_gebieden\u001b[0m\u001b[1;33m[\u001b[0m\u001b[1;34m'gb/std'\u001b[0m\u001b[1;33m]\u001b[0m\u001b[1;33m]\u001b[0m\u001b[1;33m\u001b[0m\u001b[0m\n\u001b[0m\u001b[0;32m      6\u001b[0m \u001b[1;33m\u001b[0m\u001b[0m\n\u001b[0;32m      7\u001b[0m \u001b[0mgebieden\u001b[0m\u001b[1;33m\u001b[0m\u001b[0m\n",
      "\u001b[1;32mc:\\users\\ninav\\appdata\\local\\programs\\python\\python36-32\\lib\\site-packages\\pandas\\core\\generic.py\u001b[0m in \u001b[0;36m__hash__\u001b[1;34m(self)\u001b[0m\n\u001b[0;32m   1043\u001b[0m     \u001b[1;32mdef\u001b[0m \u001b[0m__hash__\u001b[0m\u001b[1;33m(\u001b[0m\u001b[0mself\u001b[0m\u001b[1;33m)\u001b[0m\u001b[1;33m:\u001b[0m\u001b[1;33m\u001b[0m\u001b[0m\n\u001b[0;32m   1044\u001b[0m         raise TypeError('{0!r} objects are mutable, thus they cannot be'\n\u001b[1;32m-> 1045\u001b[1;33m                         ' hashed'.format(self.__class__.__name__))\n\u001b[0m\u001b[0;32m   1046\u001b[0m \u001b[1;33m\u001b[0m\u001b[0m\n\u001b[0;32m   1047\u001b[0m     \u001b[1;32mdef\u001b[0m \u001b[0m__iter__\u001b[0m\u001b[1;33m(\u001b[0m\u001b[0mself\u001b[0m\u001b[1;33m)\u001b[0m\u001b[1;33m:\u001b[0m\u001b[1;33m\u001b[0m\u001b[0m\n",
      "\u001b[1;31mTypeError\u001b[0m: 'Series' objects are mutable, thus they cannot be hashed"
     ]
    }
   ],
   "source": [
    "gebieden = pd.DataFrame()\n",
    "\n",
    "gebieden['gebied'] = data_gebieden['gb/std']\n",
    "gebieden['bevolking'] = data_gebieden['bevolking']\n",
    "gebieden['gem. stroomverbruik'] = gem_stroom[data_gebieden['gb/std']]\n",
    "\n",
    "gebieden"
   ]
  },
  {
   "cell_type": "code",
   "execution_count": null,
   "metadata": {},
   "outputs": [],
   "source": []
  }
 ],
 "metadata": {
  "kernelspec": {
   "display_name": "Python 3",
   "language": "python",
   "name": "python3"
  },
  "language_info": {
   "codemirror_mode": {
    "name": "ipython",
    "version": 3
   },
   "file_extension": ".py",
   "mimetype": "text/x-python",
   "name": "python",
   "nbconvert_exporter": "python",
   "pygments_lexer": "ipython3",
   "version": "3.6.5"
  }
 },
 "nbformat": 4,
 "nbformat_minor": 2
}
