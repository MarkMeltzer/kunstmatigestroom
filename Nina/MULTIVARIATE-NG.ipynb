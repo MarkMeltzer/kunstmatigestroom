{
 "cells": [
  {
   "cell_type": "code",
   "execution_count": 25,
   "metadata": {},
   "outputs": [],
   "source": [
    "import numpy as np\n",
    "import pandas as pd\n",
    "import math\n",
    "\n",
    "from datetime import date\n",
    "from random import randint\n",
    "\n",
    "from bokeh.io import output_file, show, save\n",
    "from bokeh.layouts import widgetbox\n",
    "from bokeh.models import ColumnDataSource\n",
    "from bokeh.models.widgets import DataTable, DateFormatter, TableColumn"
   ]
  },
  {
   "cell_type": "code",
   "execution_count": 3,
   "metadata": {},
   "outputs": [
    {
     "data": {
      "text/html": [
       "<div>\n",
       "<style scoped>\n",
       "    .dataframe tbody tr th:only-of-type {\n",
       "        vertical-align: middle;\n",
       "    }\n",
       "\n",
       "    .dataframe tbody tr th {\n",
       "        vertical-align: top;\n",
       "    }\n",
       "\n",
       "    .dataframe thead th {\n",
       "        text-align: right;\n",
       "    }\n",
       "</style>\n",
       "<table border=\"1\" class=\"dataframe\">\n",
       "  <thead>\n",
       "    <tr style=\"text-align: right;\">\n",
       "      <th></th>\n",
       "      <th>gb/std</th>\n",
       "      <th>bevolking</th>\n",
       "      <th>woningen</th>\n",
       "      <th>gemiddelde woningbezetting</th>\n",
       "    </tr>\n",
       "  </thead>\n",
       "  <tbody>\n",
       "    <tr>\n",
       "      <th>0</th>\n",
       "      <td>Centrum</td>\n",
       "      <td>86422</td>\n",
       "      <td>54026</td>\n",
       "      <td>1,60</td>\n",
       "    </tr>\n",
       "    <tr>\n",
       "      <th>1</th>\n",
       "      <td>West</td>\n",
       "      <td>143842</td>\n",
       "      <td>78465</td>\n",
       "      <td>1.83</td>\n",
       "    </tr>\n",
       "    <tr>\n",
       "      <th>2</th>\n",
       "      <td>Nieuw-West</td>\n",
       "      <td>151677</td>\n",
       "      <td>64838</td>\n",
       "      <td>2.34</td>\n",
       "    </tr>\n",
       "    <tr>\n",
       "      <th>3</th>\n",
       "      <td>Zuid</td>\n",
       "      <td>144432</td>\n",
       "      <td>80036</td>\n",
       "      <td>1,80</td>\n",
       "    </tr>\n",
       "    <tr>\n",
       "      <th>4</th>\n",
       "      <td>Oost</td>\n",
       "      <td>135767</td>\n",
       "      <td>67430</td>\n",
       "      <td>2.01</td>\n",
       "    </tr>\n",
       "    <tr>\n",
       "      <th>5</th>\n",
       "      <td>Noord</td>\n",
       "      <td>94766</td>\n",
       "      <td>42360</td>\n",
       "      <td>2.24</td>\n",
       "    </tr>\n",
       "    <tr>\n",
       "      <th>6</th>\n",
       "      <td>Zuidoost</td>\n",
       "      <td>87854</td>\n",
       "      <td>40665</td>\n",
       "      <td>2.16</td>\n",
       "    </tr>\n",
       "    <tr>\n",
       "      <th>7</th>\n",
       "      <td>Westpoort</td>\n",
       "      <td>192</td>\n",
       "      <td>38</td>\n",
       "      <td>5.05</td>\n",
       "    </tr>\n",
       "    <tr>\n",
       "      <th>8</th>\n",
       "      <td>Amsterdam</td>\n",
       "      <td>844952</td>\n",
       "      <td>427858</td>\n",
       "      <td>1.97</td>\n",
       "    </tr>\n",
       "  </tbody>\n",
       "</table>\n",
       "</div>"
      ],
      "text/plain": [
       "       gb/std  bevolking  woningen gemiddelde woningbezetting\n",
       "0     Centrum      86422     54026                       1,60\n",
       "1        West     143842     78465                       1.83\n",
       "2  Nieuw-West     151677     64838                       2.34\n",
       "3        Zuid     144432     80036                       1,80\n",
       "4        Oost     135767     67430                       2.01\n",
       "5       Noord      94766     42360                       2.24\n",
       "6    Zuidoost      87854     40665                       2.16\n",
       "7   Westpoort        192        38                       5.05\n",
       "8   Amsterdam     844952    427858                       1.97"
      ]
     },
     "execution_count": 3,
     "metadata": {},
     "output_type": "execute_result"
    }
   ],
   "source": [
    "data_gebieden = pd.read_csv('stadsdelen_schoon.csv', sep='\\t')\n",
    "data_gebieden"
   ]
  },
  {
   "cell_type": "code",
   "execution_count": 4,
   "metadata": {},
   "outputs": [],
   "source": [
    "data_stroomgas = pd.read_csv('../datasets/LianderTotaalBEWERKT.csv', sep='\\t', low_memory=False)\n"
   ]
  },
  {
   "cell_type": "code",
   "execution_count": 7,
   "metadata": {},
   "outputs": [],
   "source": [
    "data_stroom = data_stroomgas[data_stroomgas['PRODUCTSOORT'] == 'ELK']"
   ]
  },
  {
   "cell_type": "code",
   "execution_count": 10,
   "metadata": {},
   "outputs": [],
   "source": [
    "centrum = data_stroom[data_stroom['WIJKEN'] == 'CENTRUM']  \n",
    "west = data_stroom[data_stroom['WIJKEN'] == 'WEST']  \n",
    "nieuw_west = data_stroom[data_stroom['WIJKEN'] == 'NIEUW-WEST']  \n",
    "zuid = data_stroom[data_stroom['WIJKEN'] == 'ZUID']  \n",
    "oost = data_stroom[data_stroom['WIJKEN'] == 'OOST']  \n",
    "noord = data_stroom[data_stroom['WIJKEN'] == 'NOORD']  \n",
    "zuidoost = data_stroom[data_stroom['WIJKEN'] == 'ZUIDOOST']  \n",
    "westpoort = data_stroom[data_stroom['WIJKEN'] == 'WESTPOORT'] \n",
    "\n"
   ]
  },
  {
   "cell_type": "code",
   "execution_count": 18,
   "metadata": {},
   "outputs": [
    {
     "data": {
      "text/plain": [
       "3872.061"
      ]
     },
     "execution_count": 18,
     "metadata": {},
     "output_type": "execute_result"
    }
   ],
   "source": [
    "round(float(westpoort['SJV'].mean()),3)\n"
   ]
  },
  {
   "cell_type": "code",
   "execution_count": 20,
   "metadata": {},
   "outputs": [
    {
     "data": {
      "text/plain": [
       "2565.699"
      ]
     },
     "execution_count": 20,
     "metadata": {},
     "output_type": "execute_result"
    }
   ],
   "source": [
    "round(float(data_stroom['SJV'].mean()),3)"
   ]
  },
  {
   "cell_type": "code",
   "execution_count": 21,
   "metadata": {},
   "outputs": [
    {
     "data": {
      "text/html": [
       "<div>\n",
       "<style scoped>\n",
       "    .dataframe tbody tr th:only-of-type {\n",
       "        vertical-align: middle;\n",
       "    }\n",
       "\n",
       "    .dataframe tbody tr th {\n",
       "        vertical-align: top;\n",
       "    }\n",
       "\n",
       "    .dataframe thead th {\n",
       "        text-align: right;\n",
       "    }\n",
       "</style>\n",
       "<table border=\"1\" class=\"dataframe\">\n",
       "  <thead>\n",
       "    <tr style=\"text-align: right;\">\n",
       "      <th></th>\n",
       "      <th>gebied</th>\n",
       "      <th>bevolking</th>\n",
       "      <th>gem. verbruik</th>\n",
       "    </tr>\n",
       "  </thead>\n",
       "  <tbody>\n",
       "    <tr>\n",
       "      <th>0</th>\n",
       "      <td>Centrum</td>\n",
       "      <td>86422</td>\n",
       "      <td>2869.104</td>\n",
       "    </tr>\n",
       "    <tr>\n",
       "      <th>1</th>\n",
       "      <td>West</td>\n",
       "      <td>143842</td>\n",
       "      <td>2311.251</td>\n",
       "    </tr>\n",
       "    <tr>\n",
       "      <th>2</th>\n",
       "      <td>Nieuw-West</td>\n",
       "      <td>151677</td>\n",
       "      <td>2550.940</td>\n",
       "    </tr>\n",
       "    <tr>\n",
       "      <th>3</th>\n",
       "      <td>Zuid</td>\n",
       "      <td>144432</td>\n",
       "      <td>2627.577</td>\n",
       "    </tr>\n",
       "    <tr>\n",
       "      <th>4</th>\n",
       "      <td>Oost</td>\n",
       "      <td>135767</td>\n",
       "      <td>2514.696</td>\n",
       "    </tr>\n",
       "    <tr>\n",
       "      <th>5</th>\n",
       "      <td>Noord</td>\n",
       "      <td>94766</td>\n",
       "      <td>2583.748</td>\n",
       "    </tr>\n",
       "    <tr>\n",
       "      <th>6</th>\n",
       "      <td>Zuidoost</td>\n",
       "      <td>87854</td>\n",
       "      <td>2635.205</td>\n",
       "    </tr>\n",
       "    <tr>\n",
       "      <th>7</th>\n",
       "      <td>Westpoort</td>\n",
       "      <td>192</td>\n",
       "      <td>3872.061</td>\n",
       "    </tr>\n",
       "    <tr>\n",
       "      <th>8</th>\n",
       "      <td>Amsterdam</td>\n",
       "      <td>844952</td>\n",
       "      <td>2565.699</td>\n",
       "    </tr>\n",
       "  </tbody>\n",
       "</table>\n",
       "</div>"
      ],
      "text/plain": [
       "       gebied  bevolking  gem. verbruik\n",
       "0     Centrum      86422       2869.104\n",
       "1        West     143842       2311.251\n",
       "2  Nieuw-West     151677       2550.940\n",
       "3        Zuid     144432       2627.577\n",
       "4        Oost     135767       2514.696\n",
       "5       Noord      94766       2583.748\n",
       "6    Zuidoost      87854       2635.205\n",
       "7   Westpoort        192       3872.061\n",
       "8   Amsterdam     844952       2565.699"
      ]
     },
     "execution_count": 21,
     "metadata": {},
     "output_type": "execute_result"
    }
   ],
   "source": [
    "gebieden = pd.DataFrame()\n",
    "\n",
    "gebieden['gebied'] = data_gebieden['gb/std']\n",
    "gebieden['bevolking'] = data_gebieden['bevolking']\n",
    "gebieden['gem. verbruik'] = [2869.104, 2311.251, 2550.94, 2627.577, 2514.696,\n",
    "                                   2583.748, 2635.205, 3872.061, 2565.699]\n",
    "\n",
    "gebieden"
   ]
  },
  {
   "cell_type": "code",
   "execution_count": 29,
   "metadata": {},
   "outputs": [
    {
     "name": "stderr",
     "output_type": "stream",
     "text": [
      "c:\\users\\ninav\\appdata\\local\\programs\\python\\python36-32\\lib\\site-packages\\bokeh\\models\\sources.py:110: BokehUserWarning: ColumnDataSource's columns must be of the same length. Current lengths: ('dates', 1), ('downloads', 10)\n",
      "  \"Current lengths: %s\" % \", \".join(sorted(str((k, len(v))) for k, v in data.items())), BokehUserWarning))\n"
     ]
    },
    {
     "data": {
      "text/plain": [
       "'C:\\\\Nina\\\\KI\\\\DataVis\\\\kunstmatigestroom\\\\Nina\\\\data_table.html'"
      ]
     },
     "execution_count": 29,
     "metadata": {},
     "output_type": "execute_result"
    }
   ],
   "source": [
    "output_file(\"data_table.html\")\n",
    "\n",
    "data = dict(\n",
    "        dates= [data_gebieden['gb/std']],\n",
    "        downloads=[randint(0, 100) for i in range(10)],\n",
    "    )\n",
    "source = ColumnDataSource(data)\n",
    "\n",
    "columns = [\n",
    "        TableColumn(field=\"dates\", title=\"Date\", formatter=DateFormatter()),\n",
    "        TableColumn(field=\"downloads\", title=\"Downloads\"),\n",
    "    ]\n",
    "data_table = DataTable(source=source, columns=columns, width=400, height=280)\n",
    "\n",
    "save(widgetbox(data_table))"
   ]
  },
  {
   "cell_type": "code",
   "execution_count": null,
   "metadata": {},
   "outputs": [],
   "source": []
  }
 ],
 "metadata": {
  "kernelspec": {
   "display_name": "Python 3",
   "language": "python",
   "name": "python3"
  },
  "language_info": {
   "codemirror_mode": {
    "name": "ipython",
    "version": 3
   },
   "file_extension": ".py",
   "mimetype": "text/x-python",
   "name": "python",
   "nbconvert_exporter": "python",
   "pygments_lexer": "ipython3",
   "version": "3.6.5"
  }
 },
 "nbformat": 4,
 "nbformat_minor": 2
}
