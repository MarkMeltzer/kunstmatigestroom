{
 "cells": [
  {
   "cell_type": "code",
   "execution_count": 2,
   "metadata": {},
   "outputs": [],
   "source": [
    "import numpy as np\n",
    "import pandas as pd\n",
    "import math\n",
    "\n",
    "from datetime import date\n",
    "from random import randint\n",
    "\n",
    "from bokeh.io import output_file, show, save\n",
    "from bokeh.layouts import widgetbox\n",
    "from bokeh.models import ColumnDataSource\n",
    "from bokeh.models.widgets import DataTable, DateFormatter, TableColumn"
   ]
  },
  {
   "cell_type": "code",
   "execution_count": 3,
   "metadata": {},
   "outputs": [
    {
     "data": {
      "text/html": [
       "<div>\n",
       "<style scoped>\n",
       "    .dataframe tbody tr th:only-of-type {\n",
       "        vertical-align: middle;\n",
       "    }\n",
       "\n",
       "    .dataframe tbody tr th {\n",
       "        vertical-align: top;\n",
       "    }\n",
       "\n",
       "    .dataframe thead th {\n",
       "        text-align: right;\n",
       "    }\n",
       "</style>\n",
       "<table border=\"1\" class=\"dataframe\">\n",
       "  <thead>\n",
       "    <tr style=\"text-align: right;\">\n",
       "      <th></th>\n",
       "      <th>gb/std</th>\n",
       "      <th>bevolking</th>\n",
       "      <th>woningen</th>\n",
       "      <th>gemiddelde woningbezetting</th>\n",
       "    </tr>\n",
       "  </thead>\n",
       "  <tbody>\n",
       "    <tr>\n",
       "      <th>0</th>\n",
       "      <td>Centrum</td>\n",
       "      <td>86422</td>\n",
       "      <td>54026</td>\n",
       "      <td>1,60</td>\n",
       "    </tr>\n",
       "    <tr>\n",
       "      <th>1</th>\n",
       "      <td>West</td>\n",
       "      <td>143842</td>\n",
       "      <td>78465</td>\n",
       "      <td>1.83</td>\n",
       "    </tr>\n",
       "    <tr>\n",
       "      <th>2</th>\n",
       "      <td>Nieuw-West</td>\n",
       "      <td>151677</td>\n",
       "      <td>64838</td>\n",
       "      <td>2.34</td>\n",
       "    </tr>\n",
       "    <tr>\n",
       "      <th>3</th>\n",
       "      <td>Zuid</td>\n",
       "      <td>144432</td>\n",
       "      <td>80036</td>\n",
       "      <td>1,80</td>\n",
       "    </tr>\n",
       "    <tr>\n",
       "      <th>4</th>\n",
       "      <td>Oost</td>\n",
       "      <td>135767</td>\n",
       "      <td>67430</td>\n",
       "      <td>2.01</td>\n",
       "    </tr>\n",
       "    <tr>\n",
       "      <th>5</th>\n",
       "      <td>Noord</td>\n",
       "      <td>94766</td>\n",
       "      <td>42360</td>\n",
       "      <td>2.24</td>\n",
       "    </tr>\n",
       "    <tr>\n",
       "      <th>6</th>\n",
       "      <td>Zuidoost</td>\n",
       "      <td>87854</td>\n",
       "      <td>40665</td>\n",
       "      <td>2.16</td>\n",
       "    </tr>\n",
       "    <tr>\n",
       "      <th>7</th>\n",
       "      <td>Westpoort</td>\n",
       "      <td>192</td>\n",
       "      <td>38</td>\n",
       "      <td>5.05</td>\n",
       "    </tr>\n",
       "    <tr>\n",
       "      <th>8</th>\n",
       "      <td>Amsterdam</td>\n",
       "      <td>844952</td>\n",
       "      <td>427858</td>\n",
       "      <td>1.97</td>\n",
       "    </tr>\n",
       "  </tbody>\n",
       "</table>\n",
       "</div>"
      ],
      "text/plain": [
       "       gb/std  bevolking  woningen gemiddelde woningbezetting\n",
       "0     Centrum      86422     54026                       1,60\n",
       "1        West     143842     78465                       1.83\n",
       "2  Nieuw-West     151677     64838                       2.34\n",
       "3        Zuid     144432     80036                       1,80\n",
       "4        Oost     135767     67430                       2.01\n",
       "5       Noord      94766     42360                       2.24\n",
       "6    Zuidoost      87854     40665                       2.16\n",
       "7   Westpoort        192        38                       5.05\n",
       "8   Amsterdam     844952    427858                       1.97"
      ]
     },
     "execution_count": 3,
     "metadata": {},
     "output_type": "execute_result"
    }
   ],
   "source": [
    "data_gebieden = pd.read_csv('stadsdelen_schoon.csv', sep='\\t')\n",
    "data_gebieden"
   ]
  },
  {
   "cell_type": "code",
   "execution_count": 18,
   "metadata": {},
   "outputs": [],
   "source": [
    "data_stroomgas = pd.read_csv('../datasets/LianderTotaalBEWERKT.csv', sep='\\t', low_memory=False)\n"
   ]
  },
  {
   "cell_type": "code",
   "execution_count": 19,
   "metadata": {},
   "outputs": [],
   "source": [
    "data_stroom = data_stroomgas[data_stroomgas['PRODUCTSOORT'] == 'ELK']\n"
   ]
  },
  {
   "cell_type": "code",
   "execution_count": 23,
   "metadata": {},
   "outputs": [
    {
     "data": {
      "text/html": [
       "<div>\n",
       "<style scoped>\n",
       "    .dataframe tbody tr th:only-of-type {\n",
       "        vertical-align: middle;\n",
       "    }\n",
       "\n",
       "    .dataframe tbody tr th {\n",
       "        vertical-align: top;\n",
       "    }\n",
       "\n",
       "    .dataframe thead th {\n",
       "        text-align: right;\n",
       "    }\n",
       "</style>\n",
       "<table border=\"1\" class=\"dataframe\">\n",
       "  <thead>\n",
       "    <tr style=\"text-align: right;\">\n",
       "      <th></th>\n",
       "      <th>SJV</th>\n",
       "      <th>jaar</th>\n",
       "    </tr>\n",
       "  </thead>\n",
       "  <tbody>\n",
       "    <tr>\n",
       "      <th>count</th>\n",
       "      <td>27267.000000</td>\n",
       "      <td>27267.000000</td>\n",
       "    </tr>\n",
       "    <tr>\n",
       "      <th>mean</th>\n",
       "      <td>2021.036858</td>\n",
       "      <td>2014.013423</td>\n",
       "    </tr>\n",
       "    <tr>\n",
       "      <th>std</th>\n",
       "      <td>959.073452</td>\n",
       "      <td>1.999056</td>\n",
       "    </tr>\n",
       "    <tr>\n",
       "      <th>min</th>\n",
       "      <td>459.000000</td>\n",
       "      <td>2011.000000</td>\n",
       "    </tr>\n",
       "    <tr>\n",
       "      <th>25%</th>\n",
       "      <td>1239.000000</td>\n",
       "      <td>2012.000000</td>\n",
       "    </tr>\n",
       "    <tr>\n",
       "      <th>50%</th>\n",
       "      <td>1828.000000</td>\n",
       "      <td>2014.000000</td>\n",
       "    </tr>\n",
       "    <tr>\n",
       "      <th>75%</th>\n",
       "      <td>2571.000000</td>\n",
       "      <td>2016.000000</td>\n",
       "    </tr>\n",
       "    <tr>\n",
       "      <th>max</th>\n",
       "      <td>5300.000000</td>\n",
       "      <td>2017.000000</td>\n",
       "    </tr>\n",
       "  </tbody>\n",
       "</table>\n",
       "</div>"
      ],
      "text/plain": [
       "                SJV          jaar\n",
       "count  27267.000000  27267.000000\n",
       "mean    2021.036858   2014.013423\n",
       "std      959.073452      1.999056\n",
       "min      459.000000   2011.000000\n",
       "25%     1239.000000   2012.000000\n",
       "50%     1828.000000   2014.000000\n",
       "75%     2571.000000   2016.000000\n",
       "max     5300.000000   2017.000000"
      ]
     },
     "execution_count": 23,
     "metadata": {},
     "output_type": "execute_result"
    }
   ],
   "source": [
    "centrum = data_stroom[data_stroom['WIJKEN'] == 'CENTRUM']  \n",
    "west = data_stroom[data_stroom['WIJKEN'] == 'WEST']  \n",
    "nieuw_west = data_stroom[data_stroom['WIJKEN'] == 'NIEUW-WEST']  \n",
    "zuid = data_stroom[data_stroom['WIJKEN'] == 'ZUID']  \n",
    "oost = data_stroom[data_stroom['WIJKEN'] == 'OOST']  \n",
    "noord = data_stroom[data_stroom['WIJKEN'] == 'NOORD']  \n",
    "zuidoost = data_stroom[data_stroom['WIJKEN'] == 'ZUIDOOST']  \n",
    "westpoort = data_stroom[data_stroom['WIJKEN'] == 'WESTPOORT'] \n",
    "\n",
    "noord_ = data_stroomgas[data_stroomgas['WIJKEN'] == 'NOORD'] \n",
    "west_poort = data_stroomgas[data_stroomgas['WIJKEN'] == 'WESTPOORT'] \n",
    "noord_.describe()"
   ]
  },
  {
   "cell_type": "code",
   "execution_count": 7,
   "metadata": {},
   "outputs": [
    {
     "name": "stdout",
     "output_type": "stream",
     "text": [
      "3872.06\n"
     ]
    }
   ],
   "source": [
    "mean = round(float(westpoort['SJV'].mean()),2)\n",
    "print(mean)"
   ]
  },
  {
   "cell_type": "code",
   "execution_count": 8,
   "metadata": {},
   "outputs": [
    {
     "name": "stdout",
     "output_type": "stream",
     "text": [
      "2565.7\n"
     ]
    }
   ],
   "source": [
    "gemAdam = round(float(data_stroom['SJV'].mean()),2)\n",
    "print(gemAdam)"
   ]
  },
  {
   "cell_type": "code",
   "execution_count": 9,
   "metadata": {},
   "outputs": [
    {
     "name": "stdout",
     "output_type": "stream",
     "text": [
      "3872.06\n"
     ]
    }
   ],
   "source": [
    "verschil = mean - gemAdam\n",
    "\n",
    "print(mean)"
   ]
  },
  {
   "cell_type": "code",
   "execution_count": 10,
   "metadata": {},
   "outputs": [],
   "source": [
    "gebieden = pd.DataFrame()\n",
    "\n"
   ]
  },
  {
   "cell_type": "code",
   "execution_count": 11,
   "metadata": {},
   "outputs": [
    {
     "data": {
      "text/html": [
       "<div>\n",
       "<style scoped>\n",
       "    .dataframe tbody tr th:only-of-type {\n",
       "        vertical-align: middle;\n",
       "    }\n",
       "\n",
       "    .dataframe tbody tr th {\n",
       "        vertical-align: top;\n",
       "    }\n",
       "\n",
       "    .dataframe thead th {\n",
       "        text-align: right;\n",
       "    }\n",
       "</style>\n",
       "<table border=\"1\" class=\"dataframe\">\n",
       "  <thead>\n",
       "    <tr style=\"text-align: right;\">\n",
       "      <th></th>\n",
       "      <th>gebied</th>\n",
       "      <th>bevolking</th>\n",
       "      <th>gem. verbruik</th>\n",
       "      <th>verschil</th>\n",
       "    </tr>\n",
       "  </thead>\n",
       "  <tbody>\n",
       "    <tr>\n",
       "      <th>0</th>\n",
       "      <td>Centrum</td>\n",
       "      <td>86422</td>\n",
       "      <td>2869.104</td>\n",
       "      <td>303.40</td>\n",
       "    </tr>\n",
       "    <tr>\n",
       "      <th>1</th>\n",
       "      <td>West</td>\n",
       "      <td>143842</td>\n",
       "      <td>2311.251</td>\n",
       "      <td>-254.45</td>\n",
       "    </tr>\n",
       "    <tr>\n",
       "      <th>2</th>\n",
       "      <td>Nieuw-West</td>\n",
       "      <td>151677</td>\n",
       "      <td>2550.940</td>\n",
       "      <td>-14.76</td>\n",
       "    </tr>\n",
       "    <tr>\n",
       "      <th>3</th>\n",
       "      <td>Zuid</td>\n",
       "      <td>144432</td>\n",
       "      <td>2627.577</td>\n",
       "      <td>61.88</td>\n",
       "    </tr>\n",
       "    <tr>\n",
       "      <th>4</th>\n",
       "      <td>Oost</td>\n",
       "      <td>135767</td>\n",
       "      <td>2514.696</td>\n",
       "      <td>-51.00</td>\n",
       "    </tr>\n",
       "    <tr>\n",
       "      <th>5</th>\n",
       "      <td>Noord</td>\n",
       "      <td>94766</td>\n",
       "      <td>2583.748</td>\n",
       "      <td>18.05</td>\n",
       "    </tr>\n",
       "    <tr>\n",
       "      <th>6</th>\n",
       "      <td>Zuidoost</td>\n",
       "      <td>87854</td>\n",
       "      <td>2635.205</td>\n",
       "      <td>69.51</td>\n",
       "    </tr>\n",
       "    <tr>\n",
       "      <th>7</th>\n",
       "      <td>Westpoort</td>\n",
       "      <td>192</td>\n",
       "      <td>3872.061</td>\n",
       "      <td>1306.36</td>\n",
       "    </tr>\n",
       "    <tr>\n",
       "      <th>8</th>\n",
       "      <td>Amsterdam</td>\n",
       "      <td>844952</td>\n",
       "      <td>2565.699</td>\n",
       "      <td>-0.00</td>\n",
       "    </tr>\n",
       "  </tbody>\n",
       "</table>\n",
       "</div>"
      ],
      "text/plain": [
       "       gebied  bevolking  gem. verbruik  verschil\n",
       "0     Centrum      86422       2869.104    303.40\n",
       "1        West     143842       2311.251   -254.45\n",
       "2  Nieuw-West     151677       2550.940    -14.76\n",
       "3        Zuid     144432       2627.577     61.88\n",
       "4        Oost     135767       2514.696    -51.00\n",
       "5       Noord      94766       2583.748     18.05\n",
       "6    Zuidoost      87854       2635.205     69.51\n",
       "7   Westpoort        192       3872.061   1306.36\n",
       "8   Amsterdam     844952       2565.699     -0.00"
      ]
     },
     "execution_count": 11,
     "metadata": {},
     "output_type": "execute_result"
    }
   ],
   "source": [
    "gebieden['gebied'] = data_gebieden['gb/std']\n",
    "gebieden['bevolking'] = data_gebieden['bevolking']\n",
    "gebieden['gem. verbruik'] = [2869.104, 2311.251, 2550.94, 2627.577, 2514.696,\n",
    "                                   2583.748, 2635.205, 3872.061, 2565.699]\n",
    "\n",
    "gebieden['verschil'] = round(gebieden['gem. verbruik'] - gemAdam,2)\n",
    "\n",
    "gebieden"
   ]
  },
  {
   "cell_type": "code",
   "execution_count": 12,
   "metadata": {},
   "outputs": [
    {
     "name": "stderr",
     "output_type": "stream",
     "text": [
      "c:\\users\\ninav\\appdata\\local\\programs\\python\\python36-32\\lib\\site-packages\\ipykernel_launcher.py:1: DeprecationWarning: \n",
      ".ix is deprecated. Please use\n",
      ".loc for label based indexing or\n",
      ".iloc for positional indexing\n",
      "\n",
      "See the documentation here:\n",
      "http://pandas.pydata.org/pandas-docs/stable/indexing.html#ix-indexer-is-deprecated\n",
      "  \"\"\"Entry point for launching an IPython kernel.\n"
     ]
    },
    {
     "data": {
      "text/html": [
       "<div>\n",
       "<style scoped>\n",
       "    .dataframe tbody tr th:only-of-type {\n",
       "        vertical-align: middle;\n",
       "    }\n",
       "\n",
       "    .dataframe tbody tr th {\n",
       "        vertical-align: top;\n",
       "    }\n",
       "\n",
       "    .dataframe thead th {\n",
       "        text-align: right;\n",
       "    }\n",
       "</style>\n",
       "<table border=\"1\" class=\"dataframe\">\n",
       "  <thead>\n",
       "    <tr style=\"text-align: right;\">\n",
       "      <th></th>\n",
       "      <th>gebied</th>\n",
       "      <th>bevolking</th>\n",
       "      <th>gem. verbruik</th>\n",
       "      <th>verschil</th>\n",
       "    </tr>\n",
       "  </thead>\n",
       "  <tbody>\n",
       "    <tr>\n",
       "      <th>0</th>\n",
       "      <td>Centrum</td>\n",
       "      <td>86422</td>\n",
       "      <td>2869.104</td>\n",
       "      <td>303.40</td>\n",
       "    </tr>\n",
       "    <tr>\n",
       "      <th>1</th>\n",
       "      <td>West</td>\n",
       "      <td>143842</td>\n",
       "      <td>2311.251</td>\n",
       "      <td>-254.45</td>\n",
       "    </tr>\n",
       "    <tr>\n",
       "      <th>2</th>\n",
       "      <td>Nieuw-West</td>\n",
       "      <td>151677</td>\n",
       "      <td>2550.940</td>\n",
       "      <td>-14.76</td>\n",
       "    </tr>\n",
       "    <tr>\n",
       "      <th>3</th>\n",
       "      <td>Zuid</td>\n",
       "      <td>144432</td>\n",
       "      <td>2627.577</td>\n",
       "      <td>61.88</td>\n",
       "    </tr>\n",
       "    <tr>\n",
       "      <th>4</th>\n",
       "      <td>Oost</td>\n",
       "      <td>135767</td>\n",
       "      <td>2514.696</td>\n",
       "      <td>-51.00</td>\n",
       "    </tr>\n",
       "    <tr>\n",
       "      <th>5</th>\n",
       "      <td>Noord</td>\n",
       "      <td>94766</td>\n",
       "      <td>2583.748</td>\n",
       "      <td>18.05</td>\n",
       "    </tr>\n",
       "    <tr>\n",
       "      <th>6</th>\n",
       "      <td>Zuidoost</td>\n",
       "      <td>87854</td>\n",
       "      <td>2635.205</td>\n",
       "      <td>69.51</td>\n",
       "    </tr>\n",
       "    <tr>\n",
       "      <th>7</th>\n",
       "      <td>Westpoort</td>\n",
       "      <td>192</td>\n",
       "      <td>3872.061</td>\n",
       "      <td>1306.36</td>\n",
       "    </tr>\n",
       "  </tbody>\n",
       "</table>\n",
       "</div>"
      ],
      "text/plain": [
       "       gebied  bevolking  gem. verbruik  verschil\n",
       "0     Centrum      86422       2869.104    303.40\n",
       "1        West     143842       2311.251   -254.45\n",
       "2  Nieuw-West     151677       2550.940    -14.76\n",
       "3        Zuid     144432       2627.577     61.88\n",
       "4        Oost     135767       2514.696    -51.00\n",
       "5       Noord      94766       2583.748     18.05\n",
       "6    Zuidoost      87854       2635.205     69.51\n",
       "7   Westpoort        192       3872.061   1306.36"
      ]
     },
     "execution_count": 12,
     "metadata": {},
     "output_type": "execute_result"
    }
   ],
   "source": [
    "gebieden2 = gebieden.ix[~(gebieden['gebied'] == 'Amsterdam')]\n",
    "gebieden2"
   ]
  },
  {
   "cell_type": "code",
   "execution_count": 13,
   "metadata": {},
   "outputs": [
    {
     "data": {
      "text/plain": [
       "'C:\\\\Nina\\\\KI\\\\DataVis\\\\kunstmatigestroom\\\\Nina\\\\data_table.html'"
      ]
     },
     "execution_count": 13,
     "metadata": {},
     "output_type": "execute_result"
    }
   ],
   "source": [
    "output_file(\"data_table.html\")\n",
    "\n",
    "data = dict(gebieden2[['gebied', 'gem. verbruik', 'verschil']])\n",
    "source = ColumnDataSource(data)\n",
    "\n",
    "columns = [\n",
    "        TableColumn(field=\"gebied\", title=\"gebied\"),\n",
    "        TableColumn(field=\"gem. verbruik\", title=\"gem. verbruik\"),\n",
    "        TableColumn(field=\"verschil\", title=\"verschil\")\n",
    "    ]\n",
    "                    \n",
    "data_table = DataTable(source=source, columns=columns, width=400, height=280)\n",
    "\n",
    "save(widgetbox(data_table))"
   ]
  },
  {
   "cell_type": "code",
   "execution_count": null,
   "metadata": {},
   "outputs": [],
   "source": []
  }
 ],
 "metadata": {
  "kernelspec": {
   "display_name": "Python 3",
   "language": "python",
   "name": "python3"
  },
  "language_info": {
   "codemirror_mode": {
    "name": "ipython",
    "version": 3
   },
   "file_extension": ".py",
   "mimetype": "text/x-python",
   "name": "python",
   "nbconvert_exporter": "python",
   "pygments_lexer": "ipython3",
   "version": "3.6.3"
  }
 },
 "nbformat": 4,
 "nbformat_minor": 2
}
