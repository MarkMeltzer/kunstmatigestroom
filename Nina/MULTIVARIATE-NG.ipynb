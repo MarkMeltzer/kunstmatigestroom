{
 "cells": [
  {
   "cell_type": "code",
   "execution_count": 1,
   "metadata": {},
   "outputs": [],
   "source": [
    "import numpy as np\n",
    "import pandas as pd"
   ]
  },
  {
   "cell_type": "code",
   "execution_count": 4,
   "metadata": {},
   "outputs": [
    {
     "data": {
      "text/html": [
       "<div>\n",
       "<style scoped>\n",
       "    .dataframe tbody tr th:only-of-type {\n",
       "        vertical-align: middle;\n",
       "    }\n",
       "\n",
       "    .dataframe tbody tr th {\n",
       "        vertical-align: top;\n",
       "    }\n",
       "\n",
       "    .dataframe thead th {\n",
       "        text-align: right;\n",
       "    }\n",
       "</style>\n",
       "<table border=\"1\" class=\"dataframe\">\n",
       "  <thead>\n",
       "    <tr style=\"text-align: right;\">\n",
       "      <th></th>\n",
       "      <th>gb/std</th>\n",
       "      <th>bevolking</th>\n",
       "      <th>woningen</th>\n",
       "      <th>gemiddelde woningbezetting</th>\n",
       "    </tr>\n",
       "  </thead>\n",
       "  <tbody>\n",
       "    <tr>\n",
       "      <th>0</th>\n",
       "      <td>A Centrum</td>\n",
       "      <td>86422</td>\n",
       "      <td>54026</td>\n",
       "      <td>1,60</td>\n",
       "    </tr>\n",
       "    <tr>\n",
       "      <th>1</th>\n",
       "      <td>E West</td>\n",
       "      <td>143842</td>\n",
       "      <td>78465</td>\n",
       "      <td>1.83</td>\n",
       "    </tr>\n",
       "    <tr>\n",
       "      <th>2</th>\n",
       "      <td>F Nieuw-West</td>\n",
       "      <td>151677</td>\n",
       "      <td>64838</td>\n",
       "      <td>2.34</td>\n",
       "    </tr>\n",
       "    <tr>\n",
       "      <th>3</th>\n",
       "      <td>K Zuid</td>\n",
       "      <td>144432</td>\n",
       "      <td>80036</td>\n",
       "      <td>1,80</td>\n",
       "    </tr>\n",
       "    <tr>\n",
       "      <th>4</th>\n",
       "      <td>M Oost</td>\n",
       "      <td>135767</td>\n",
       "      <td>67430</td>\n",
       "      <td>2.01</td>\n",
       "    </tr>\n",
       "    <tr>\n",
       "      <th>5</th>\n",
       "      <td>N Noord</td>\n",
       "      <td>94766</td>\n",
       "      <td>42360</td>\n",
       "      <td>2.24</td>\n",
       "    </tr>\n",
       "    <tr>\n",
       "      <th>6</th>\n",
       "      <td>T Zuidoost</td>\n",
       "      <td>87854</td>\n",
       "      <td>40665</td>\n",
       "      <td>2.16</td>\n",
       "    </tr>\n",
       "    <tr>\n",
       "      <th>7</th>\n",
       "      <td>ZX99 Westpoort</td>\n",
       "      <td>192</td>\n",
       "      <td>38</td>\n",
       "      <td>5.05</td>\n",
       "    </tr>\n",
       "    <tr>\n",
       "      <th>8</th>\n",
       "      <td>ASD Amsterdam</td>\n",
       "      <td>844952</td>\n",
       "      <td>427858</td>\n",
       "      <td>1.97</td>\n",
       "    </tr>\n",
       "  </tbody>\n",
       "</table>\n",
       "</div>"
      ],
      "text/plain": [
       "           gb/std  bevolking  woningen gemiddelde woningbezetting\n",
       "0       A Centrum      86422     54026                       1,60\n",
       "1          E West     143842     78465                       1.83\n",
       "2    F Nieuw-West     151677     64838                       2.34\n",
       "3          K Zuid     144432     80036                       1,80\n",
       "4          M Oost     135767     67430                       2.01\n",
       "5         N Noord      94766     42360                       2.24\n",
       "6      T Zuidoost      87854     40665                       2.16\n",
       "7  ZX99 Westpoort        192        38                       5.05\n",
       "8   ASD Amsterdam     844952    427858                       1.97"
      ]
     },
     "execution_count": 4,
     "metadata": {},
     "output_type": "execute_result"
    }
   ],
   "source": [
    "data_gebieden = pd.read_csv('stadsdelen_schoon.csv', sep='\\t')\n",
    "data_gebieden"
   ]
  },
  {
   "cell_type": "code",
   "execution_count": 19,
   "metadata": {},
   "outputs": [],
   "source": [
    "data_stroom = pd.read_csv('../datasets/LianderTotaalBEWERKT.csv', sep='\\t', low_memory=False)\n"
   ]
  },
  {
   "cell_type": "code",
   "execution_count": 46,
   "metadata": {},
   "outputs": [],
   "source": [
    "centrum = data_stroom.loc[data_stroom['WIJKEN'] == 'CENTRUM']  \n",
    "west = data_stroom.loc[data_stroom['WIJKEN'] == 'WEST']  \n",
    "nieuw_west = data_stroom.loc[data_stroom['WIJKEN'] == 'NIEUW-WEST']  \n",
    "zuid = data_stroom.loc[data_stroom['WIJKEN'] == 'ZUID']  \n",
    "oost = data_stroom.loc[data_stroom['WIJKEN'] == 'OOST']  \n",
    "noord = data_stroom.loc[data_stroom['WIJKEN'] == 'NOORD']  \n",
    "zuidoost = data_stroom.loc[data_stroom['WIJKEN'] == 'ZUIDOOST']  \n",
    "westpoort = data_stroom.loc[data_stroom['WIJKEN'] == 'WESTPOORT']  "
   ]
  },
  {
   "cell_type": "code",
   "execution_count": null,
   "metadata": {},
   "outputs": [],
   "source": []
  },
  {
   "cell_type": "code",
   "execution_count": 50,
   "metadata": {},
   "outputs": [
    {
     "name": "stdout",
     "output_type": "stream",
     "text": [
      "60903967\n",
      "35061\n",
      "gemiddelde = 1737.0858503750605\n"
     ]
    }
   ],
   "source": [
    "stroom = []\n",
    "total = 0\n",
    "counter = 0\n",
    "\n",
    "for value in west['SJV']:\n",
    "    total = total + value\n",
    "    counter += 1\n",
    "\n",
    "\n",
    "print(total)\n",
    "print(counter)\n",
    "print('gemiddelde = {}'.format(total / counter))"
   ]
  },
  {
   "cell_type": "code",
   "execution_count": 15,
   "metadata": {},
   "outputs": [
    {
     "data": {
      "text/html": [
       "<div>\n",
       "<style scoped>\n",
       "    .dataframe tbody tr th:only-of-type {\n",
       "        vertical-align: middle;\n",
       "    }\n",
       "\n",
       "    .dataframe tbody tr th {\n",
       "        vertical-align: top;\n",
       "    }\n",
       "\n",
       "    .dataframe thead th {\n",
       "        text-align: right;\n",
       "    }\n",
       "</style>\n",
       "<table border=\"1\" class=\"dataframe\">\n",
       "  <thead>\n",
       "    <tr style=\"text-align: right;\">\n",
       "      <th></th>\n",
       "      <th>gebied</th>\n",
       "      <th>bevolking</th>\n",
       "    </tr>\n",
       "  </thead>\n",
       "  <tbody>\n",
       "    <tr>\n",
       "      <th>0</th>\n",
       "      <td>A Centrum</td>\n",
       "      <td>86422</td>\n",
       "    </tr>\n",
       "    <tr>\n",
       "      <th>1</th>\n",
       "      <td>E West</td>\n",
       "      <td>143842</td>\n",
       "    </tr>\n",
       "    <tr>\n",
       "      <th>2</th>\n",
       "      <td>F Nieuw-West</td>\n",
       "      <td>151677</td>\n",
       "    </tr>\n",
       "    <tr>\n",
       "      <th>3</th>\n",
       "      <td>K Zuid</td>\n",
       "      <td>144432</td>\n",
       "    </tr>\n",
       "    <tr>\n",
       "      <th>4</th>\n",
       "      <td>M Oost</td>\n",
       "      <td>135767</td>\n",
       "    </tr>\n",
       "    <tr>\n",
       "      <th>5</th>\n",
       "      <td>N Noord</td>\n",
       "      <td>94766</td>\n",
       "    </tr>\n",
       "    <tr>\n",
       "      <th>6</th>\n",
       "      <td>T Zuidoost</td>\n",
       "      <td>87854</td>\n",
       "    </tr>\n",
       "    <tr>\n",
       "      <th>7</th>\n",
       "      <td>ZX99 Westpoort</td>\n",
       "      <td>192</td>\n",
       "    </tr>\n",
       "    <tr>\n",
       "      <th>8</th>\n",
       "      <td>ASD Amsterdam</td>\n",
       "      <td>844952</td>\n",
       "    </tr>\n",
       "  </tbody>\n",
       "</table>\n",
       "</div>"
      ],
      "text/plain": [
       "           gebied  bevolking\n",
       "0       A Centrum      86422\n",
       "1          E West     143842\n",
       "2    F Nieuw-West     151677\n",
       "3          K Zuid     144432\n",
       "4          M Oost     135767\n",
       "5         N Noord      94766\n",
       "6      T Zuidoost      87854\n",
       "7  ZX99 Westpoort        192\n",
       "8   ASD Amsterdam     844952"
      ]
     },
     "execution_count": 15,
     "metadata": {},
     "output_type": "execute_result"
    }
   ],
   "source": [
    "gebieden = pd.DataFrame()\n",
    "\n",
    "gebieden['gebied'] = data_gebieden['gb/std']\n",
    "gebieden['bevolking'] = data_gebieden['bevolking']\n",
    "gebieden"
   ]
  },
  {
   "cell_type": "code",
   "execution_count": null,
   "metadata": {},
   "outputs": [],
   "source": []
  }
 ],
 "metadata": {
  "kernelspec": {
   "display_name": "Python 3",
   "language": "python",
   "name": "python3"
  },
  "language_info": {
   "codemirror_mode": {
    "name": "ipython",
    "version": 3
   },
   "file_extension": ".py",
   "mimetype": "text/x-python",
   "name": "python",
   "nbconvert_exporter": "python",
   "pygments_lexer": "ipython3",
   "version": "3.6.3"
  }
 },
 "nbformat": 4,
 "nbformat_minor": 2
}
